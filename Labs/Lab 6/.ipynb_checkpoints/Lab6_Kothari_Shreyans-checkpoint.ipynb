{
 "cells": [
  {
   "cell_type": "markdown",
   "id": "5cee5ec1",
   "metadata": {},
   "source": [
    "# Data Analysis for Social Sciences: Lab 6\n",
    "***UNI:*** sk4819 | ***Date:*** December 11, 2021"
   ]
  },
  {
   "cell_type": "code",
   "execution_count": 1,
   "id": "8304f1c7",
   "metadata": {},
   "outputs": [],
   "source": [
    "#Importing libraries\n",
    "from __future__ import division\n",
    "import pandas as pd\n",
    "import numpy as np\n",
    "import statsmodels.api as sm\n",
    "import statsmodels.formula.api as smf\n",
    "import os\n",
    "import matplotlib.pyplot as plt\n",
    "import linearmodels as lm\n",
    "\n",
    "from linearmodels import PanelOLS\n",
    "from linearmodels import RandomEffects\n",
    "from linearmodels import FirstDifferenceOLS"
   ]
  },
  {
   "cell_type": "code",
   "execution_count": 3,
   "id": "8a7040fc",
   "metadata": {},
   "outputs": [
    {
     "data": {
      "text/plain": [
       "'/Users/shreyanskothari/Desktop/Data Analysis for Social Sciences/Labs/Lab 6'"
      ]
     },
     "execution_count": 3,
     "metadata": {},
     "output_type": "execute_result"
    }
   ],
   "source": [
    "os.getcwd()"
   ]
  },
  {
   "cell_type": "code",
   "execution_count": 4,
   "id": "680166ce",
   "metadata": {},
   "outputs": [],
   "source": [
    "gss = pd.read_csv(\"GSS.2006.csv.xls\", sep = ',')"
   ]
  },
  {
   "cell_type": "code",
   "execution_count": 5,
   "id": "e0dbd104",
   "metadata": {},
   "outputs": [
    {
     "data": {
      "text/html": [
       "<div>\n",
       "<style scoped>\n",
       "    .dataframe tbody tr th:only-of-type {\n",
       "        vertical-align: middle;\n",
       "    }\n",
       "\n",
       "    .dataframe tbody tr th {\n",
       "        vertical-align: top;\n",
       "    }\n",
       "\n",
       "    .dataframe thead th {\n",
       "        text-align: right;\n",
       "    }\n",
       "</style>\n",
       "<table border=\"1\" class=\"dataframe\">\n",
       "  <thead>\n",
       "    <tr style=\"text-align: right;\">\n",
       "      <th></th>\n",
       "      <th>vpsu</th>\n",
       "      <th>vstrat</th>\n",
       "      <th>adults</th>\n",
       "      <th>ballot</th>\n",
       "      <th>dateintv</th>\n",
       "      <th>famgen</th>\n",
       "      <th>form</th>\n",
       "      <th>formwt</th>\n",
       "      <th>gender1</th>\n",
       "      <th>hompop</th>\n",
       "      <th>...</th>\n",
       "      <th>away7</th>\n",
       "      <th>gender14</th>\n",
       "      <th>old14</th>\n",
       "      <th>relate14</th>\n",
       "      <th>relhh14</th>\n",
       "      <th>relhhd14</th>\n",
       "      <th>relsp14</th>\n",
       "      <th>where12</th>\n",
       "      <th>where6</th>\n",
       "      <th>where7</th>\n",
       "    </tr>\n",
       "  </thead>\n",
       "  <tbody>\n",
       "    <tr>\n",
       "      <th>0</th>\n",
       "      <td>1</td>\n",
       "      <td>1957</td>\n",
       "      <td>1</td>\n",
       "      <td>3</td>\n",
       "      <td>316</td>\n",
       "      <td>2</td>\n",
       "      <td>1</td>\n",
       "      <td>1</td>\n",
       "      <td>2</td>\n",
       "      <td>3</td>\n",
       "      <td>...</td>\n",
       "      <td>NaN</td>\n",
       "      <td>NaN</td>\n",
       "      <td>NaN</td>\n",
       "      <td>NaN</td>\n",
       "      <td>NaN</td>\n",
       "      <td>NaN</td>\n",
       "      <td>NaN</td>\n",
       "      <td>NaN</td>\n",
       "      <td>NaN</td>\n",
       "      <td>NaN</td>\n",
       "    </tr>\n",
       "    <tr>\n",
       "      <th>1</th>\n",
       "      <td>1</td>\n",
       "      <td>1957</td>\n",
       "      <td>2</td>\n",
       "      <td>2</td>\n",
       "      <td>630</td>\n",
       "      <td>1</td>\n",
       "      <td>2</td>\n",
       "      <td>1</td>\n",
       "      <td>2</td>\n",
       "      <td>2</td>\n",
       "      <td>...</td>\n",
       "      <td>NaN</td>\n",
       "      <td>NaN</td>\n",
       "      <td>NaN</td>\n",
       "      <td>NaN</td>\n",
       "      <td>NaN</td>\n",
       "      <td>NaN</td>\n",
       "      <td>NaN</td>\n",
       "      <td>NaN</td>\n",
       "      <td>NaN</td>\n",
       "      <td>NaN</td>\n",
       "    </tr>\n",
       "    <tr>\n",
       "      <th>2</th>\n",
       "      <td>1</td>\n",
       "      <td>1957</td>\n",
       "      <td>2</td>\n",
       "      <td>2</td>\n",
       "      <td>314</td>\n",
       "      <td>2</td>\n",
       "      <td>1</td>\n",
       "      <td>1</td>\n",
       "      <td>2</td>\n",
       "      <td>2</td>\n",
       "      <td>...</td>\n",
       "      <td>NaN</td>\n",
       "      <td>NaN</td>\n",
       "      <td>NaN</td>\n",
       "      <td>NaN</td>\n",
       "      <td>NaN</td>\n",
       "      <td>NaN</td>\n",
       "      <td>NaN</td>\n",
       "      <td>NaN</td>\n",
       "      <td>NaN</td>\n",
       "      <td>NaN</td>\n",
       "    </tr>\n",
       "    <tr>\n",
       "      <th>3</th>\n",
       "      <td>1</td>\n",
       "      <td>1957</td>\n",
       "      <td>1</td>\n",
       "      <td>1</td>\n",
       "      <td>313</td>\n",
       "      <td>1</td>\n",
       "      <td>2</td>\n",
       "      <td>1</td>\n",
       "      <td>2</td>\n",
       "      <td>1</td>\n",
       "      <td>...</td>\n",
       "      <td>NaN</td>\n",
       "      <td>NaN</td>\n",
       "      <td>NaN</td>\n",
       "      <td>NaN</td>\n",
       "      <td>NaN</td>\n",
       "      <td>NaN</td>\n",
       "      <td>NaN</td>\n",
       "      <td>NaN</td>\n",
       "      <td>NaN</td>\n",
       "      <td>NaN</td>\n",
       "    </tr>\n",
       "    <tr>\n",
       "      <th>4</th>\n",
       "      <td>1</td>\n",
       "      <td>1957</td>\n",
       "      <td>3</td>\n",
       "      <td>1</td>\n",
       "      <td>322</td>\n",
       "      <td>2</td>\n",
       "      <td>2</td>\n",
       "      <td>1</td>\n",
       "      <td>2</td>\n",
       "      <td>3</td>\n",
       "      <td>...</td>\n",
       "      <td>NaN</td>\n",
       "      <td>NaN</td>\n",
       "      <td>NaN</td>\n",
       "      <td>NaN</td>\n",
       "      <td>NaN</td>\n",
       "      <td>NaN</td>\n",
       "      <td>NaN</td>\n",
       "      <td>NaN</td>\n",
       "      <td>NaN</td>\n",
       "      <td>NaN</td>\n",
       "    </tr>\n",
       "  </tbody>\n",
       "</table>\n",
       "<p>5 rows × 1261 columns</p>\n",
       "</div>"
      ],
      "text/plain": [
       "   vpsu  vstrat  adults  ballot  dateintv  famgen  form  formwt  gender1  \\\n",
       "0     1    1957       1       3       316       2     1       1        2   \n",
       "1     1    1957       2       2       630       1     2       1        2   \n",
       "2     1    1957       2       2       314       2     1       1        2   \n",
       "3     1    1957       1       1       313       1     2       1        2   \n",
       "4     1    1957       3       1       322       2     2       1        2   \n",
       "\n",
       "   hompop  ...  away7  gender14  old14  relate14  relhh14  relhhd14  relsp14  \\\n",
       "0       3  ...    NaN       NaN    NaN       NaN      NaN       NaN      NaN   \n",
       "1       2  ...    NaN       NaN    NaN       NaN      NaN       NaN      NaN   \n",
       "2       2  ...    NaN       NaN    NaN       NaN      NaN       NaN      NaN   \n",
       "3       1  ...    NaN       NaN    NaN       NaN      NaN       NaN      NaN   \n",
       "4       3  ...    NaN       NaN    NaN       NaN      NaN       NaN      NaN   \n",
       "\n",
       "   where12  where6  where7  \n",
       "0      NaN     NaN     NaN  \n",
       "1      NaN     NaN     NaN  \n",
       "2      NaN     NaN     NaN  \n",
       "3      NaN     NaN     NaN  \n",
       "4      NaN     NaN     NaN  \n",
       "\n",
       "[5 rows x 1261 columns]"
      ]
     },
     "execution_count": 5,
     "metadata": {},
     "output_type": "execute_result"
    }
   ],
   "source": [
    "gss.head()"
   ]
  },
  {
   "cell_type": "markdown",
   "id": "75e95e66",
   "metadata": {},
   "source": [
    "## 1. Run a naive (\"pooled\") OLS regression on the panel data.  Tell we how you expect your Xs to affect your Y and why.  Apply clustered standard errors too.  Interpret your results."
   ]
  },
  {
   "cell_type": "markdown",
   "id": "7c82e776",
   "metadata": {},
   "source": [
    "***I hope to explore how the number of years a respondent works at a job is related with that job's presitge score. Do people that work in 'prestigious' jobs work at that job for longer than people who do less prestigious jobs?\n",
    "I will use `yearsjob` as my dependent variable and `prestg80` as my independent variable. In this model, I am also including `hrs1`, the number of hours the respondent worked in the week prior to taking the survey.***\n",
    "\n",
    "I expect the two variables to be positively strongly related. My assumption is that the jobs that are generally associated with higher prestige are in the fields where individuals have to work for a lot of years (and go through many years of education) in order to get them. Following this logic, as the presitge grows, I would expect people to stay in those jobs for longer; if you put in a lot of work to get a job, I would expect you to stay in that job for a long time. \n",
    "\n",
    "I am very curious about how hrs worked relates to years at a job. I can think of examples that would argue both sides- a positive relation and a negative relation between hours worked and years at a job."
   ]
  },
  {
   "cell_type": "code",
   "execution_count": 30,
   "id": "b369d641",
   "metadata": {},
   "outputs": [
    {
     "data": {
      "text/plain": [
       "count    1713.000000\n",
       "mean        7.391273\n",
       "std         8.610467\n",
       "min         0.250000\n",
       "25%         1.000000\n",
       "50%         4.000000\n",
       "75%        10.000000\n",
       "max        60.000000\n",
       "Name: yearsjob, dtype: float64"
      ]
     },
     "execution_count": 30,
     "metadata": {},
     "output_type": "execute_result"
    }
   ],
   "source": [
    "gss.yearsjob.describe()\n"
   ]
  },
  {
   "cell_type": "code",
   "execution_count": 31,
   "id": "dd4b872b",
   "metadata": {},
   "outputs": [
    {
     "data": {
      "text/plain": [
       "count    4270.000000\n",
       "mean       44.167447\n",
       "std        13.999459\n",
       "min        17.000000\n",
       "25%        33.000000\n",
       "50%        43.000000\n",
       "75%        51.000000\n",
       "max        86.000000\n",
       "Name: prestg80, dtype: float64"
      ]
     },
     "execution_count": 31,
     "metadata": {},
     "output_type": "execute_result"
    }
   ],
   "source": [
    "gss.prestg80.describe()"
   ]
  },
  {
   "cell_type": "code",
   "execution_count": 52,
   "id": "0f1161b8",
   "metadata": {},
   "outputs": [
    {
     "data": {
      "text/plain": [
       "count    2739.000000\n",
       "mean       42.076305\n",
       "std        14.231662\n",
       "min         1.000000\n",
       "25%        38.000000\n",
       "50%        40.000000\n",
       "75%        50.000000\n",
       "max        89.000000\n",
       "Name: hrs1, dtype: float64"
      ]
     },
     "execution_count": 52,
     "metadata": {},
     "output_type": "execute_result"
    }
   ],
   "source": [
    "gss.hrs1.describe()"
   ]
  },
  {
   "cell_type": "code",
   "execution_count": 29,
   "id": "5bbc449e",
   "metadata": {},
   "outputs": [
    {
     "data": {
      "text/plain": [
       "<matplotlib.collections.PathCollection at 0x7fa265231d90>"
      ]
     },
     "execution_count": 29,
     "metadata": {},
     "output_type": "execute_result"
    },
    {
     "data": {
      "image/png": "[encoded data removed]",
      "text/plain": [
       "<Figure size 432x288 with 1 Axes>"
      ]
     },
     "metadata": {
      "needs_background": "light"
     },
     "output_type": "display_data"
    }
   ],
   "source": [
    "plt.scatter(gss['yearsjob'], gss['prestg80'])"
   ]
  },
  {
   "cell_type": "markdown",
   "id": "d2a5929c",
   "metadata": {},
   "source": [
    "I will first take the log of both of these continuous variables."
   ]
  },
  {
   "cell_type": "code",
   "execution_count": 43,
   "id": "f34a564c",
   "metadata": {},
   "outputs": [],
   "source": [
    "gss['lnyearsjob'] = np.log(gss['yearsjob']) \n",
    "gss['lnprestg'] = np.log(gss['prestg80']) \n",
    "gss['lnhrs'] = np.log(gss['hrs1']) "
   ]
  },
  {
   "cell_type": "code",
   "execution_count": 44,
   "id": "470f80f2",
   "metadata": {},
   "outputs": [
    {
     "data": {
      "text/html": [
       "<div>\n",
       "<style scoped>\n",
       "    .dataframe tbody tr th:only-of-type {\n",
       "        vertical-align: middle;\n",
       "    }\n",
       "\n",
       "    .dataframe tbody tr th {\n",
       "        vertical-align: top;\n",
       "    }\n",
       "\n",
       "    .dataframe thead th {\n",
       "        text-align: right;\n",
       "    }\n",
       "</style>\n",
       "<table border=\"1\" class=\"dataframe\">\n",
       "  <thead>\n",
       "    <tr style=\"text-align: right;\">\n",
       "      <th></th>\n",
       "      <th>yearsjob</th>\n",
       "      <th>lnyearsjob</th>\n",
       "      <th>prestg80</th>\n",
       "      <th>lnprestg</th>\n",
       "      <th>hrs1</th>\n",
       "      <th>lnhrs</th>\n",
       "    </tr>\n",
       "  </thead>\n",
       "  <tbody>\n",
       "    <tr>\n",
       "      <th>count</th>\n",
       "      <td>1713.000000</td>\n",
       "      <td>1713.000000</td>\n",
       "      <td>4270.000000</td>\n",
       "      <td>4270.000000</td>\n",
       "      <td>2739.000000</td>\n",
       "      <td>2739.000000</td>\n",
       "    </tr>\n",
       "    <tr>\n",
       "      <th>mean</th>\n",
       "      <td>7.391273</td>\n",
       "      <td>1.209428</td>\n",
       "      <td>44.167447</td>\n",
       "      <td>3.735998</td>\n",
       "      <td>42.076305</td>\n",
       "      <td>3.661177</td>\n",
       "    </tr>\n",
       "    <tr>\n",
       "      <th>std</th>\n",
       "      <td>8.610467</td>\n",
       "      <td>1.424566</td>\n",
       "      <td>13.999459</td>\n",
       "      <td>0.327809</td>\n",
       "      <td>14.231662</td>\n",
       "      <td>0.455948</td>\n",
       "    </tr>\n",
       "    <tr>\n",
       "      <th>min</th>\n",
       "      <td>0.250000</td>\n",
       "      <td>-1.386294</td>\n",
       "      <td>17.000000</td>\n",
       "      <td>2.833213</td>\n",
       "      <td>1.000000</td>\n",
       "      <td>0.000000</td>\n",
       "    </tr>\n",
       "    <tr>\n",
       "      <th>25%</th>\n",
       "      <td>1.000000</td>\n",
       "      <td>0.000000</td>\n",
       "      <td>33.000000</td>\n",
       "      <td>3.496508</td>\n",
       "      <td>38.000000</td>\n",
       "      <td>3.637586</td>\n",
       "    </tr>\n",
       "    <tr>\n",
       "      <th>50%</th>\n",
       "      <td>4.000000</td>\n",
       "      <td>1.386294</td>\n",
       "      <td>43.000000</td>\n",
       "      <td>3.761200</td>\n",
       "      <td>40.000000</td>\n",
       "      <td>3.688879</td>\n",
       "    </tr>\n",
       "    <tr>\n",
       "      <th>75%</th>\n",
       "      <td>10.000000</td>\n",
       "      <td>2.302585</td>\n",
       "      <td>51.000000</td>\n",
       "      <td>3.931826</td>\n",
       "      <td>50.000000</td>\n",
       "      <td>3.912023</td>\n",
       "    </tr>\n",
       "    <tr>\n",
       "      <th>max</th>\n",
       "      <td>60.000000</td>\n",
       "      <td>4.094345</td>\n",
       "      <td>86.000000</td>\n",
       "      <td>4.454347</td>\n",
       "      <td>89.000000</td>\n",
       "      <td>4.488636</td>\n",
       "    </tr>\n",
       "  </tbody>\n",
       "</table>\n",
       "</div>"
      ],
      "text/plain": [
       "          yearsjob   lnyearsjob     prestg80     lnprestg         hrs1  \\\n",
       "count  1713.000000  1713.000000  4270.000000  4270.000000  2739.000000   \n",
       "mean      7.391273     1.209428    44.167447     3.735998    42.076305   \n",
       "std       8.610467     1.424566    13.999459     0.327809    14.231662   \n",
       "min       0.250000    -1.386294    17.000000     2.833213     1.000000   \n",
       "25%       1.000000     0.000000    33.000000     3.496508    38.000000   \n",
       "50%       4.000000     1.386294    43.000000     3.761200    40.000000   \n",
       "75%      10.000000     2.302585    51.000000     3.931826    50.000000   \n",
       "max      60.000000     4.094345    86.000000     4.454347    89.000000   \n",
       "\n",
       "             lnhrs  \n",
       "count  2739.000000  \n",
       "mean      3.661177  \n",
       "std       0.455948  \n",
       "min       0.000000  \n",
       "25%       3.637586  \n",
       "50%       3.688879  \n",
       "75%       3.912023  \n",
       "max       4.488636  "
      ]
     },
     "execution_count": 44,
     "metadata": {},
     "output_type": "execute_result"
    }
   ],
   "source": [
    "gss[[\"yearsjob\", \"lnyearsjob\", \"prestg80\", \"lnprestg\", \"hrs1\", \"lnhrs\"]].describe()"
   ]
  },
  {
   "cell_type": "code",
   "execution_count": 54,
   "id": "10290f11",
   "metadata": {},
   "outputs": [
    {
     "name": "stdout",
     "output_type": "stream",
     "text": [
      "                            OLS Regression Results                            \n",
      "==============================================================================\n",
      "Dep. Variable:               yearsjob   R-squared:                       0.011\n",
      "Model:                            OLS   Adj. R-squared:                  0.010\n",
      "Method:                 Least Squares   F-statistic:                     8.988\n",
      "Date:                Sat, 11 Dec 2021   Prob (F-statistic):           0.000131\n",
      "Time:                        20:53:51   Log-Likelihood:                -5904.3\n",
      "No. Observations:                1652   AIC:                         1.181e+04\n",
      "Df Residuals:                    1649   BIC:                         1.183e+04\n",
      "Df Model:                           2                                         \n",
      "Covariance Type:            nonrobust                                         \n",
      "==============================================================================\n",
      "                 coef    std err          t      P>|t|      [0.025      0.975]\n",
      "------------------------------------------------------------------------------\n",
      "Intercept      3.8332      0.880      4.354      0.000       2.106       5.560\n",
      "prestg80       0.0502      0.015      3.277      0.001       0.020       0.080\n",
      "hrs1           0.0314      0.014      2.168      0.030       0.003       0.060\n",
      "==============================================================================\n",
      "Omnibus:                      612.317   Durbin-Watson:                   1.893\n",
      "Prob(Omnibus):                  0.000   Jarque-Bera (JB):             2070.521\n",
      "Skew:                           1.858   Prob(JB):                         0.00\n",
      "Kurtosis:                       7.033   Cond. No.                         265.\n",
      "==============================================================================\n",
      "\n",
      "Notes:\n",
      "[1] Standard Errors assume that the covariance matrix of the errors is correctly specified.\n"
     ]
    }
   ],
   "source": [
    "lm_ols = smf.ols(formula = 'yearsjob ~ prestg80 +hrs1', data = gss).fit()\n",
    "print (lm_ols.summary())"
   ]
  },
  {
   "cell_type": "code",
   "execution_count": 55,
   "id": "ec62fcc9",
   "metadata": {},
   "outputs": [
    {
     "name": "stdout",
     "output_type": "stream",
     "text": [
      "                            OLS Regression Results                            \n",
      "==============================================================================\n",
      "Dep. Variable:             lnyearsjob   R-squared:                       0.031\n",
      "Model:                            OLS   Adj. R-squared:                  0.029\n",
      "Method:                 Least Squares   F-statistic:                     26.03\n",
      "Date:                Sat, 11 Dec 2021   Prob (F-statistic):           7.43e-12\n",
      "Time:                        20:57:11   Log-Likelihood:                -2910.6\n",
      "No. Observations:                1652   AIC:                             5827.\n",
      "Df Residuals:                    1649   BIC:                             5843.\n",
      "Df Model:                           2                                         \n",
      "Covariance Type:            nonrobust                                         \n",
      "==============================================================================\n",
      "                 coef    std err          t      P>|t|      [0.025      0.975]\n",
      "------------------------------------------------------------------------------\n",
      "Intercept     -2.0585      0.455     -4.529      0.000      -2.950      -1.167\n",
      "lnprestg       0.6545      0.109      6.029      0.000       0.442       0.867\n",
      "lnhrs          0.2197      0.072      3.056      0.002       0.079       0.361\n",
      "==============================================================================\n",
      "Omnibus:                      183.171   Durbin-Watson:                   1.903\n",
      "Prob(Omnibus):                  0.000   Jarque-Bera (JB):               71.381\n",
      "Skew:                          -0.292   Prob(JB):                     3.16e-16\n",
      "Kurtosis:                       2.166   Cond. No.                         71.7\n",
      "==============================================================================\n",
      "\n",
      "Notes:\n",
      "[1] Standard Errors assume that the covariance matrix of the errors is correctly specified.\n"
     ]
    }
   ],
   "source": [
    "lm_ols1 = smf.ols(formula = 'lnyearsjob ~ lnprestg +lnhrs', data = gss).fit()\n",
    "print (lm_ols1.summary())"
   ]
  },
  {
   "cell_type": "code",
   "execution_count": null,
   "id": "3f4a9f0f",
   "metadata": {},
   "outputs": [],
   "source": []
  },
  {
   "cell_type": "markdown",
   "id": "b61644c9",
   "metadata": {},
   "source": [
    "___\n",
    "## 2. Run a first differences regression on the same model in Question 1.  Interpret your results.  Do you draw a different conclusion than in Question 1?  Explain."
   ]
  },
  {
   "cell_type": "code",
   "execution_count": null,
   "id": "4dd26d3c",
   "metadata": {},
   "outputs": [],
   "source": []
  }
 ],
 "metadata": {
  "kernelspec": {
   "display_name": "Python 3",
   "language": "python",
   "name": "python3"
  },
  "language_info": {
   "codemirror_mode": {
    "name": "ipython",
    "version": 3
   },
   "file_extension": ".py",
   "mimetype": "text/x-python",
   "name": "python",
   "nbconvert_exporter": "python",
   "pygments_lexer": "ipython3",
   "version": "3.8.8"
  }
 },
 "nbformat": 4,
 "nbformat_minor": 5
}
