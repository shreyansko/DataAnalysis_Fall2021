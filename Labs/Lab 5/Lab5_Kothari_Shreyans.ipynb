{
 "cells": [
  {
   "cell_type": "markdown",
   "id": "78b26f64",
   "metadata": {},
   "source": [
    "# Data Analysis for Social Sciences: Lab 5"
   ]
  },
  {
   "cell_type": "markdown",
   "id": "6245d4c1",
   "metadata": {},
   "source": [
    "***UNI:*** sk4819 | ***Date:*** November 23, 2021"
   ]
  },
  {
   "cell_type": "code",
   "execution_count": 1,
   "id": "5b436dae",
   "metadata": {},
   "outputs": [],
   "source": [
    "#Importing libraries\n",
    "from __future__ import division\n",
    "import pandas as pd\n",
    "import numpy as np\n",
    "import statsmodels.api as sm\n",
    "import statsmodels.formula.api as smf\n",
    "import os\n",
    "import matplotlib.pyplot as plt"
   ]
  },
  {
   "cell_type": "code",
   "execution_count": 2,
   "id": "fdc6c363",
   "metadata": {},
   "outputs": [],
   "source": [
    "gss = pd.read_csv(\"GSS.2006.csv.xls\", sep = ',')"
   ]
  },
  {
   "cell_type": "code",
   "execution_count": 3,
   "id": "cc4924bb",
   "metadata": {},
   "outputs": [
    {
     "data": {
      "text/html": [
       "<div>\n",
       "<style scoped>\n",
       "    .dataframe tbody tr th:only-of-type {\n",
       "        vertical-align: middle;\n",
       "    }\n",
       "\n",
       "    .dataframe tbody tr th {\n",
       "        vertical-align: top;\n",
       "    }\n",
       "\n",
       "    .dataframe thead th {\n",
       "        text-align: right;\n",
       "    }\n",
       "</style>\n",
       "<table border=\"1\" class=\"dataframe\">\n",
       "  <thead>\n",
       "    <tr style=\"text-align: right;\">\n",
       "      <th></th>\n",
       "      <th>vpsu</th>\n",
       "      <th>vstrat</th>\n",
       "      <th>adults</th>\n",
       "      <th>ballot</th>\n",
       "      <th>dateintv</th>\n",
       "      <th>famgen</th>\n",
       "      <th>form</th>\n",
       "      <th>formwt</th>\n",
       "      <th>gender1</th>\n",
       "      <th>hompop</th>\n",
       "      <th>...</th>\n",
       "      <th>away7</th>\n",
       "      <th>gender14</th>\n",
       "      <th>old14</th>\n",
       "      <th>relate14</th>\n",
       "      <th>relhh14</th>\n",
       "      <th>relhhd14</th>\n",
       "      <th>relsp14</th>\n",
       "      <th>where12</th>\n",
       "      <th>where6</th>\n",
       "      <th>where7</th>\n",
       "    </tr>\n",
       "  </thead>\n",
       "  <tbody>\n",
       "    <tr>\n",
       "      <th>0</th>\n",
       "      <td>1</td>\n",
       "      <td>1957</td>\n",
       "      <td>1</td>\n",
       "      <td>3</td>\n",
       "      <td>316</td>\n",
       "      <td>2</td>\n",
       "      <td>1</td>\n",
       "      <td>1</td>\n",
       "      <td>2</td>\n",
       "      <td>3</td>\n",
       "      <td>...</td>\n",
       "      <td>NaN</td>\n",
       "      <td>NaN</td>\n",
       "      <td>NaN</td>\n",
       "      <td>NaN</td>\n",
       "      <td>NaN</td>\n",
       "      <td>NaN</td>\n",
       "      <td>NaN</td>\n",
       "      <td>NaN</td>\n",
       "      <td>NaN</td>\n",
       "      <td>NaN</td>\n",
       "    </tr>\n",
       "    <tr>\n",
       "      <th>1</th>\n",
       "      <td>1</td>\n",
       "      <td>1957</td>\n",
       "      <td>2</td>\n",
       "      <td>2</td>\n",
       "      <td>630</td>\n",
       "      <td>1</td>\n",
       "      <td>2</td>\n",
       "      <td>1</td>\n",
       "      <td>2</td>\n",
       "      <td>2</td>\n",
       "      <td>...</td>\n",
       "      <td>NaN</td>\n",
       "      <td>NaN</td>\n",
       "      <td>NaN</td>\n",
       "      <td>NaN</td>\n",
       "      <td>NaN</td>\n",
       "      <td>NaN</td>\n",
       "      <td>NaN</td>\n",
       "      <td>NaN</td>\n",
       "      <td>NaN</td>\n",
       "      <td>NaN</td>\n",
       "    </tr>\n",
       "    <tr>\n",
       "      <th>2</th>\n",
       "      <td>1</td>\n",
       "      <td>1957</td>\n",
       "      <td>2</td>\n",
       "      <td>2</td>\n",
       "      <td>314</td>\n",
       "      <td>2</td>\n",
       "      <td>1</td>\n",
       "      <td>1</td>\n",
       "      <td>2</td>\n",
       "      <td>2</td>\n",
       "      <td>...</td>\n",
       "      <td>NaN</td>\n",
       "      <td>NaN</td>\n",
       "      <td>NaN</td>\n",
       "      <td>NaN</td>\n",
       "      <td>NaN</td>\n",
       "      <td>NaN</td>\n",
       "      <td>NaN</td>\n",
       "      <td>NaN</td>\n",
       "      <td>NaN</td>\n",
       "      <td>NaN</td>\n",
       "    </tr>\n",
       "    <tr>\n",
       "      <th>3</th>\n",
       "      <td>1</td>\n",
       "      <td>1957</td>\n",
       "      <td>1</td>\n",
       "      <td>1</td>\n",
       "      <td>313</td>\n",
       "      <td>1</td>\n",
       "      <td>2</td>\n",
       "      <td>1</td>\n",
       "      <td>2</td>\n",
       "      <td>1</td>\n",
       "      <td>...</td>\n",
       "      <td>NaN</td>\n",
       "      <td>NaN</td>\n",
       "      <td>NaN</td>\n",
       "      <td>NaN</td>\n",
       "      <td>NaN</td>\n",
       "      <td>NaN</td>\n",
       "      <td>NaN</td>\n",
       "      <td>NaN</td>\n",
       "      <td>NaN</td>\n",
       "      <td>NaN</td>\n",
       "    </tr>\n",
       "    <tr>\n",
       "      <th>4</th>\n",
       "      <td>1</td>\n",
       "      <td>1957</td>\n",
       "      <td>3</td>\n",
       "      <td>1</td>\n",
       "      <td>322</td>\n",
       "      <td>2</td>\n",
       "      <td>2</td>\n",
       "      <td>1</td>\n",
       "      <td>2</td>\n",
       "      <td>3</td>\n",
       "      <td>...</td>\n",
       "      <td>NaN</td>\n",
       "      <td>NaN</td>\n",
       "      <td>NaN</td>\n",
       "      <td>NaN</td>\n",
       "      <td>NaN</td>\n",
       "      <td>NaN</td>\n",
       "      <td>NaN</td>\n",
       "      <td>NaN</td>\n",
       "      <td>NaN</td>\n",
       "      <td>NaN</td>\n",
       "    </tr>\n",
       "  </tbody>\n",
       "</table>\n",
       "<p>5 rows × 1261 columns</p>\n",
       "</div>"
      ],
      "text/plain": [
       "   vpsu  vstrat  adults  ballot  dateintv  famgen  form  formwt  gender1  \\\n",
       "0     1    1957       1       3       316       2     1       1        2   \n",
       "1     1    1957       2       2       630       1     2       1        2   \n",
       "2     1    1957       2       2       314       2     1       1        2   \n",
       "3     1    1957       1       1       313       1     2       1        2   \n",
       "4     1    1957       3       1       322       2     2       1        2   \n",
       "\n",
       "   hompop  ...  away7  gender14  old14  relate14  relhh14  relhhd14  relsp14  \\\n",
       "0       3  ...    NaN       NaN    NaN       NaN      NaN       NaN      NaN   \n",
       "1       2  ...    NaN       NaN    NaN       NaN      NaN       NaN      NaN   \n",
       "2       2  ...    NaN       NaN    NaN       NaN      NaN       NaN      NaN   \n",
       "3       1  ...    NaN       NaN    NaN       NaN      NaN       NaN      NaN   \n",
       "4       3  ...    NaN       NaN    NaN       NaN      NaN       NaN      NaN   \n",
       "\n",
       "   where12  where6  where7  \n",
       "0      NaN     NaN     NaN  \n",
       "1      NaN     NaN     NaN  \n",
       "2      NaN     NaN     NaN  \n",
       "3      NaN     NaN     NaN  \n",
       "4      NaN     NaN     NaN  \n",
       "\n",
       "[5 rows x 1261 columns]"
      ]
     },
     "execution_count": 3,
     "metadata": {},
     "output_type": "execute_result"
    }
   ],
   "source": [
    "gss.head()"
   ]
  },
  {
   "cell_type": "markdown",
   "id": "e008b30e",
   "metadata": {},
   "source": [
    "## 1. Run a multiple linear probability model.  Tell me how you think your independent variables will affect your dependent variable.  Interpret your results.  Were your expectations correct?  Why or why not?"
   ]
  },
  {
   "cell_type": "markdown",
   "id": "4e411f5f",
   "metadata": {},
   "source": [
    "***Question: What predicts people's opinion on government's responsibility to proivde/fund healthcare- \"On the whole, do you think it should or should not be the government's responsibility to Provide health care for the sick.\" The options are:***\n",
    "- 1: Definitely should be\n",
    "- 2: Probably should be\n",
    "- 3: Probably should NOT be\n",
    "- 4: Definitely should NOT be\n",
    "\n",
    "***Independent variables considered:***\n",
    "- realrinc: respondent income in constant dollars\n",
    "- helphlth: How successful do you think the government in America is nowadays in providing health care for the sick\n",
    "    - scale: very successful to very unsuccessful\n",
    "- degree: Highest educational degree earned by respondent\n",
    "- polviews: A seven-point scale for political views that people might hold\n",
    "    - Scale: arranged from extremely liberal to extremely conservative\n",
    "- health: Would you say your own health, in general, is excellent, good, fair, or poor?\n",
    "    - Scale: excellent to poor"
   ]
  },
  {
   "cell_type": "markdown",
   "id": "7ff6941c",
   "metadata": {},
   "source": [
    "I think all the independent variables should have a strong effect on the dependent variable. I believe a respondent's political views (liberal vs conservative) will have the strongest effect on their opinion on whether the government should fund/provide healthcare to the sick. I believe the respondents' income too should have a strong effect on the dependent variable: I expect more people on the higher end of the income scale to disagree with the statement'it is the government's responsibility to provide healthcare for the sick', compared to people on the lower end of the income scale. I believe the respondent's health will also dictate their opinion; I expect more people whose health is poor to  agree that it is the government's responsibility to provide healthcare for the them (the sick), than people who are in excellent health."
   ]
  },
  {
   "cell_type": "code",
   "execution_count": 4,
   "id": "5df85ec0",
   "metadata": {},
   "outputs": [],
   "source": [
    "sub = gss[[\"hlthcare\",\"realrinc\", \"helphlth\", \"degree\", \"polviews\", \"health\"]].dropna()"
   ]
  },
  {
   "cell_type": "code",
   "execution_count": 5,
   "id": "8d8cc039",
   "metadata": {},
   "outputs": [
    {
     "data": {
      "text/html": [
       "<div>\n",
       "<style scoped>\n",
       "    .dataframe tbody tr th:only-of-type {\n",
       "        vertical-align: middle;\n",
       "    }\n",
       "\n",
       "    .dataframe tbody tr th {\n",
       "        vertical-align: top;\n",
       "    }\n",
       "\n",
       "    .dataframe thead th {\n",
       "        text-align: right;\n",
       "    }\n",
       "</style>\n",
       "<table border=\"1\" class=\"dataframe\">\n",
       "  <thead>\n",
       "    <tr style=\"text-align: right;\">\n",
       "      <th></th>\n",
       "      <th>hlthcare</th>\n",
       "      <th>realrinc</th>\n",
       "      <th>helphlth</th>\n",
       "      <th>degree</th>\n",
       "      <th>polviews</th>\n",
       "      <th>health</th>\n",
       "    </tr>\n",
       "  </thead>\n",
       "  <tbody>\n",
       "    <tr>\n",
       "      <th>7</th>\n",
       "      <td>2.0</td>\n",
       "      <td>1137.000</td>\n",
       "      <td>2.0</td>\n",
       "      <td>2.0</td>\n",
       "      <td>4.0</td>\n",
       "      <td>3.0</td>\n",
       "    </tr>\n",
       "    <tr>\n",
       "      <th>15</th>\n",
       "      <td>1.0</td>\n",
       "      <td>46901.250</td>\n",
       "      <td>4.0</td>\n",
       "      <td>4.0</td>\n",
       "      <td>2.0</td>\n",
       "      <td>1.0</td>\n",
       "    </tr>\n",
       "    <tr>\n",
       "      <th>22</th>\n",
       "      <td>1.0</td>\n",
       "      <td>6395.625</td>\n",
       "      <td>3.0</td>\n",
       "      <td>0.0</td>\n",
       "      <td>4.0</td>\n",
       "      <td>3.0</td>\n",
       "    </tr>\n",
       "    <tr>\n",
       "      <th>23</th>\n",
       "      <td>2.0</td>\n",
       "      <td>18476.250</td>\n",
       "      <td>3.0</td>\n",
       "      <td>1.0</td>\n",
       "      <td>2.0</td>\n",
       "      <td>3.0</td>\n",
       "    </tr>\n",
       "    <tr>\n",
       "      <th>27</th>\n",
       "      <td>1.0</td>\n",
       "      <td>15633.750</td>\n",
       "      <td>3.0</td>\n",
       "      <td>2.0</td>\n",
       "      <td>4.0</td>\n",
       "      <td>2.0</td>\n",
       "    </tr>\n",
       "  </tbody>\n",
       "</table>\n",
       "</div>"
      ],
      "text/plain": [
       "    hlthcare   realrinc  helphlth  degree  polviews  health\n",
       "7        2.0   1137.000       2.0     2.0       4.0     3.0\n",
       "15       1.0  46901.250       4.0     4.0       2.0     1.0\n",
       "22       1.0   6395.625       3.0     0.0       4.0     3.0\n",
       "23       2.0  18476.250       3.0     1.0       2.0     3.0\n",
       "27       1.0  15633.750       3.0     2.0       4.0     2.0"
      ]
     },
     "execution_count": 5,
     "metadata": {},
     "output_type": "execute_result"
    }
   ],
   "source": [
    "sub.head()"
   ]
  },
  {
   "cell_type": "markdown",
   "id": "84d4dc96",
   "metadata": {},
   "source": [
    "#### Recoding healthcare into a dummy variable: \n",
    "- 1: Government should provide/fund healthcare \n",
    "- 0: Government should NOT provide/fund healthcare "
   ]
  },
  {
   "cell_type": "code",
   "execution_count": 6,
   "id": "70fed6fc",
   "metadata": {},
   "outputs": [],
   "source": [
    "conditions = [\n",
    "    (sub['hlthcare'] <= 2) ,\n",
    "    (sub['hlthcare'] >= 3)]\n",
    "choices = [1, 0]\n",
    "sub['hlthcare'] = np.select(conditions, choices, default=np.nan)"
   ]
  },
  {
   "cell_type": "code",
   "execution_count": 7,
   "id": "7188920a",
   "metadata": {},
   "outputs": [
    {
     "data": {
      "text/html": [
       "<div>\n",
       "<style scoped>\n",
       "    .dataframe tbody tr th:only-of-type {\n",
       "        vertical-align: middle;\n",
       "    }\n",
       "\n",
       "    .dataframe tbody tr th {\n",
       "        vertical-align: top;\n",
       "    }\n",
       "\n",
       "    .dataframe thead th {\n",
       "        text-align: right;\n",
       "    }\n",
       "</style>\n",
       "<table border=\"1\" class=\"dataframe\">\n",
       "  <thead>\n",
       "    <tr style=\"text-align: right;\">\n",
       "      <th>col_0</th>\n",
       "      <th>count</th>\n",
       "    </tr>\n",
       "    <tr>\n",
       "      <th>hlthcare</th>\n",
       "      <th></th>\n",
       "    </tr>\n",
       "  </thead>\n",
       "  <tbody>\n",
       "    <tr>\n",
       "      <th>0.0</th>\n",
       "      <td>86</td>\n",
       "    </tr>\n",
       "    <tr>\n",
       "      <th>1.0</th>\n",
       "      <td>797</td>\n",
       "    </tr>\n",
       "  </tbody>\n",
       "</table>\n",
       "</div>"
      ],
      "text/plain": [
       "col_0     count\n",
       "hlthcare       \n",
       "0.0          86\n",
       "1.0         797"
      ]
     },
     "execution_count": 7,
     "metadata": {},
     "output_type": "execute_result"
    }
   ],
   "source": [
    "pd.crosstab(index=sub[\"hlthcare\"], columns=\"count\")"
   ]
  },
  {
   "cell_type": "code",
   "execution_count": 8,
   "id": "0804ef44",
   "metadata": {},
   "outputs": [
    {
     "data": {
      "text/html": [
       "<div>\n",
       "<style scoped>\n",
       "    .dataframe tbody tr th:only-of-type {\n",
       "        vertical-align: middle;\n",
       "    }\n",
       "\n",
       "    .dataframe tbody tr th {\n",
       "        vertical-align: top;\n",
       "    }\n",
       "\n",
       "    .dataframe thead th {\n",
       "        text-align: right;\n",
       "    }\n",
       "</style>\n",
       "<table border=\"1\" class=\"dataframe\">\n",
       "  <thead>\n",
       "    <tr style=\"text-align: right;\">\n",
       "      <th></th>\n",
       "      <th>hlthcare</th>\n",
       "      <th>realrinc</th>\n",
       "      <th>helphlth</th>\n",
       "      <th>degree</th>\n",
       "      <th>polviews</th>\n",
       "      <th>health</th>\n",
       "    </tr>\n",
       "  </thead>\n",
       "  <tbody>\n",
       "    <tr>\n",
       "      <th>hlthcare</th>\n",
       "      <td>1.000000</td>\n",
       "      <td>-0.134094</td>\n",
       "      <td>0.129678</td>\n",
       "      <td>-0.133287</td>\n",
       "      <td>-0.253042</td>\n",
       "      <td>0.092999</td>\n",
       "    </tr>\n",
       "    <tr>\n",
       "      <th>realrinc</th>\n",
       "      <td>-0.134094</td>\n",
       "      <td>1.000000</td>\n",
       "      <td>-0.036004</td>\n",
       "      <td>0.350034</td>\n",
       "      <td>0.084374</td>\n",
       "      <td>-0.143496</td>\n",
       "    </tr>\n",
       "    <tr>\n",
       "      <th>helphlth</th>\n",
       "      <td>0.129678</td>\n",
       "      <td>-0.036004</td>\n",
       "      <td>1.000000</td>\n",
       "      <td>0.066472</td>\n",
       "      <td>-0.234695</td>\n",
       "      <td>0.021603</td>\n",
       "    </tr>\n",
       "    <tr>\n",
       "      <th>degree</th>\n",
       "      <td>-0.133287</td>\n",
       "      <td>0.350034</td>\n",
       "      <td>0.066472</td>\n",
       "      <td>1.000000</td>\n",
       "      <td>-0.065432</td>\n",
       "      <td>-0.199697</td>\n",
       "    </tr>\n",
       "    <tr>\n",
       "      <th>polviews</th>\n",
       "      <td>-0.253042</td>\n",
       "      <td>0.084374</td>\n",
       "      <td>-0.234695</td>\n",
       "      <td>-0.065432</td>\n",
       "      <td>1.000000</td>\n",
       "      <td>-0.062114</td>\n",
       "    </tr>\n",
       "    <tr>\n",
       "      <th>health</th>\n",
       "      <td>0.092999</td>\n",
       "      <td>-0.143496</td>\n",
       "      <td>0.021603</td>\n",
       "      <td>-0.199697</td>\n",
       "      <td>-0.062114</td>\n",
       "      <td>1.000000</td>\n",
       "    </tr>\n",
       "  </tbody>\n",
       "</table>\n",
       "</div>"
      ],
      "text/plain": [
       "          hlthcare  realrinc  helphlth    degree  polviews    health\n",
       "hlthcare  1.000000 -0.134094  0.129678 -0.133287 -0.253042  0.092999\n",
       "realrinc -0.134094  1.000000 -0.036004  0.350034  0.084374 -0.143496\n",
       "helphlth  0.129678 -0.036004  1.000000  0.066472 -0.234695  0.021603\n",
       "degree   -0.133287  0.350034  0.066472  1.000000 -0.065432 -0.199697\n",
       "polviews -0.253042  0.084374 -0.234695 -0.065432  1.000000 -0.062114\n",
       "health    0.092999 -0.143496  0.021603 -0.199697 -0.062114  1.000000"
      ]
     },
     "execution_count": 8,
     "metadata": {},
     "output_type": "execute_result"
    }
   ],
   "source": [
    "sub.corr()"
   ]
  },
  {
   "cell_type": "code",
   "execution_count": 9,
   "id": "449adb63",
   "metadata": {},
   "outputs": [
    {
     "name": "stdout",
     "output_type": "stream",
     "text": [
      "                            OLS Regression Results                            \n",
      "==============================================================================\n",
      "Dep. Variable:               hlthcare   R-squared:                       0.100\n",
      "Model:                            OLS   Adj. R-squared:                  0.094\n",
      "Method:                 Least Squares   F-statistic:                     16.21\n",
      "Date:                Tue, 23 Nov 2021   Prob (F-statistic):           9.41e-18\n",
      "Time:                        20:06:34   Log-Likelihood:                -132.95\n",
      "No. Observations:                 883   AIC:                             279.9\n",
      "Df Residuals:                     876   BIC:                             313.4\n",
      "Df Model:                           6                                         \n",
      "Covariance Type:            nonrobust                                         \n",
      "===================================================================================\n",
      "                      coef    std err          t      P>|t|      [0.025      0.975]\n",
      "-----------------------------------------------------------------------------------\n",
      "Intercept           1.0766      0.058     18.478      0.000       0.962       1.191\n",
      "realrinc        -1.474e-06   7.73e-07     -1.905      0.057   -2.99e-06    4.42e-08\n",
      "degree             -0.0379      0.011     -3.513      0.000      -0.059      -0.017\n",
      "realrinc:degree  3.154e-07   2.64e-07      1.193      0.233   -2.04e-07    8.34e-07\n",
      "health              0.0163      0.013      1.253      0.210      -0.009       0.042\n",
      "helphlth            0.0232      0.009      2.508      0.012       0.005       0.041\n",
      "polviews           -0.0497      0.007     -7.060      0.000      -0.064      -0.036\n",
      "==============================================================================\n",
      "Omnibus:                      414.514   Durbin-Watson:                   2.072\n",
      "Prob(Omnibus):                  0.000   Jarque-Bera (JB):             1552.066\n",
      "Skew:                          -2.341   Prob(JB):                         0.00\n",
      "Kurtosis:                       7.502   Cond. No.                     7.04e+05\n",
      "==============================================================================\n",
      "\n",
      "Notes:\n",
      "[1] Standard Errors assume that the covariance matrix of the errors is correctly specified.\n",
      "[2] The condition number is large, 7.04e+05. This might indicate that there are\n",
      "strong multicollinearity or other numerical problems.\n"
     ]
    }
   ],
   "source": [
    "lm1 = smf.ols(formula = 'hlthcare ~ realrinc*degree + health + helphlth + polviews', data = sub).fit()\n",
    "print (lm1.summary())\n",
    "\n",
    "# \"hlthcare\",\"realrinc\", , \"degree\", \"polviews\", \"partyid\"\n",
    "#NOT: race, sex, age, childs, marital, wrkgovt, "
   ]
  },
  {
   "cell_type": "markdown",
   "id": "bb16e330",
   "metadata": {},
   "source": [
    "\n",
    "***Interpretation***:\n",
    "- `realrinc`:  On average, holding all other variables constant, every additional unit of income is associated with a decrease in the probability of the respondent being in favor of government provided/funded healthcare by 1.454e-06.\n",
    "- `degree`: On average, holding all other variables constant, every additional degree is associated with a decrease in the probability of the respondent being in favor of government provided/funded healthcare by 0.0379.\n",
    "- `realrinc:degree`: ***(I included an interaction term between income and degree as I expect them to be highly correlated)*** On average, holding all other variables constant, every additional degree and additional unit of income are associated with an increase in the probability of the respondent being in favor of government provided/funded healthcare by 3.154e-07. \n",
    "- `health`: On average, holding all other variables constant, a deterioration of respondent's health is associated with an increase in the probability of the respondent being in favor of government provided/funded healthcare by 0.0163. \n",
    "- `helphlth`: On average, holding all other variables constant, a decline in the respondent's opinion of the government's ability to successfully provide healthcare is associated with an increase in the probability of the respondent being in favor of government provided/funded healthcare by 0.0232. \n",
    "- `polviews`: On average, holding all other variables constant, every additional movement of respondent's political ideology from liberal to conservative is associated with a decrease in the probability of the respondent being in favor of government provided/funded healthcare by 0.0497.\n",
    "\n",
    "#### All my expectations were correct. All variables do have a strong effect on the dependent variable. The respondent's political ideology has the strongest effect on their opinion of government provided/funded healthcare. As expected, the respondent's income is negatively affected with this opinion. However, I was surprised to see a negative relationship betweem degrees earned by respondents and their opinion on government funded/provided healthcare."
   ]
  },
  {
   "cell_type": "markdown",
   "id": "ef0ff913",
   "metadata": {},
   "source": [
    "___\n",
    "## 2. Run a multiple (binary) logistic model.  (It can be the same as the above LPM or -- even better -- a new model.)  Tell me how you think your independent variables will affect your dependent variable.  Interpret your results in the logit scale.  Were your expectations correct?  Why or why not?"
   ]
  },
  {
   "cell_type": "markdown",
   "id": "26c74c27",
   "metadata": {},
   "source": [
    "Analyzing the same question: what affects respondents' opinion on government provided/funded healthcare.\n",
    "\n",
    "I expect the model to have similar results: I expect all independent variables to have a strong effect on the dependent variable. I also expect respondent's political views (liberal vs conservative) to have the strongest effect on their opinion on whether the government should fund/provide healthcare to the sick. Additionally, I believe the respondents' income too would have a strong effect on the dependent variable: I expect more people on the higher end of the income scale to disagree with the statement'it is the government's responsibility to provide healthcare for the sick', compared to people on the lower end of the income scale. I believe the respondent's health will also dictate their opinion; I expect more people whose health is poor to agree that it is the government's responsibility to provide healthcare for the them (the sick), than people who are in excellent health."
   ]
  },
  {
   "cell_type": "code",
   "execution_count": 10,
   "id": "f6e9751b",
   "metadata": {},
   "outputs": [
    {
     "name": "stdout",
     "output_type": "stream",
     "text": [
      "Optimization terminated successfully.\n",
      "         Current function value: 0.268824\n",
      "         Iterations 7\n",
      "                           Logit Regression Results                           \n",
      "==============================================================================\n",
      "Dep. Variable:               hlthcare   No. Observations:                  883\n",
      "Model:                          Logit   Df Residuals:                      876\n",
      "Method:                           MLE   Df Model:                            6\n",
      "Date:                Tue, 23 Nov 2021   Pseudo R-squ.:                  0.1581\n",
      "Time:                        20:06:34   Log-Likelihood:                -237.37\n",
      "converged:                       True   LL-Null:                       -281.96\n",
      "Covariance Type:            nonrobust   LLR p-value:                 4.487e-17\n",
      "===================================================================================\n",
      "                      coef    std err          z      P>|z|      [0.025      0.975]\n",
      "-----------------------------------------------------------------------------------\n",
      "Intercept           4.8252      0.809      5.966      0.000       3.240       6.410\n",
      "realrinc        -1.844e-05   7.58e-06     -2.432      0.015   -3.33e-05   -3.58e-06\n",
      "degree             -0.4791      0.132     -3.619      0.000      -0.738      -0.220\n",
      "realrinc:degree  5.039e-06   2.62e-06      1.921      0.055   -1.01e-07    1.02e-05\n",
      "health              0.2541      0.181      1.401      0.161      -0.101       0.610\n",
      "helphlth            0.2670      0.120      2.222      0.026       0.032       0.502\n",
      "polviews           -0.6229      0.097     -6.448      0.000      -0.812      -0.434\n",
      "===================================================================================\n"
     ]
    }
   ],
   "source": [
    "logit1 = sm.formula.logit(formula = 'hlthcare ~ realrinc*degree + health + helphlth + polviews', data = sub).fit()\n",
    "print (logit1.summary()) "
   ]
  },
  {
   "cell_type": "markdown",
   "id": "1950c2be",
   "metadata": {},
   "source": [
    "***Interpretation***:\n",
    "- `realrinc`:  On average, holding all other variables constant, for every additional unit of income the log odds of a respondent being in favor of government funded/provided healthcare reduce by 1.844e-05.\n",
    "- `degree`:  On average, holding all other variables constant, for every additional degree the log odds of a respondent being in favor of government funded/provided healthcare reduce by 0.4791.\n",
    "- `realrinc:degree`: On average, holding all other variables constant, for every additional degree and every additional unit of income, the log odds of a respondent being in favor of government funded/provided healthcare increase by 5.039e-06. \n",
    "- `health`: On average, holding all other variables constant, a deterioration of respondent's health is associated with the log odds of a respondent being in favor of government funded/provided healthcare increasing by  0.2541.\n",
    "- `helphlth`: On average, holding all other variables constant, a decline in the respondent's opinion of the government's ability to successfully provide healthcare is associated with the log odds of a respondent being in favor of government funded/provided healthcare increasing by 0.2670.\n",
    "- `polviews`: On average, holding all other variables constant, every additional movement of respondent's political ideology from liberal to conservative is associated with the log odds of the respondent being in favor of government funded/provided healthcare decreasing by 0.6229.\n",
    "\n",
    "#### Again, all my expectations were correct: all the independent variables have a strong effect on the dependent variable. I was right about the direction of the relationship for all the independent variables with the dependent variable. Here again, degree is negatively associated with the dependent variable. As expected, the respondent's political views have one of the strongest effects on the dependent variable."
   ]
  },
  {
   "cell_type": "markdown",
   "id": "717740bc",
   "metadata": {},
   "source": [
    "___\n",
    "## 3. Get odds ratios from your logit model in Question 2 and interpret some of them.  "
   ]
  },
  {
   "cell_type": "code",
   "execution_count": 11,
   "id": "b3d77e7f",
   "metadata": {},
   "outputs": [
    {
     "data": {
      "text/plain": [
       "Intercept          124.615251\n",
       "realrinc             0.999982\n",
       "degree               0.619368\n",
       "realrinc:degree      1.000005\n",
       "health               1.289276\n",
       "helphlth             1.306031\n",
       "polviews             0.536391\n",
       "dtype: float64"
      ]
     },
     "execution_count": 11,
     "metadata": {},
     "output_type": "execute_result"
    }
   ],
   "source": [
    "np.exp(logit1.params)"
   ]
  },
  {
   "cell_type": "markdown",
   "id": "55ebb35e",
   "metadata": {},
   "source": [
    "- `realrinc`:  On average, holding all other variables constant, for every additional unit of income the odds of a respondent being in favor of government funded/provided healthcare increase by (1- 0.999982) 0.000018%.\n",
    "- `degree`:  On average, holding all other variables constant, for every additional degree the odds of a respondent being in favor of government funded/provided healthcare increase by (1- 0.619368) 0.380632%.\n",
    "- `realrinc:degree`: On average, holding all other variables constant, for every additional degree and every additional unit of income, the odds of a respondent being in favor of government funded/provided healthcare increase by 1.000005. \n",
    "- `health`: On average, holding all other variables constant, a deterioration of respondent's health is associated with the odds of a respondent being in favor of government funded/provided healthcare increasing by about (1.289276 - 1) 28.9%.\n",
    "- `helphlth`: On average, holding all other variables constant, a decline in the respondent's opinion of the government's ability to successfully provide healthcare is associated with the odds of a respondent being in favor of government funded/provided healthcare increasing by 1.306031."
   ]
  },
  {
   "cell_type": "markdown",
   "id": "d6e6fbc5",
   "metadata": {},
   "source": [
    "___\n",
    "## 4. Get predicted probabilities from your logit model in Question 2 for some constellations of X values and interpret the results.  "
   ]
  },
  {
   "cell_type": "code",
   "execution_count": 12,
   "id": "13dd818e",
   "metadata": {},
   "outputs": [],
   "source": [
    "def logit2prob (logit):\n",
    "    odds = np.exp(logit)\n",
    "    prob = odds / (1 + odds) \n",
    "    return(prob);"
   ]
  },
  {
   "cell_type": "code",
   "execution_count": 13,
   "id": "09cd4f6d",
   "metadata": {},
   "outputs": [],
   "source": [
    "intercept = logit1.params.Intercept\n",
    "b_inc = logit1.params.realrinc\n",
    "b_degree = logit1.params.degree\n",
    "b_health = logit1.params.health\n",
    "b_helphlth = logit1.params.helphlth\n",
    "b_polviews = logit1.params.polviews"
   ]
  },
  {
   "cell_type": "markdown",
   "id": "7e925188",
   "metadata": {},
   "source": [
    "#### 1. Someone with 5000 dollar income, a bachelor's degree, excellent health, and is extremely liberal:"
   ]
  },
  {
   "cell_type": "code",
   "execution_count": 14,
   "id": "9098d95e",
   "metadata": {},
   "outputs": [
    {
     "data": {
      "text/plain": [
       "0.877499618221072"
      ]
     },
     "execution_count": 14,
     "metadata": {},
     "output_type": "execute_result"
    }
   ],
   "source": [
    "logits_exh = intercept + (5000*b_inc ) + (5*b_degree) + (1*b_health) + (1*b_polviews)\n",
    "logit2prob(logits_exh)"
   ]
  },
  {
   "cell_type": "markdown",
   "id": "023f6aee",
   "metadata": {},
   "source": [
    "***Someone with 5000 dollar income, a bachelor's degree, excellent health, and is extremely liberal has a 0.877 probability of being in favor of government funded/provided healthcare.***"
   ]
  },
  {
   "cell_type": "markdown",
   "id": "c18ad58a",
   "metadata": {},
   "source": [
    "#### 2. Someone with 1000 dollar income, a high school degree, poor health, and is slightly conservative:\n"
   ]
  },
  {
   "cell_type": "code",
   "execution_count": 15,
   "id": "495f35b4",
   "metadata": {},
   "outputs": [
    {
     "data": {
      "text/plain": [
       "0.9229900023520637"
      ]
     },
     "execution_count": 15,
     "metadata": {},
     "output_type": "execute_result"
    }
   ],
   "source": [
    "logits_exh = intercept + (1000*b_inc ) + (1*b_degree) + (5*b_health) + (5*b_polviews)\n",
    "logit2prob(logits_exh)"
   ]
  },
  {
   "cell_type": "markdown",
   "id": "920a646d",
   "metadata": {},
   "source": [
    "***Someone with 1000 dollar income, a high school degree, poor health, and is slightly conservative has a 0.923 probability of being in favor of government funded/provided healthcare.***"
   ]
  },
  {
   "cell_type": "markdown",
   "id": "c1b9cca4",
   "metadata": {},
   "source": [
    "#### 3. Someone with 20000 dollar income, a graduate degree, excellent health, and leans moderate:"
   ]
  },
  {
   "cell_type": "code",
   "execution_count": 16,
   "id": "c58f1836",
   "metadata": {},
   "outputs": [
    {
     "data": {
      "text/plain": [
       "0.575129759436155"
      ]
     },
     "execution_count": 16,
     "metadata": {},
     "output_type": "execute_result"
    }
   ],
   "source": [
    "logits_exh = intercept + (20000*b_inc ) + (4*b_degree) + (1*b_health) + (4*b_polviews)\n",
    "logit2prob(logits_exh)"
   ]
  },
  {
   "cell_type": "markdown",
   "id": "b95055d5",
   "metadata": {},
   "source": [
    "***Someone with 20000 dollar income, a graduate degree, excellent health, and leans moderate has a 0.575 probability of being in favor of government funded/provided healthcare.***"
   ]
  }
 ],
 "metadata": {
  "kernelspec": {
   "display_name": "Python 3",
   "language": "python",
   "name": "python3"
  },
  "language_info": {
   "codemirror_mode": {
    "name": "ipython",
    "version": 3
   },
   "file_extension": ".py",
   "mimetype": "text/x-python",
   "name": "python",
   "nbconvert_exporter": "python",
   "pygments_lexer": "ipython3",
   "version": "3.8.8"
  }
 },
 "nbformat": 4,
 "nbformat_minor": 5
}
