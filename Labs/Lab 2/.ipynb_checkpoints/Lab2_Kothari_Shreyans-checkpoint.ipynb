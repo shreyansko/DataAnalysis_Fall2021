{
 "cells": [
  {
   "cell_type": "markdown",
   "id": "75a57aa3",
   "metadata": {},
   "source": [
    "# Data Analysis for Social Sciences Lab 2"
   ]
  },
  {
   "cell_type": "markdown",
   "id": "6bb6e7d0",
   "metadata": {},
   "source": [
    "Importing libraries"
   ]
  },
  {
   "cell_type": "code",
   "execution_count": 2,
   "id": "3ab66571",
   "metadata": {},
   "outputs": [],
   "source": [
    "from __future__ import division\n",
    "import pandas as pd\n",
    "import numpy as np\n",
    "import statsmodels.api as sm\n",
    "import statsmodels.formula.api as smf\n",
    "import os\n",
    "import matplotlib.pyplot as plt"
   ]
  },
  {
   "cell_type": "markdown",
   "id": "b78cf0a4",
   "metadata": {},
   "source": [
    "Importing data: GSS 2016"
   ]
  },
  {
   "cell_type": "code",
   "execution_count": 3,
   "id": "fb014dce",
   "metadata": {},
   "outputs": [
    {
     "data": {
      "text/html": [
       "<div>\n",
       "<style scoped>\n",
       "    .dataframe tbody tr th:only-of-type {\n",
       "        vertical-align: middle;\n",
       "    }\n",
       "\n",
       "    .dataframe tbody tr th {\n",
       "        vertical-align: top;\n",
       "    }\n",
       "\n",
       "    .dataframe thead th {\n",
       "        text-align: right;\n",
       "    }\n",
       "</style>\n",
       "<table border=\"1\" class=\"dataframe\">\n",
       "  <thead>\n",
       "    <tr style=\"text-align: right;\">\n",
       "      <th></th>\n",
       "      <th>vpsu</th>\n",
       "      <th>vstrat</th>\n",
       "      <th>adults</th>\n",
       "      <th>ballot</th>\n",
       "      <th>dateintv</th>\n",
       "      <th>famgen</th>\n",
       "      <th>form</th>\n",
       "      <th>formwt</th>\n",
       "      <th>gender1</th>\n",
       "      <th>hompop</th>\n",
       "      <th>...</th>\n",
       "      <th>away7</th>\n",
       "      <th>gender14</th>\n",
       "      <th>old14</th>\n",
       "      <th>relate14</th>\n",
       "      <th>relhh14</th>\n",
       "      <th>relhhd14</th>\n",
       "      <th>relsp14</th>\n",
       "      <th>where12</th>\n",
       "      <th>where6</th>\n",
       "      <th>where7</th>\n",
       "    </tr>\n",
       "  </thead>\n",
       "  <tbody>\n",
       "    <tr>\n",
       "      <th>0</th>\n",
       "      <td>1</td>\n",
       "      <td>1957</td>\n",
       "      <td>1</td>\n",
       "      <td>3</td>\n",
       "      <td>316</td>\n",
       "      <td>2</td>\n",
       "      <td>1</td>\n",
       "      <td>1</td>\n",
       "      <td>2</td>\n",
       "      <td>3</td>\n",
       "      <td>...</td>\n",
       "      <td>NaN</td>\n",
       "      <td>NaN</td>\n",
       "      <td>NaN</td>\n",
       "      <td>NaN</td>\n",
       "      <td>NaN</td>\n",
       "      <td>NaN</td>\n",
       "      <td>NaN</td>\n",
       "      <td>NaN</td>\n",
       "      <td>NaN</td>\n",
       "      <td>NaN</td>\n",
       "    </tr>\n",
       "    <tr>\n",
       "      <th>1</th>\n",
       "      <td>1</td>\n",
       "      <td>1957</td>\n",
       "      <td>2</td>\n",
       "      <td>2</td>\n",
       "      <td>630</td>\n",
       "      <td>1</td>\n",
       "      <td>2</td>\n",
       "      <td>1</td>\n",
       "      <td>2</td>\n",
       "      <td>2</td>\n",
       "      <td>...</td>\n",
       "      <td>NaN</td>\n",
       "      <td>NaN</td>\n",
       "      <td>NaN</td>\n",
       "      <td>NaN</td>\n",
       "      <td>NaN</td>\n",
       "      <td>NaN</td>\n",
       "      <td>NaN</td>\n",
       "      <td>NaN</td>\n",
       "      <td>NaN</td>\n",
       "      <td>NaN</td>\n",
       "    </tr>\n",
       "    <tr>\n",
       "      <th>2</th>\n",
       "      <td>1</td>\n",
       "      <td>1957</td>\n",
       "      <td>2</td>\n",
       "      <td>2</td>\n",
       "      <td>314</td>\n",
       "      <td>2</td>\n",
       "      <td>1</td>\n",
       "      <td>1</td>\n",
       "      <td>2</td>\n",
       "      <td>2</td>\n",
       "      <td>...</td>\n",
       "      <td>NaN</td>\n",
       "      <td>NaN</td>\n",
       "      <td>NaN</td>\n",
       "      <td>NaN</td>\n",
       "      <td>NaN</td>\n",
       "      <td>NaN</td>\n",
       "      <td>NaN</td>\n",
       "      <td>NaN</td>\n",
       "      <td>NaN</td>\n",
       "      <td>NaN</td>\n",
       "    </tr>\n",
       "    <tr>\n",
       "      <th>3</th>\n",
       "      <td>1</td>\n",
       "      <td>1957</td>\n",
       "      <td>1</td>\n",
       "      <td>1</td>\n",
       "      <td>313</td>\n",
       "      <td>1</td>\n",
       "      <td>2</td>\n",
       "      <td>1</td>\n",
       "      <td>2</td>\n",
       "      <td>1</td>\n",
       "      <td>...</td>\n",
       "      <td>NaN</td>\n",
       "      <td>NaN</td>\n",
       "      <td>NaN</td>\n",
       "      <td>NaN</td>\n",
       "      <td>NaN</td>\n",
       "      <td>NaN</td>\n",
       "      <td>NaN</td>\n",
       "      <td>NaN</td>\n",
       "      <td>NaN</td>\n",
       "      <td>NaN</td>\n",
       "    </tr>\n",
       "    <tr>\n",
       "      <th>4</th>\n",
       "      <td>1</td>\n",
       "      <td>1957</td>\n",
       "      <td>3</td>\n",
       "      <td>1</td>\n",
       "      <td>322</td>\n",
       "      <td>2</td>\n",
       "      <td>2</td>\n",
       "      <td>1</td>\n",
       "      <td>2</td>\n",
       "      <td>3</td>\n",
       "      <td>...</td>\n",
       "      <td>NaN</td>\n",
       "      <td>NaN</td>\n",
       "      <td>NaN</td>\n",
       "      <td>NaN</td>\n",
       "      <td>NaN</td>\n",
       "      <td>NaN</td>\n",
       "      <td>NaN</td>\n",
       "      <td>NaN</td>\n",
       "      <td>NaN</td>\n",
       "      <td>NaN</td>\n",
       "    </tr>\n",
       "    <tr>\n",
       "      <th>5</th>\n",
       "      <td>1</td>\n",
       "      <td>1957</td>\n",
       "      <td>2</td>\n",
       "      <td>2</td>\n",
       "      <td>709</td>\n",
       "      <td>2</td>\n",
       "      <td>2</td>\n",
       "      <td>1</td>\n",
       "      <td>1</td>\n",
       "      <td>4</td>\n",
       "      <td>...</td>\n",
       "      <td>NaN</td>\n",
       "      <td>NaN</td>\n",
       "      <td>NaN</td>\n",
       "      <td>NaN</td>\n",
       "      <td>NaN</td>\n",
       "      <td>NaN</td>\n",
       "      <td>NaN</td>\n",
       "      <td>NaN</td>\n",
       "      <td>NaN</td>\n",
       "      <td>NaN</td>\n",
       "    </tr>\n",
       "    <tr>\n",
       "      <th>6</th>\n",
       "      <td>1</td>\n",
       "      <td>1957</td>\n",
       "      <td>1</td>\n",
       "      <td>3</td>\n",
       "      <td>610</td>\n",
       "      <td>2</td>\n",
       "      <td>2</td>\n",
       "      <td>1</td>\n",
       "      <td>2</td>\n",
       "      <td>2</td>\n",
       "      <td>...</td>\n",
       "      <td>NaN</td>\n",
       "      <td>NaN</td>\n",
       "      <td>NaN</td>\n",
       "      <td>NaN</td>\n",
       "      <td>NaN</td>\n",
       "      <td>NaN</td>\n",
       "      <td>NaN</td>\n",
       "      <td>NaN</td>\n",
       "      <td>NaN</td>\n",
       "      <td>NaN</td>\n",
       "    </tr>\n",
       "    <tr>\n",
       "      <th>7</th>\n",
       "      <td>2</td>\n",
       "      <td>1957</td>\n",
       "      <td>3</td>\n",
       "      <td>4</td>\n",
       "      <td>324</td>\n",
       "      <td>2</td>\n",
       "      <td>1</td>\n",
       "      <td>1</td>\n",
       "      <td>2</td>\n",
       "      <td>3</td>\n",
       "      <td>...</td>\n",
       "      <td>NaN</td>\n",
       "      <td>NaN</td>\n",
       "      <td>NaN</td>\n",
       "      <td>NaN</td>\n",
       "      <td>NaN</td>\n",
       "      <td>NaN</td>\n",
       "      <td>NaN</td>\n",
       "      <td>NaN</td>\n",
       "      <td>NaN</td>\n",
       "      <td>NaN</td>\n",
       "    </tr>\n",
       "    <tr>\n",
       "      <th>8</th>\n",
       "      <td>2</td>\n",
       "      <td>1957</td>\n",
       "      <td>1</td>\n",
       "      <td>3</td>\n",
       "      <td>709</td>\n",
       "      <td>1</td>\n",
       "      <td>2</td>\n",
       "      <td>1</td>\n",
       "      <td>2</td>\n",
       "      <td>1</td>\n",
       "      <td>...</td>\n",
       "      <td>NaN</td>\n",
       "      <td>NaN</td>\n",
       "      <td>NaN</td>\n",
       "      <td>NaN</td>\n",
       "      <td>NaN</td>\n",
       "      <td>NaN</td>\n",
       "      <td>NaN</td>\n",
       "      <td>NaN</td>\n",
       "      <td>NaN</td>\n",
       "      <td>NaN</td>\n",
       "    </tr>\n",
       "    <tr>\n",
       "      <th>9</th>\n",
       "      <td>2</td>\n",
       "      <td>1957</td>\n",
       "      <td>2</td>\n",
       "      <td>1</td>\n",
       "      <td>630</td>\n",
       "      <td>2</td>\n",
       "      <td>1</td>\n",
       "      <td>1</td>\n",
       "      <td>2</td>\n",
       "      <td>4</td>\n",
       "      <td>...</td>\n",
       "      <td>NaN</td>\n",
       "      <td>NaN</td>\n",
       "      <td>NaN</td>\n",
       "      <td>NaN</td>\n",
       "      <td>NaN</td>\n",
       "      <td>NaN</td>\n",
       "      <td>NaN</td>\n",
       "      <td>NaN</td>\n",
       "      <td>NaN</td>\n",
       "      <td>NaN</td>\n",
       "    </tr>\n",
       "  </tbody>\n",
       "</table>\n",
       "<p>10 rows × 1261 columns</p>\n",
       "</div>"
      ],
      "text/plain": [
       "   vpsu  vstrat  adults  ballot  dateintv  famgen  form  formwt  gender1  \\\n",
       "0     1    1957       1       3       316       2     1       1        2   \n",
       "1     1    1957       2       2       630       1     2       1        2   \n",
       "2     1    1957       2       2       314       2     1       1        2   \n",
       "3     1    1957       1       1       313       1     2       1        2   \n",
       "4     1    1957       3       1       322       2     2       1        2   \n",
       "5     1    1957       2       2       709       2     2       1        1   \n",
       "6     1    1957       1       3       610       2     2       1        2   \n",
       "7     2    1957       3       4       324       2     1       1        2   \n",
       "8     2    1957       1       3       709       1     2       1        2   \n",
       "9     2    1957       2       1       630       2     1       1        2   \n",
       "\n",
       "   hompop  ...  away7  gender14  old14  relate14  relhh14  relhhd14  relsp14  \\\n",
       "0       3  ...    NaN       NaN    NaN       NaN      NaN       NaN      NaN   \n",
       "1       2  ...    NaN       NaN    NaN       NaN      NaN       NaN      NaN   \n",
       "2       2  ...    NaN       NaN    NaN       NaN      NaN       NaN      NaN   \n",
       "3       1  ...    NaN       NaN    NaN       NaN      NaN       NaN      NaN   \n",
       "4       3  ...    NaN       NaN    NaN       NaN      NaN       NaN      NaN   \n",
       "5       4  ...    NaN       NaN    NaN       NaN      NaN       NaN      NaN   \n",
       "6       2  ...    NaN       NaN    NaN       NaN      NaN       NaN      NaN   \n",
       "7       3  ...    NaN       NaN    NaN       NaN      NaN       NaN      NaN   \n",
       "8       1  ...    NaN       NaN    NaN       NaN      NaN       NaN      NaN   \n",
       "9       4  ...    NaN       NaN    NaN       NaN      NaN       NaN      NaN   \n",
       "\n",
       "   where12  where6  where7  \n",
       "0      NaN     NaN     NaN  \n",
       "1      NaN     NaN     NaN  \n",
       "2      NaN     NaN     NaN  \n",
       "3      NaN     NaN     NaN  \n",
       "4      NaN     NaN     NaN  \n",
       "5      NaN     NaN     NaN  \n",
       "6      NaN     NaN     NaN  \n",
       "7      NaN     NaN     NaN  \n",
       "8      NaN     NaN     NaN  \n",
       "9      NaN     NaN     NaN  \n",
       "\n",
       "[10 rows x 1261 columns]"
      ]
     },
     "execution_count": 3,
     "metadata": {},
     "output_type": "execute_result"
    }
   ],
   "source": [
    "os.getcwd()\n",
    "gss = pd.read_csv(\"/Users/shreyanskothari/Desktop/Data Analysis for Social Sciences/Labs/Lab1/GSS.2006.csv.xls\")\n",
    "gss.head(10)"
   ]
  },
  {
   "cell_type": "markdown",
   "id": "d43d17a9",
   "metadata": {},
   "source": [
    "### 1) Recode 1 *sort of* continuous variable into categories.  Tell me what you did and explain the variable(s)."
   ]
  },
  {
   "cell_type": "markdown",
   "id": "51d1af47",
   "metadata": {},
   "source": [
    "hrs1: If working, full or part time, how many hours did you work last week, at all jobs?"
   ]
  },
  {
   "cell_type": "code",
   "execution_count": 4,
   "id": "17708f95",
   "metadata": {},
   "outputs": [
    {
     "data": {
      "text/html": [
       "<div>\n",
       "<style scoped>\n",
       "    .dataframe tbody tr th:only-of-type {\n",
       "        vertical-align: middle;\n",
       "    }\n",
       "\n",
       "    .dataframe tbody tr th {\n",
       "        vertical-align: top;\n",
       "    }\n",
       "\n",
       "    .dataframe thead th {\n",
       "        text-align: right;\n",
       "    }\n",
       "</style>\n",
       "<table border=\"1\" class=\"dataframe\">\n",
       "  <thead>\n",
       "    <tr style=\"text-align: right;\">\n",
       "      <th></th>\n",
       "      <th>hrs1</th>\n",
       "    </tr>\n",
       "  </thead>\n",
       "  <tbody>\n",
       "    <tr>\n",
       "      <th>count</th>\n",
       "      <td>2739.000000</td>\n",
       "    </tr>\n",
       "    <tr>\n",
       "      <th>mean</th>\n",
       "      <td>42.076305</td>\n",
       "    </tr>\n",
       "    <tr>\n",
       "      <th>std</th>\n",
       "      <td>14.231662</td>\n",
       "    </tr>\n",
       "    <tr>\n",
       "      <th>min</th>\n",
       "      <td>1.000000</td>\n",
       "    </tr>\n",
       "    <tr>\n",
       "      <th>25%</th>\n",
       "      <td>38.000000</td>\n",
       "    </tr>\n",
       "    <tr>\n",
       "      <th>50%</th>\n",
       "      <td>40.000000</td>\n",
       "    </tr>\n",
       "    <tr>\n",
       "      <th>75%</th>\n",
       "      <td>50.000000</td>\n",
       "    </tr>\n",
       "    <tr>\n",
       "      <th>max</th>\n",
       "      <td>89.000000</td>\n",
       "    </tr>\n",
       "  </tbody>\n",
       "</table>\n",
       "</div>"
      ],
      "text/plain": [
       "              hrs1\n",
       "count  2739.000000\n",
       "mean     42.076305\n",
       "std      14.231662\n",
       "min       1.000000\n",
       "25%      38.000000\n",
       "50%      40.000000\n",
       "75%      50.000000\n",
       "max      89.000000"
      ]
     },
     "execution_count": 4,
     "metadata": {},
     "output_type": "execute_result"
    }
   ],
   "source": [
    "pd.DataFrame(gss.hrs1.describe())"
   ]
  },
  {
   "cell_type": "code",
   "execution_count": 5,
   "id": "7033c642",
   "metadata": {},
   "outputs": [
    {
     "data": {
      "text/plain": [
       "Text(0, 0.5, 'Frequency in data')"
      ]
     },
     "execution_count": 5,
     "metadata": {},
     "output_type": "execute_result"
    },
    {
     "data": {
      "image/png": "[encoded data removed]",
      "text/plain": [
       "<Figure size 432x288 with 1 Axes>"
      ]
     },
     "metadata": {
      "needs_background": "light"
     },
     "output_type": "display_data"
    }
   ],
   "source": [
    "gss.hist('hrs1')\n",
    "plt.title(\"Hours worked last week\")\n",
    "plt.xlabel(\"Working hrs last week\")\n",
    "plt.ylabel(\"Frequency in data\")"
   ]
  },
  {
   "cell_type": "code",
   "execution_count": 6,
   "id": "3755be47",
   "metadata": {},
   "outputs": [
    {
     "data": {
      "text/plain": [
       "count    2739.000000\n",
       "mean        2.321285\n",
       "std         0.630161\n",
       "min         1.000000\n",
       "25%         2.000000\n",
       "50%         2.000000\n",
       "75%         3.000000\n",
       "max         3.000000\n",
       "Name: workhrs, dtype: float64"
      ]
     },
     "execution_count": 6,
     "metadata": {},
     "output_type": "execute_result"
    }
   ],
   "source": [
    "# Creating a categorical variable for hours worked last week:\n",
    "conditions = [\n",
    "            (gss['hrs1']<=20), \n",
    "            (gss['hrs1']>20) & (gss['hrs1']<=40),\n",
    "            (gss['hrs1'] >40)]\n",
    "choices = [1, 2, 3]\n",
    "gss['workhrs'] = np.select(conditions, choices, default = np.nan)\n",
    "gss.workhrs.describe()\n"
   ]
  },
  {
   "cell_type": "code",
   "execution_count": 7,
   "id": "5ab2ebb3",
   "metadata": {},
   "outputs": [
    {
     "data": {
      "text/plain": [
       "2.0    1369\n",
       "3.0    1125\n",
       "1.0     245\n",
       "Name: workhrs, dtype: int64"
      ]
     },
     "execution_count": 7,
     "metadata": {},
     "output_type": "execute_result"
    }
   ],
   "source": [
    "gss.workhrs.value_counts()"
   ]
  },
  {
   "cell_type": "code",
   "execution_count": 8,
   "id": "d6c0fce8",
   "metadata": {},
   "outputs": [
    {
     "data": {
      "text/html": [
       "<div>\n",
       "<style scoped>\n",
       "    .dataframe tbody tr th:only-of-type {\n",
       "        vertical-align: middle;\n",
       "    }\n",
       "\n",
       "    .dataframe tbody tr th {\n",
       "        vertical-align: top;\n",
       "    }\n",
       "\n",
       "    .dataframe thead th {\n",
       "        text-align: right;\n",
       "    }\n",
       "</style>\n",
       "<table border=\"1\" class=\"dataframe\">\n",
       "  <thead>\n",
       "    <tr style=\"text-align: right;\">\n",
       "      <th>workhrs</th>\n",
       "      <th>1.0</th>\n",
       "      <th>2.0</th>\n",
       "      <th>3.0</th>\n",
       "    </tr>\n",
       "    <tr>\n",
       "      <th>hrs1</th>\n",
       "      <th></th>\n",
       "      <th></th>\n",
       "      <th></th>\n",
       "    </tr>\n",
       "  </thead>\n",
       "  <tbody>\n",
       "    <tr>\n",
       "      <th>1.0</th>\n",
       "      <td>0.016327</td>\n",
       "      <td>0.0</td>\n",
       "      <td>0.000000</td>\n",
       "    </tr>\n",
       "    <tr>\n",
       "      <th>2.0</th>\n",
       "      <td>0.004082</td>\n",
       "      <td>0.0</td>\n",
       "      <td>0.000000</td>\n",
       "    </tr>\n",
       "    <tr>\n",
       "      <th>3.0</th>\n",
       "      <td>0.008163</td>\n",
       "      <td>0.0</td>\n",
       "      <td>0.000000</td>\n",
       "    </tr>\n",
       "    <tr>\n",
       "      <th>4.0</th>\n",
       "      <td>0.032653</td>\n",
       "      <td>0.0</td>\n",
       "      <td>0.000000</td>\n",
       "    </tr>\n",
       "    <tr>\n",
       "      <th>5.0</th>\n",
       "      <td>0.020408</td>\n",
       "      <td>0.0</td>\n",
       "      <td>0.000000</td>\n",
       "    </tr>\n",
       "    <tr>\n",
       "      <th>...</th>\n",
       "      <td>...</td>\n",
       "      <td>...</td>\n",
       "      <td>...</td>\n",
       "    </tr>\n",
       "    <tr>\n",
       "      <th>84.0</th>\n",
       "      <td>0.000000</td>\n",
       "      <td>0.0</td>\n",
       "      <td>0.000889</td>\n",
       "    </tr>\n",
       "    <tr>\n",
       "      <th>85.0</th>\n",
       "      <td>0.000000</td>\n",
       "      <td>0.0</td>\n",
       "      <td>0.002667</td>\n",
       "    </tr>\n",
       "    <tr>\n",
       "      <th>86.0</th>\n",
       "      <td>0.000000</td>\n",
       "      <td>0.0</td>\n",
       "      <td>0.000889</td>\n",
       "    </tr>\n",
       "    <tr>\n",
       "      <th>88.0</th>\n",
       "      <td>0.000000</td>\n",
       "      <td>0.0</td>\n",
       "      <td>0.000889</td>\n",
       "    </tr>\n",
       "    <tr>\n",
       "      <th>89.0</th>\n",
       "      <td>0.000000</td>\n",
       "      <td>0.0</td>\n",
       "      <td>0.017778</td>\n",
       "    </tr>\n",
       "  </tbody>\n",
       "</table>\n",
       "<p>80 rows × 3 columns</p>\n",
       "</div>"
      ],
      "text/plain": [
       "workhrs       1.0  2.0       3.0\n",
       "hrs1                            \n",
       "1.0      0.016327  0.0  0.000000\n",
       "2.0      0.004082  0.0  0.000000\n",
       "3.0      0.008163  0.0  0.000000\n",
       "4.0      0.032653  0.0  0.000000\n",
       "5.0      0.020408  0.0  0.000000\n",
       "...           ...  ...       ...\n",
       "84.0     0.000000  0.0  0.000889\n",
       "85.0     0.000000  0.0  0.002667\n",
       "86.0     0.000000  0.0  0.000889\n",
       "88.0     0.000000  0.0  0.000889\n",
       "89.0     0.000000  0.0  0.017778\n",
       "\n",
       "[80 rows x 3 columns]"
      ]
     },
     "execution_count": 8,
     "metadata": {},
     "output_type": "execute_result"
    }
   ],
   "source": [
    "res = pd.crosstab(gss.hrs1, gss.workhrs)\n",
    "res.astype('float').div(res.sum(axis=0), axis=1)"
   ]
  },
  {
   "cell_type": "markdown",
   "id": "a89dd69b",
   "metadata": {},
   "source": [
    "I chose a continuous variable: hrs1, which depicts number of hours the respondent worked last week. Then I created three conditions for categories: less than 20hrs (coded as 1), between 20 and 40 hrs (coded as 2), and more than 40 hrs (coded as 3). I used the select function from the numpy package to create the recoded variable named 'workhrs'; I provided the condition and the choices to the select function which recoded the hrs1 variable into a categorical variable."
   ]
  },
  {
   "cell_type": "markdown",
   "id": "b4b2a11a",
   "metadata": {},
   "source": [
    "### 2) Recode 1 another variable and attach value labels.  Tell me what you did and explain the variable(s)."
   ]
  },
  {
   "cell_type": "code",
   "execution_count": 9,
   "id": "8c00ebb8",
   "metadata": {},
   "outputs": [
    {
     "data": {
      "text/plain": [
       "count    4242.000000\n",
       "mean       49.409595\n",
       "std        19.599476\n",
       "min        17.100000\n",
       "25%        32.799999\n",
       "50%        42.200001\n",
       "75%        64.099998\n",
       "max        97.199997\n",
       "Name: sei, dtype: float64"
      ]
     },
     "execution_count": 9,
     "metadata": {},
     "output_type": "execute_result"
    }
   ],
   "source": [
    "gss.sei.describe()"
   ]
  },
  {
   "cell_type": "code",
   "execution_count": 10,
   "id": "c58a6314",
   "metadata": {},
   "outputs": [
    {
     "data": {
      "text/plain": [
       "Text(0.5, 1.0, \"Respondent's Socioeconomic index\")"
      ]
     },
     "execution_count": 10,
     "metadata": {},
     "output_type": "execute_result"
    },
    {
     "data": {
      "image/png": "[encoded data removed]",
      "text/plain": [
       "<Figure size 432x288 with 1 Axes>"
      ]
     },
     "metadata": {
      "needs_background": "light"
     },
     "output_type": "display_data"
    }
   ],
   "source": [
    "gss.hist('sei')\n",
    "plt.title(\"Respondent's Socioeconomic index\")"
   ]
  },
  {
   "cell_type": "code",
   "execution_count": 11,
   "id": "c7e7ed79",
   "metadata": {},
   "outputs": [],
   "source": [
    "bins = [(gss['sei']<=40),\n",
    "        (gss['sei']>40) & (gss['sei']<=60),\n",
    "        (gss['sei']>60)\n",
    "]\n",
    "labels = [\"low\",\"medium\",\"high\"]\n",
    "gss['seindex'] = np.select(bins, labels, default = np.nan)"
   ]
  },
  {
   "cell_type": "code",
   "execution_count": 12,
   "id": "0f89bc68",
   "metadata": {},
   "outputs": [
    {
     "data": {
      "text/plain": [
       "count     4510\n",
       "unique       4\n",
       "top        low\n",
       "freq      2089\n",
       "Name: seindex, dtype: object"
      ]
     },
     "execution_count": 12,
     "metadata": {},
     "output_type": "execute_result"
    }
   ],
   "source": [
    "gss.seindex.describe()"
   ]
  },
  {
   "cell_type": "code",
   "execution_count": 13,
   "id": "d835f84e",
   "metadata": {},
   "outputs": [
    {
     "data": {
      "text/html": [
       "<div>\n",
       "<style scoped>\n",
       "    .dataframe tbody tr th:only-of-type {\n",
       "        vertical-align: middle;\n",
       "    }\n",
       "\n",
       "    .dataframe tbody tr th {\n",
       "        vertical-align: top;\n",
       "    }\n",
       "\n",
       "    .dataframe thead th {\n",
       "        text-align: right;\n",
       "    }\n",
       "</style>\n",
       "<table border=\"1\" class=\"dataframe\">\n",
       "  <thead>\n",
       "    <tr style=\"text-align: right;\">\n",
       "      <th>seindex</th>\n",
       "      <th>high</th>\n",
       "      <th>low</th>\n",
       "      <th>medium</th>\n",
       "    </tr>\n",
       "    <tr>\n",
       "      <th>sei</th>\n",
       "      <th></th>\n",
       "      <th></th>\n",
       "      <th></th>\n",
       "    </tr>\n",
       "  </thead>\n",
       "  <tbody>\n",
       "    <tr>\n",
       "      <th>17.100000</th>\n",
       "      <td>0</td>\n",
       "      <td>13</td>\n",
       "      <td>0</td>\n",
       "    </tr>\n",
       "    <tr>\n",
       "      <th>17.600000</th>\n",
       "      <td>0</td>\n",
       "      <td>3</td>\n",
       "      <td>0</td>\n",
       "    </tr>\n",
       "    <tr>\n",
       "      <th>18.500000</th>\n",
       "      <td>0</td>\n",
       "      <td>5</td>\n",
       "      <td>0</td>\n",
       "    </tr>\n",
       "    <tr>\n",
       "      <th>19.500000</th>\n",
       "      <td>0</td>\n",
       "      <td>2</td>\n",
       "      <td>0</td>\n",
       "    </tr>\n",
       "    <tr>\n",
       "      <th>20.100000</th>\n",
       "      <td>0</td>\n",
       "      <td>5</td>\n",
       "      <td>0</td>\n",
       "    </tr>\n",
       "    <tr>\n",
       "      <th>...</th>\n",
       "      <td>...</td>\n",
       "      <td>...</td>\n",
       "      <td>...</td>\n",
       "    </tr>\n",
       "    <tr>\n",
       "      <th>92.300003</th>\n",
       "      <td>28</td>\n",
       "      <td>0</td>\n",
       "      <td>0</td>\n",
       "    </tr>\n",
       "    <tr>\n",
       "      <th>92.800003</th>\n",
       "      <td>3</td>\n",
       "      <td>0</td>\n",
       "      <td>0</td>\n",
       "    </tr>\n",
       "    <tr>\n",
       "      <th>93.300003</th>\n",
       "      <td>8</td>\n",
       "      <td>0</td>\n",
       "      <td>0</td>\n",
       "    </tr>\n",
       "    <tr>\n",
       "      <th>96.000000</th>\n",
       "      <td>2</td>\n",
       "      <td>0</td>\n",
       "      <td>0</td>\n",
       "    </tr>\n",
       "    <tr>\n",
       "      <th>97.199997</th>\n",
       "      <td>20</td>\n",
       "      <td>0</td>\n",
       "      <td>0</td>\n",
       "    </tr>\n",
       "  </tbody>\n",
       "</table>\n",
       "<p>273 rows × 3 columns</p>\n",
       "</div>"
      ],
      "text/plain": [
       "seindex    high  low  medium\n",
       "sei                         \n",
       "17.100000     0   13       0\n",
       "17.600000     0    3       0\n",
       "18.500000     0    5       0\n",
       "19.500000     0    2       0\n",
       "20.100000     0    5       0\n",
       "...         ...  ...     ...\n",
       "92.300003    28    0       0\n",
       "92.800003     3    0       0\n",
       "93.300003     8    0       0\n",
       "96.000000     2    0       0\n",
       "97.199997    20    0       0\n",
       "\n",
       "[273 rows x 3 columns]"
      ]
     },
     "execution_count": 13,
     "metadata": {},
     "output_type": "execute_result"
    }
   ],
   "source": [
    "pd.crosstab(gss.sei, gss.seindex)"
   ]
  },
  {
   "cell_type": "markdown",
   "id": "0a6e8471",
   "metadata": {},
   "source": [
    "I chose a continuous variable sei: the socioeconomic index of the respondent. I created three bins for sei, less than and equal to 40 (low), between 40 and 60 (medium), greater than 60 (high). I used the select function from the numpy package to create the recoded variable named 'seindex'; I provided the bins and the labels to the select function which recoded the sei variable into a categorical variable called seindex."
   ]
  },
  {
   "cell_type": "markdown",
   "id": "9d679f01",
   "metadata": {},
   "source": [
    "### 3) 3. Use one (or both) of your recoded variables to do a cross-tabulation. Explain your results."
   ]
  },
  {
   "cell_type": "code",
   "execution_count": 14,
   "id": "e15af86e",
   "metadata": {},
   "outputs": [
    {
     "data": {
      "text/plain": [
       "['high', 'low', 'medium', 'nan']"
      ]
     },
     "execution_count": 14,
     "metadata": {},
     "output_type": "execute_result"
    }
   ],
   "source": [
    "tabcross = pd.crosstab(gss.workhrs, gss.seindex)\n",
    "tabcross.columns.tolist()"
   ]
  },
  {
   "cell_type": "code",
   "execution_count": 15,
   "id": "27245f2f",
   "metadata": {},
   "outputs": [
    {
     "data": {
      "text/html": [
       "<div>\n",
       "<style scoped>\n",
       "    .dataframe tbody tr th:only-of-type {\n",
       "        vertical-align: middle;\n",
       "    }\n",
       "\n",
       "    .dataframe tbody tr th {\n",
       "        vertical-align: top;\n",
       "    }\n",
       "\n",
       "    .dataframe thead th {\n",
       "        text-align: right;\n",
       "    }\n",
       "</style>\n",
       "<table border=\"1\" class=\"dataframe\">\n",
       "  <thead>\n",
       "    <tr style=\"text-align: right;\">\n",
       "      <th>seindex</th>\n",
       "      <th>low</th>\n",
       "      <th>medium</th>\n",
       "      <th>high</th>\n",
       "      <th>nan</th>\n",
       "    </tr>\n",
       "    <tr>\n",
       "      <th>workhrs</th>\n",
       "      <th></th>\n",
       "      <th></th>\n",
       "      <th></th>\n",
       "      <th></th>\n",
       "    </tr>\n",
       "  </thead>\n",
       "  <tbody>\n",
       "    <tr>\n",
       "      <th>1.0</th>\n",
       "      <td>134</td>\n",
       "      <td>27</td>\n",
       "      <td>84</td>\n",
       "      <td>0</td>\n",
       "    </tr>\n",
       "    <tr>\n",
       "      <th>2.0</th>\n",
       "      <td>699</td>\n",
       "      <td>215</td>\n",
       "      <td>441</td>\n",
       "      <td>14</td>\n",
       "    </tr>\n",
       "    <tr>\n",
       "      <th>3.0</th>\n",
       "      <td>401</td>\n",
       "      <td>199</td>\n",
       "      <td>499</td>\n",
       "      <td>26</td>\n",
       "    </tr>\n",
       "  </tbody>\n",
       "</table>\n",
       "</div>"
      ],
      "text/plain": [
       "seindex  low  medium  high  nan\n",
       "workhrs                        \n",
       "1.0      134      27    84    0\n",
       "2.0      699     215   441   14\n",
       "3.0      401     199   499   26"
      ]
     },
     "execution_count": 15,
     "metadata": {},
     "output_type": "execute_result"
    }
   ],
   "source": [
    "tabcross = tabcross[['low', 'medium', 'high', 'nan']]\n",
    "tabcross"
   ]
  },
  {
   "cell_type": "code",
   "execution_count": 16,
   "id": "7eddf222",
   "metadata": {},
   "outputs": [
    {
     "data": {
      "text/html": [
       "<div>\n",
       "<style scoped>\n",
       "    .dataframe tbody tr th:only-of-type {\n",
       "        vertical-align: middle;\n",
       "    }\n",
       "\n",
       "    .dataframe tbody tr th {\n",
       "        vertical-align: top;\n",
       "    }\n",
       "\n",
       "    .dataframe thead th {\n",
       "        text-align: right;\n",
       "    }\n",
       "</style>\n",
       "<table border=\"1\" class=\"dataframe\">\n",
       "  <thead>\n",
       "    <tr style=\"text-align: right;\">\n",
       "      <th>seindex</th>\n",
       "      <th>low</th>\n",
       "      <th>medium</th>\n",
       "      <th>high</th>\n",
       "      <th>nan</th>\n",
       "    </tr>\n",
       "    <tr>\n",
       "      <th>workhrs</th>\n",
       "      <th></th>\n",
       "      <th></th>\n",
       "      <th></th>\n",
       "      <th></th>\n",
       "    </tr>\n",
       "  </thead>\n",
       "  <tbody>\n",
       "    <tr>\n",
       "      <th>1.0</th>\n",
       "      <td>10.858995</td>\n",
       "      <td>6.122449</td>\n",
       "      <td>8.203125</td>\n",
       "      <td>0.0</td>\n",
       "    </tr>\n",
       "    <tr>\n",
       "      <th>2.0</th>\n",
       "      <td>56.645057</td>\n",
       "      <td>48.752834</td>\n",
       "      <td>43.066406</td>\n",
       "      <td>35.0</td>\n",
       "    </tr>\n",
       "    <tr>\n",
       "      <th>3.0</th>\n",
       "      <td>32.495948</td>\n",
       "      <td>45.124717</td>\n",
       "      <td>48.730469</td>\n",
       "      <td>65.0</td>\n",
       "    </tr>\n",
       "  </tbody>\n",
       "</table>\n",
       "</div>"
      ],
      "text/plain": [
       "seindex        low     medium       high   nan\n",
       "workhrs                                       \n",
       "1.0      10.858995   6.122449   8.203125   0.0\n",
       "2.0      56.645057  48.752834  43.066406  35.0\n",
       "3.0      32.495948  45.124717  48.730469  65.0"
      ]
     },
     "execution_count": 16,
     "metadata": {},
     "output_type": "execute_result"
    }
   ],
   "source": [
    "tabcross1 = pd.crosstab(gss.workhrs, gss.seindex, normalize = 'columns')*100\n",
    "tabcross1 = tabcross1[['low', 'medium', 'high', 'nan']]\n",
    "tabcross1"
   ]
  },
  {
   "cell_type": "code",
   "execution_count": 17,
   "id": "cb223080",
   "metadata": {},
   "outputs": [
    {
     "data": {
      "text/html": [
       "<div>\n",
       "<style scoped>\n",
       "    .dataframe tbody tr th:only-of-type {\n",
       "        vertical-align: middle;\n",
       "    }\n",
       "\n",
       "    .dataframe tbody tr th {\n",
       "        vertical-align: top;\n",
       "    }\n",
       "\n",
       "    .dataframe thead th {\n",
       "        text-align: right;\n",
       "    }\n",
       "</style>\n",
       "<table border=\"1\" class=\"dataframe\">\n",
       "  <thead>\n",
       "    <tr style=\"text-align: right;\">\n",
       "      <th>workhrs</th>\n",
       "      <th>1.0</th>\n",
       "      <th>2.0</th>\n",
       "      <th>3.0</th>\n",
       "    </tr>\n",
       "    <tr>\n",
       "      <th>seindex</th>\n",
       "      <th></th>\n",
       "      <th></th>\n",
       "      <th></th>\n",
       "    </tr>\n",
       "  </thead>\n",
       "  <tbody>\n",
       "    <tr>\n",
       "      <th>high</th>\n",
       "      <td>34.285714</td>\n",
       "      <td>32.213294</td>\n",
       "      <td>44.355556</td>\n",
       "    </tr>\n",
       "    <tr>\n",
       "      <th>low</th>\n",
       "      <td>54.693878</td>\n",
       "      <td>51.059167</td>\n",
       "      <td>35.644444</td>\n",
       "    </tr>\n",
       "    <tr>\n",
       "      <th>medium</th>\n",
       "      <td>11.020408</td>\n",
       "      <td>15.704894</td>\n",
       "      <td>17.688889</td>\n",
       "    </tr>\n",
       "    <tr>\n",
       "      <th>nan</th>\n",
       "      <td>0.000000</td>\n",
       "      <td>1.022644</td>\n",
       "      <td>2.311111</td>\n",
       "    </tr>\n",
       "  </tbody>\n",
       "</table>\n",
       "</div>"
      ],
      "text/plain": [
       "workhrs        1.0        2.0        3.0\n",
       "seindex                                 \n",
       "high     34.285714  32.213294  44.355556\n",
       "low      54.693878  51.059167  35.644444\n",
       "medium   11.020408  15.704894  17.688889\n",
       "nan       0.000000   1.022644   2.311111"
      ]
     },
     "execution_count": 17,
     "metadata": {},
     "output_type": "execute_result"
    }
   ],
   "source": [
    "pd.crosstab(gss.seindex, gss.workhrs, normalize = 'columns')*100\n"
   ]
  },
  {
   "cell_type": "markdown",
   "id": "a2d78494",
   "metadata": {},
   "source": [
    "In the cross tabulation of working hours and socioeconomic index, we can see that people on the higher end of the socioeconomic index generally tend to work more than 20 hours a week and very few of them (~8%) work less than 20 hours a week. Most of the people in the middle of the socioeconomic index tend to work between 20 and 40 hours a week; only about 6% of them work less than 20 hours a week. For people in the lower end of the socioeconomic index, more than half of them work between 20 and 40 hours a week; only about 32% of them work more than 40 hours. Before reading this cross tabulation, I would have assumed that more people in the lower end of the index worked more than 40 hours a week but that clearly does not seem to be the case. I lso expected to see less people in the higher end of the index working more than 40 hours a week- which is also not the case. \n",
    "________\n",
    "In the cross tab of socioeconomic index and working hours, we see that most of the people who work more than 40 hours a week tend to be on the higher end of the socioeconomic index and most of the people who work less than 20 hours a week tend to be on the lower end of the socioeconomic index. This seems counterintuitive."
   ]
  },
  {
   "cell_type": "markdown",
   "id": "efe8c617",
   "metadata": {},
   "source": [
    "### 4) Run a linear regression with 1 independent and 1 dependent variable.  Make all of the recodes necessary to make the model as easy to interpret as possible.  And explain your results."
   ]
  },
  {
   "cell_type": "code",
   "execution_count": 18,
   "id": "10181412",
   "metadata": {},
   "outputs": [
    {
     "data": {
      "text/plain": [
       "count      2669.000000\n",
       "mean      35211.710753\n",
       "std       33886.520013\n",
       "min         441.000000\n",
       "25%       14334.000000\n",
       "50%       28668.000000\n",
       "75%       48516.000000\n",
       "max      189740.000000\n",
       "Name: conrinc, dtype: float64"
      ]
     },
     "execution_count": 18,
     "metadata": {},
     "output_type": "execute_result"
    }
   ],
   "source": [
    "#respondent income in dollars - Independent Variable\n",
    "gss.conrinc.describe()"
   ]
  },
  {
   "cell_type": "code",
   "execution_count": 36,
   "id": "7e5866be",
   "metadata": {},
   "outputs": [
    {
     "data": {
      "text/plain": [
       "array([[<AxesSubplot:title={'center':'conrinc'}>]], dtype=object)"
      ]
     },
     "execution_count": 36,
     "metadata": {},
     "output_type": "execute_result"
    },
    {
     "data": {
      "image/png": "[encoded data removed]",
      "text/plain": [
       "<Figure size 432x288 with 1 Axes>"
      ]
     },
     "metadata": {
      "needs_background": "light"
     },
     "output_type": "display_data"
    }
   ],
   "source": [
    "gss.hist('conrinc')"
   ]
  },
  {
   "cell_type": "code",
   "execution_count": 35,
   "id": "da66e7d5",
   "metadata": {},
   "outputs": [
    {
     "data": {
      "text/plain": [
       "count    4270.000000\n",
       "mean       44.167447\n",
       "std        13.999459\n",
       "min        17.000000\n",
       "25%        33.000000\n",
       "50%        43.000000\n",
       "75%        51.000000\n",
       "max        86.000000\n",
       "Name: prestg80, dtype: float64"
      ]
     },
     "execution_count": 35,
     "metadata": {},
     "output_type": "execute_result"
    }
   ],
   "source": [
    "# respondent's occupational prestige score - Dependent Variable\n",
    "gss.prestg80.describe()"
   ]
  },
  {
   "cell_type": "markdown",
   "id": "609b6f9e",
   "metadata": {},
   "source": [
    "##### Question: How is the income status of the respondent associated with their occupational prestige score?"
   ]
  },
  {
   "cell_type": "markdown",
   "id": "483e6307",
   "metadata": {},
   "source": [
    "Recoding conrinc, the income of respondents in dollars, into a categorical variable with three labels: low income (less than 25000), medium income (between 25000 and 65000), and high income (more than 65000). New variable incstat (income status) is a categorical variable with three classes: low income, medium income, and high income."
   ]
  },
  {
   "cell_type": "code",
   "execution_count": 47,
   "id": "934bc3d3",
   "metadata": {},
   "outputs": [],
   "source": [
    "\n",
    "bins1 = [(gss['conrinc']<=25000),\n",
    "        (gss['conrinc']>25000) & (gss['conrinc']<=65000),\n",
    "        (gss['conrinc']>65000)\n",
    "]\n",
    "labels1 = [\"low income\",\"medium income\",\"high income\"]\n",
    "gss['incstat'] = np.select(bins1, labels1, default = np.nan)"
   ]
  },
  {
   "cell_type": "code",
   "execution_count": 48,
   "id": "9ca248d7",
   "metadata": {},
   "outputs": [
    {
     "data": {
      "text/plain": [
       "<bound method NDFrame.describe of 0       medium income\n",
       "1       medium income\n",
       "2                 nan\n",
       "3          low income\n",
       "4                 nan\n",
       "            ...      \n",
       "4505      high income\n",
       "4506              nan\n",
       "4507       low income\n",
       "4508              nan\n",
       "4509              nan\n",
       "Name: incstat, Length: 4510, dtype: object>"
      ]
     },
     "execution_count": 48,
     "metadata": {},
     "output_type": "execute_result"
    }
   ],
   "source": [
    "gss.incstat.describe"
   ]
  },
  {
   "cell_type": "code",
   "execution_count": 49,
   "id": "4358c1e0",
   "metadata": {},
   "outputs": [
    {
     "data": {
      "text/html": [
       "<div>\n",
       "<style scoped>\n",
       "    .dataframe tbody tr th:only-of-type {\n",
       "        vertical-align: middle;\n",
       "    }\n",
       "\n",
       "    .dataframe tbody tr th {\n",
       "        vertical-align: top;\n",
       "    }\n",
       "\n",
       "    .dataframe thead th {\n",
       "        text-align: right;\n",
       "    }\n",
       "</style>\n",
       "<table border=\"1\" class=\"dataframe\">\n",
       "  <thead>\n",
       "    <tr style=\"text-align: right;\">\n",
       "      <th>incstat</th>\n",
       "      <th>high income</th>\n",
       "      <th>low income</th>\n",
       "      <th>medium income</th>\n",
       "    </tr>\n",
       "    <tr>\n",
       "      <th>conrinc</th>\n",
       "      <th></th>\n",
       "      <th></th>\n",
       "      <th></th>\n",
       "    </tr>\n",
       "  </thead>\n",
       "  <tbody>\n",
       "    <tr>\n",
       "      <th>441.0</th>\n",
       "      <td>0</td>\n",
       "      <td>53</td>\n",
       "      <td>0</td>\n",
       "    </tr>\n",
       "    <tr>\n",
       "      <th>1764.0</th>\n",
       "      <td>0</td>\n",
       "      <td>75</td>\n",
       "      <td>0</td>\n",
       "    </tr>\n",
       "    <tr>\n",
       "      <th>3087.0</th>\n",
       "      <td>0</td>\n",
       "      <td>47</td>\n",
       "      <td>0</td>\n",
       "    </tr>\n",
       "    <tr>\n",
       "      <th>3969.0</th>\n",
       "      <td>0</td>\n",
       "      <td>53</td>\n",
       "      <td>0</td>\n",
       "    </tr>\n",
       "    <tr>\n",
       "      <th>4852.0</th>\n",
       "      <td>0</td>\n",
       "      <td>41</td>\n",
       "      <td>0</td>\n",
       "    </tr>\n",
       "    <tr>\n",
       "      <th>5734.0</th>\n",
       "      <td>0</td>\n",
       "      <td>42</td>\n",
       "      <td>0</td>\n",
       "    </tr>\n",
       "    <tr>\n",
       "      <th>6616.0</th>\n",
       "      <td>0</td>\n",
       "      <td>37</td>\n",
       "      <td>0</td>\n",
       "    </tr>\n",
       "    <tr>\n",
       "      <th>7939.0</th>\n",
       "      <td>0</td>\n",
       "      <td>61</td>\n",
       "      <td>0</td>\n",
       "    </tr>\n",
       "    <tr>\n",
       "      <th>9924.0</th>\n",
       "      <td>0</td>\n",
       "      <td>123</td>\n",
       "      <td>0</td>\n",
       "    </tr>\n",
       "    <tr>\n",
       "      <th>12129.0</th>\n",
       "      <td>0</td>\n",
       "      <td>108</td>\n",
       "      <td>0</td>\n",
       "    </tr>\n",
       "  </tbody>\n",
       "</table>\n",
       "</div>"
      ],
      "text/plain": [
       "incstat  high income  low income  medium income\n",
       "conrinc                                        \n",
       "441.0              0          53              0\n",
       "1764.0             0          75              0\n",
       "3087.0             0          47              0\n",
       "3969.0             0          53              0\n",
       "4852.0             0          41              0\n",
       "5734.0             0          42              0\n",
       "6616.0             0          37              0\n",
       "7939.0             0          61              0\n",
       "9924.0             0         123              0\n",
       "12129.0            0         108              0"
      ]
     },
     "execution_count": 49,
     "metadata": {},
     "output_type": "execute_result"
    }
   ],
   "source": [
    "pd.crosstab(gss.conrinc, gss.incstat).head(10)"
   ]
  },
  {
   "cell_type": "code",
   "execution_count": 50,
   "id": "127fcd62",
   "metadata": {},
   "outputs": [
    {
     "name": "stdout",
     "output_type": "stream",
     "text": [
      "                            OLS Regression Results                            \n",
      "==============================================================================\n",
      "Dep. Variable:               prestg80   R-squared:                       0.162\n",
      "Model:                            OLS   Adj. R-squared:                  0.161\n",
      "Method:                 Least Squares   F-statistic:                     255.7\n",
      "Date:                Thu, 21 Oct 2021   Prob (F-statistic):          2.78e-102\n",
      "Time:                        00:33:43   Log-Likelihood:                -10589.\n",
      "No. Observations:                2655   AIC:                         2.118e+04\n",
      "Df Residuals:                    2652   BIC:                         2.120e+04\n",
      "Df Model:                           2                                         \n",
      "Covariance Type:            nonrobust                                         \n",
      "============================================================================================\n",
      "                               coef    std err          t      P>|t|      [0.025      0.975]\n",
      "--------------------------------------------------------------------------------------------\n",
      "Intercept                   55.4186      0.753     73.577      0.000      53.942      56.896\n",
      "incstat[T.low income]      -16.1344      0.837    -19.286      0.000     -17.775     -14.494\n",
      "incstat[T.medium income]    -6.9674      0.853     -8.169      0.000      -8.640      -5.295\n",
      "==============================================================================\n",
      "Omnibus:                       99.940   Durbin-Watson:                   1.920\n",
      "Prob(Omnibus):                  0.000   Jarque-Bera (JB):               93.612\n",
      "Skew:                           0.410   Prob(JB):                     4.70e-21\n",
      "Kurtosis:                       2.583   Cond. No.                         6.29\n",
      "==============================================================================\n",
      "\n",
      "Notes:\n",
      "[1] Standard Errors assume that the covariance matrix of the errors is correctly specified.\n"
     ]
    }
   ],
   "source": [
    "# Regression income status on occupational prestige score\n",
    "lm = smf.ols(formula = 'prestg80~incstat', data = gss).fit()\n",
    "print (lm.summary())"
   ]
  },
  {
   "cell_type": "markdown",
   "id": "3e5d93de",
   "metadata": {},
   "source": [
    "#### On an average: an individual with high income would have am occupational prestige score of 55.4186. A change in their income status from high to medium would reduce their occupational presitge score by 6.9674.  Additionally, a change in their income status from high to low would reduce their occupational prestige score by 23.1018. "
   ]
  },
  {
   "cell_type": "markdown",
   "id": "3dabb7b6",
   "metadata": {},
   "source": [
    "### 5) Plot two variables, either as a scatter plot or boxplot.  Explain your results."
   ]
  },
  {
   "cell_type": "code",
   "execution_count": 165,
   "id": "846b3bc2",
   "metadata": {},
   "outputs": [
    {
     "data": {
      "text/plain": [
       "<AxesSubplot:xlabel='conrinc', ylabel='prestg80'>"
      ]
     },
     "execution_count": 165,
     "metadata": {},
     "output_type": "execute_result"
    },
    {
     "data": {
      "image/png": "[encoded data removed]",
      "text/plain": [
       "<Figure size 432x288 with 1 Axes>"
      ]
     },
     "metadata": {
      "needs_background": "light"
     },
     "output_type": "display_data"
    }
   ],
   "source": [
    "import seaborn as sns\n",
    "# Plotting income in dollars against occupational prestige score\n",
    "sns.regplot(x = 'conrinc', y = 'prestg80', data = gss)"
   ]
  },
  {
   "cell_type": "markdown",
   "id": "6c060635",
   "metadata": {},
   "source": [
    "In this graph, we visualize the relationship between the respondents' income in constant dollars and their occupational prestige score. There seems to be a  positive relationship between the two: high income level is associated with a high prestige score. "
   ]
  },
  {
   "cell_type": "code",
   "execution_count": 166,
   "id": "aab02003",
   "metadata": {},
   "outputs": [
    {
     "data": {
      "text/plain": [
       "<AxesSubplot:title={'center':'conrinc'}, xlabel='disabld5'>"
      ]
     },
     "execution_count": 166,
     "metadata": {},
     "output_type": "execute_result"
    },
    {
     "data": {
      "image/png": "[encoded data removed]",
      "text/plain": [
       "<Figure size 432x288 with 1 Axes>"
      ]
     },
     "metadata": {
      "needs_background": "light"
     },
     "output_type": "display_data"
    }
   ],
   "source": [
    "gss.boxplot(column = 'conrinc', by = 'disabld5')"
   ]
  },
  {
   "cell_type": "markdown",
   "id": "a3a62233",
   "metadata": {},
   "source": [
    "The boxplot looks at respondent's income in dollars grouped by disabld5: a categorical variable for whether the respondent has emotional or mental disabilities, where 1 signifies yes and 2 signifies no. In this data, respondents who don't have emotional or mental disabilities tend to have higher income in dollars on an average. They also tend to have a bigger range of income than individuals who do have mental or emotional disabilities. For the group with mental or emotional disabilites, there seems to be an outlier who earns around $75000 which is above the third quartile for the other group's income range.  "
   ]
  },
  {
   "cell_type": "markdown",
   "id": "67c1bdf0",
   "metadata": {},
   "source": [
    "### 6) Tell me two theories/ideas you might want to test in this course. Do you have a dataset for these ideas/theories already? Do you have it in R-readable format already? What is your main independent variable? What is your main dependent variable? "
   ]
  },
  {
   "cell_type": "markdown",
   "id": "a6528aad",
   "metadata": {},
   "source": [
    "##### Theory 1: I hope to explore the relationship, if one exists, between income inequality and carbon emissions. My hypothesis is that there exists a positive relationship between income inequality and consumption-based carbon emissions.\n",
    "For the target / dependent variable: I hope to look at consumption-side carbon emission.\n",
    "I found a dataset for residential carbon dioxide emissions from fossil fuel combustion, measured in million metric tons CO2 (MMTCO2). The source is the United States Environmental Protection Agency (EPA).\n",
    "\n",
    "For the feature / independent variable: I hope to use a combination of the gini index and the theil index.\n",
    "The Mark Frank’s U.S. State-Level Income Inequality Database contains data on the theil index. I will have to do a little more exploration to find a good dataset on the gini.\n",
    "\n",
    "The datasets are not in python-readable format yet and require a little bit of cleaning and preprocessing."
   ]
  },
  {
   "cell_type": "markdown",
   "id": "721a7cab",
   "metadata": {},
   "source": [
    "##### Theory 2: I hope to explore and analzye current trends in the stock market (specifically tech related stocks) and compare them to the dot com bubble to see if there are any similarities \n",
    "\n",
    "For the target / dependent variable: current stock prices \n",
    "\n",
    "For the feature / independent variable: stock prices from during, before, and right after the dot com bubble  \n",
    "\n",
    "This idea is not as formed as the other idea and hence I don't have any potenital data sets. "
   ]
  }
 ],
 "metadata": {
  "kernelspec": {
   "display_name": "Python 3",
   "language": "python",
   "name": "python3"
  },
  "language_info": {
   "codemirror_mode": {
    "name": "ipython",
    "version": 3
   },
   "file_extension": ".py",
   "mimetype": "text/x-python",
   "name": "python",
   "nbconvert_exporter": "python",
   "pygments_lexer": "ipython3",
   "version": "3.8.8"
  }
 },
 "nbformat": 4,
 "nbformat_minor": 5
}
