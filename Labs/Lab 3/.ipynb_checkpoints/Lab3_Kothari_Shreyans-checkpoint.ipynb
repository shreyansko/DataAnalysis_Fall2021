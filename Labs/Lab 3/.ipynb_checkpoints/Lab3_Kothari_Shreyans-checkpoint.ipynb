{
 "cells": [
  {
   "cell_type": "markdown",
   "id": "794045db",
   "metadata": {},
   "source": [
    "# Data Analysis for Social Sciences: Lab 3"
   ]
  },
  {
   "cell_type": "markdown",
   "id": "b8c084b9",
   "metadata": {},
   "source": [
    "***UNI:*** sk4819 | ***Date:*** October 27, 2021"
   ]
  },
  {
   "cell_type": "code",
   "execution_count": 1,
   "id": "34905377",
   "metadata": {},
   "outputs": [],
   "source": [
    "# Importing libraries\n",
    "from __future__ import division\n",
    "import pandas as pd\n",
    "import numpy as np\n",
    "import statsmodels.api as sm\n",
    "import statsmodels.formula.api as smf\n",
    "import os\n",
    "import matplotlib.pyplot as plt\n",
    "import seaborn as sns"
   ]
  },
  {
   "cell_type": "code",
   "execution_count": 2,
   "id": "74aefddf",
   "metadata": {},
   "outputs": [
    {
     "data": {
      "text/plain": [
       "'/Users/shreyanskothari/Desktop/Data Analysis for Social Sciences/Labs/Untitled Folder'"
      ]
     },
     "execution_count": 2,
     "metadata": {},
     "output_type": "execute_result"
    }
   ],
   "source": [
    "os.getcwd()"
   ]
  },
  {
   "cell_type": "code",
   "execution_count": 3,
   "id": "8b0f3220",
   "metadata": {},
   "outputs": [],
   "source": [
    "os.chdir(\"/Users/shreyanskothari/Desktop/Data Analysis for Social Sciences/Labs/Lab1\")"
   ]
  },
  {
   "cell_type": "code",
   "execution_count": 4,
   "id": "2139991c",
   "metadata": {},
   "outputs": [],
   "source": [
    "gss = pd.read_csv(\"GSS.2006.csv.xls\", sep =\",\")"
   ]
  },
  {
   "cell_type": "code",
   "execution_count": 5,
   "id": "0ec664c5",
   "metadata": {},
   "outputs": [
    {
     "name": "stdout",
     "output_type": "stream",
     "text": [
      "(4510, 1261)\n"
     ]
    },
    {
     "data": {
      "text/html": [
       "<div>\n",
       "<style scoped>\n",
       "    .dataframe tbody tr th:only-of-type {\n",
       "        vertical-align: middle;\n",
       "    }\n",
       "\n",
       "    .dataframe tbody tr th {\n",
       "        vertical-align: top;\n",
       "    }\n",
       "\n",
       "    .dataframe thead th {\n",
       "        text-align: right;\n",
       "    }\n",
       "</style>\n",
       "<table border=\"1\" class=\"dataframe\">\n",
       "  <thead>\n",
       "    <tr style=\"text-align: right;\">\n",
       "      <th></th>\n",
       "      <th>vpsu</th>\n",
       "      <th>vstrat</th>\n",
       "      <th>adults</th>\n",
       "      <th>ballot</th>\n",
       "      <th>dateintv</th>\n",
       "      <th>famgen</th>\n",
       "      <th>form</th>\n",
       "      <th>formwt</th>\n",
       "      <th>gender1</th>\n",
       "      <th>hompop</th>\n",
       "      <th>...</th>\n",
       "      <th>away7</th>\n",
       "      <th>gender14</th>\n",
       "      <th>old14</th>\n",
       "      <th>relate14</th>\n",
       "      <th>relhh14</th>\n",
       "      <th>relhhd14</th>\n",
       "      <th>relsp14</th>\n",
       "      <th>where12</th>\n",
       "      <th>where6</th>\n",
       "      <th>where7</th>\n",
       "    </tr>\n",
       "  </thead>\n",
       "  <tbody>\n",
       "    <tr>\n",
       "      <th>0</th>\n",
       "      <td>1</td>\n",
       "      <td>1957</td>\n",
       "      <td>1</td>\n",
       "      <td>3</td>\n",
       "      <td>316</td>\n",
       "      <td>2</td>\n",
       "      <td>1</td>\n",
       "      <td>1</td>\n",
       "      <td>2</td>\n",
       "      <td>3</td>\n",
       "      <td>...</td>\n",
       "      <td>NaN</td>\n",
       "      <td>NaN</td>\n",
       "      <td>NaN</td>\n",
       "      <td>NaN</td>\n",
       "      <td>NaN</td>\n",
       "      <td>NaN</td>\n",
       "      <td>NaN</td>\n",
       "      <td>NaN</td>\n",
       "      <td>NaN</td>\n",
       "      <td>NaN</td>\n",
       "    </tr>\n",
       "    <tr>\n",
       "      <th>1</th>\n",
       "      <td>1</td>\n",
       "      <td>1957</td>\n",
       "      <td>2</td>\n",
       "      <td>2</td>\n",
       "      <td>630</td>\n",
       "      <td>1</td>\n",
       "      <td>2</td>\n",
       "      <td>1</td>\n",
       "      <td>2</td>\n",
       "      <td>2</td>\n",
       "      <td>...</td>\n",
       "      <td>NaN</td>\n",
       "      <td>NaN</td>\n",
       "      <td>NaN</td>\n",
       "      <td>NaN</td>\n",
       "      <td>NaN</td>\n",
       "      <td>NaN</td>\n",
       "      <td>NaN</td>\n",
       "      <td>NaN</td>\n",
       "      <td>NaN</td>\n",
       "      <td>NaN</td>\n",
       "    </tr>\n",
       "    <tr>\n",
       "      <th>2</th>\n",
       "      <td>1</td>\n",
       "      <td>1957</td>\n",
       "      <td>2</td>\n",
       "      <td>2</td>\n",
       "      <td>314</td>\n",
       "      <td>2</td>\n",
       "      <td>1</td>\n",
       "      <td>1</td>\n",
       "      <td>2</td>\n",
       "      <td>2</td>\n",
       "      <td>...</td>\n",
       "      <td>NaN</td>\n",
       "      <td>NaN</td>\n",
       "      <td>NaN</td>\n",
       "      <td>NaN</td>\n",
       "      <td>NaN</td>\n",
       "      <td>NaN</td>\n",
       "      <td>NaN</td>\n",
       "      <td>NaN</td>\n",
       "      <td>NaN</td>\n",
       "      <td>NaN</td>\n",
       "    </tr>\n",
       "    <tr>\n",
       "      <th>3</th>\n",
       "      <td>1</td>\n",
       "      <td>1957</td>\n",
       "      <td>1</td>\n",
       "      <td>1</td>\n",
       "      <td>313</td>\n",
       "      <td>1</td>\n",
       "      <td>2</td>\n",
       "      <td>1</td>\n",
       "      <td>2</td>\n",
       "      <td>1</td>\n",
       "      <td>...</td>\n",
       "      <td>NaN</td>\n",
       "      <td>NaN</td>\n",
       "      <td>NaN</td>\n",
       "      <td>NaN</td>\n",
       "      <td>NaN</td>\n",
       "      <td>NaN</td>\n",
       "      <td>NaN</td>\n",
       "      <td>NaN</td>\n",
       "      <td>NaN</td>\n",
       "      <td>NaN</td>\n",
       "    </tr>\n",
       "    <tr>\n",
       "      <th>4</th>\n",
       "      <td>1</td>\n",
       "      <td>1957</td>\n",
       "      <td>3</td>\n",
       "      <td>1</td>\n",
       "      <td>322</td>\n",
       "      <td>2</td>\n",
       "      <td>2</td>\n",
       "      <td>1</td>\n",
       "      <td>2</td>\n",
       "      <td>3</td>\n",
       "      <td>...</td>\n",
       "      <td>NaN</td>\n",
       "      <td>NaN</td>\n",
       "      <td>NaN</td>\n",
       "      <td>NaN</td>\n",
       "      <td>NaN</td>\n",
       "      <td>NaN</td>\n",
       "      <td>NaN</td>\n",
       "      <td>NaN</td>\n",
       "      <td>NaN</td>\n",
       "      <td>NaN</td>\n",
       "    </tr>\n",
       "  </tbody>\n",
       "</table>\n",
       "<p>5 rows × 1261 columns</p>\n",
       "</div>"
      ],
      "text/plain": [
       "   vpsu  vstrat  adults  ballot  dateintv  famgen  form  formwt  gender1  \\\n",
       "0     1    1957       1       3       316       2     1       1        2   \n",
       "1     1    1957       2       2       630       1     2       1        2   \n",
       "2     1    1957       2       2       314       2     1       1        2   \n",
       "3     1    1957       1       1       313       1     2       1        2   \n",
       "4     1    1957       3       1       322       2     2       1        2   \n",
       "\n",
       "   hompop  ...  away7  gender14  old14  relate14  relhh14  relhhd14  relsp14  \\\n",
       "0       3  ...    NaN       NaN    NaN       NaN      NaN       NaN      NaN   \n",
       "1       2  ...    NaN       NaN    NaN       NaN      NaN       NaN      NaN   \n",
       "2       2  ...    NaN       NaN    NaN       NaN      NaN       NaN      NaN   \n",
       "3       1  ...    NaN       NaN    NaN       NaN      NaN       NaN      NaN   \n",
       "4       3  ...    NaN       NaN    NaN       NaN      NaN       NaN      NaN   \n",
       "\n",
       "   where12  where6  where7  \n",
       "0      NaN     NaN     NaN  \n",
       "1      NaN     NaN     NaN  \n",
       "2      NaN     NaN     NaN  \n",
       "3      NaN     NaN     NaN  \n",
       "4      NaN     NaN     NaN  \n",
       "\n",
       "[5 rows x 1261 columns]"
      ]
     },
     "execution_count": 5,
     "metadata": {},
     "output_type": "execute_result"
    }
   ],
   "source": [
    "print(gss.shape)\n",
    "gss.head()"
   ]
  },
  {
   "cell_type": "code",
   "execution_count": 6,
   "id": "1d040fb5",
   "metadata": {},
   "outputs": [
    {
     "data": {
      "text/plain": [
       "Index(['vpsu', 'vstrat', 'adults', 'ballot', 'dateintv', 'famgen', 'form',\n",
       "       'formwt', 'gender1', 'hompop',\n",
       "       ...\n",
       "       'away7', 'gender14', 'old14', 'relate14', 'relhh14', 'relhhd14',\n",
       "       'relsp14', 'where12', 'where6', 'where7'],\n",
       "      dtype='object', length=1261)"
      ]
     },
     "execution_count": 6,
     "metadata": {},
     "output_type": "execute_result"
    }
   ],
   "source": [
    "gss.columns"
   ]
  },
  {
   "cell_type": "markdown",
   "id": "943ecafc",
   "metadata": {},
   "source": [
    "## 1) Run a simple bivariate regression, and interpret your results. (Did the results fit your expectations? Why? Why not?)"
   ]
  },
  {
   "cell_type": "markdown",
   "id": "d5748b5c",
   "metadata": {},
   "source": [
    "***I hope to explore how the respondent's occupational presitge score is associated with their income?***"
   ]
  },
  {
   "cell_type": "code",
   "execution_count": 7,
   "id": "6795bdf2",
   "metadata": {},
   "outputs": [
    {
     "data": {
      "text/plain": [
       "Text(0.5, 0, 'Occupational Presitge Score')"
      ]
     },
     "execution_count": 7,
     "metadata": {},
     "output_type": "execute_result"
    },
    {
     "data": {
      "image/png": "[encoded data removed]",
      "text/plain": [
       "<Figure size 432x288 with 1 Axes>"
      ]
     },
     "metadata": {
      "needs_background": "light"
     },
     "output_type": "display_data"
    }
   ],
   "source": [
    "gss.prestg80.hist()\n",
    "plt.title(\"Respondents' Occupational Presitge Score\")\n",
    "plt.xlabel(\"Occupational Presitge Score\")"
   ]
  },
  {
   "cell_type": "code",
   "execution_count": 8,
   "id": "071ca3aa",
   "metadata": {},
   "outputs": [
    {
     "data": {
      "text/plain": [
       "Text(0.5, 0, 'Income in $')"
      ]
     },
     "execution_count": 8,
     "metadata": {},
     "output_type": "execute_result"
    },
    {
     "data": {
      "image/png": "[encoded data removed]",
      "text/plain": [
       "<Figure size 432x288 with 1 Axes>"
      ]
     },
     "metadata": {
      "needs_background": "light"
     },
     "output_type": "display_data"
    }
   ],
   "source": [
    "gss.realrinc.hist()\n",
    "plt.title(\"Respondents' Income in $\")\n",
    "plt.xlabel(\"Income in $\")"
   ]
  },
  {
   "cell_type": "code",
   "execution_count": 9,
   "id": "176388da",
   "metadata": {},
   "outputs": [
    {
     "data": {
      "text/html": [
       "<table class=\"simpletable\">\n",
       "<caption>OLS Regression Results</caption>\n",
       "<tr>\n",
       "  <th>Dep. Variable:</th>        <td>prestg80</td>     <th>  R-squared:         </th> <td>   0.119</td> \n",
       "</tr>\n",
       "<tr>\n",
       "  <th>Model:</th>                   <td>OLS</td>       <th>  Adj. R-squared:    </th> <td>   0.119</td> \n",
       "</tr>\n",
       "<tr>\n",
       "  <th>Method:</th>             <td>Least Squares</td>  <th>  F-statistic:       </th> <td>   358.9</td> \n",
       "</tr>\n",
       "<tr>\n",
       "  <th>Date:</th>             <td>Wed, 27 Oct 2021</td> <th>  Prob (F-statistic):</th> <td>3.68e-75</td> \n",
       "</tr>\n",
       "<tr>\n",
       "  <th>Time:</th>                 <td>22:20:07</td>     <th>  Log-Likelihood:    </th> <td> -10655.</td> \n",
       "</tr>\n",
       "<tr>\n",
       "  <th>No. Observations:</th>      <td>  2655</td>      <th>  AIC:               </th> <td>2.131e+04</td>\n",
       "</tr>\n",
       "<tr>\n",
       "  <th>Df Residuals:</th>          <td>  2653</td>      <th>  BIC:               </th> <td>2.133e+04</td>\n",
       "</tr>\n",
       "<tr>\n",
       "  <th>Df Model:</th>              <td>     1</td>      <th>                     </th>     <td> </td>    \n",
       "</tr>\n",
       "<tr>\n",
       "  <th>Covariance Type:</th>      <td>nonrobust</td>    <th>                     </th>     <td> </td>    \n",
       "</tr>\n",
       "</table>\n",
       "<table class=\"simpletable\">\n",
       "<tr>\n",
       "      <td></td>         <th>coef</th>     <th>std err</th>      <th>t</th>      <th>P>|t|</th>  <th>[0.025</th>    <th>0.975]</th>  \n",
       "</tr>\n",
       "<tr>\n",
       "  <th>Intercept</th> <td>   40.3210</td> <td>    0.351</td> <td>  114.824</td> <td> 0.000</td> <td>   39.632</td> <td>   41.010</td>\n",
       "</tr>\n",
       "<tr>\n",
       "  <th>realrinc</th>  <td>    0.0002</td> <td> 9.99e-06</td> <td>   18.943</td> <td> 0.000</td> <td>    0.000</td> <td>    0.000</td>\n",
       "</tr>\n",
       "</table>\n",
       "<table class=\"simpletable\">\n",
       "<tr>\n",
       "  <th>Omnibus:</th>       <td>84.400</td> <th>  Durbin-Watson:     </th> <td>   1.918</td>\n",
       "</tr>\n",
       "<tr>\n",
       "  <th>Prob(Omnibus):</th> <td> 0.000</td> <th>  Jarque-Bera (JB):  </th> <td>  71.859</td>\n",
       "</tr>\n",
       "<tr>\n",
       "  <th>Skew:</th>          <td> 0.335</td> <th>  Prob(JB):          </th> <td>2.49e-16</td>\n",
       "</tr>\n",
       "<tr>\n",
       "  <th>Kurtosis:</th>      <td> 2.552</td> <th>  Cond. No.          </th> <td>4.75e+04</td>\n",
       "</tr>\n",
       "</table><br/><br/>Notes:<br/>[1] Standard Errors assume that the covariance matrix of the errors is correctly specified.<br/>[2] The condition number is large, 4.75e+04. This might indicate that there are<br/>strong multicollinearity or other numerical problems."
      ],
      "text/plain": [
       "<class 'statsmodels.iolib.summary.Summary'>\n",
       "\"\"\"\n",
       "                            OLS Regression Results                            \n",
       "==============================================================================\n",
       "Dep. Variable:               prestg80   R-squared:                       0.119\n",
       "Model:                            OLS   Adj. R-squared:                  0.119\n",
       "Method:                 Least Squares   F-statistic:                     358.9\n",
       "Date:                Wed, 27 Oct 2021   Prob (F-statistic):           3.68e-75\n",
       "Time:                        22:20:07   Log-Likelihood:                -10655.\n",
       "No. Observations:                2655   AIC:                         2.131e+04\n",
       "Df Residuals:                    2653   BIC:                         2.133e+04\n",
       "Df Model:                           1                                         \n",
       "Covariance Type:            nonrobust                                         \n",
       "==============================================================================\n",
       "                 coef    std err          t      P>|t|      [0.025      0.975]\n",
       "------------------------------------------------------------------------------\n",
       "Intercept     40.3210      0.351    114.824      0.000      39.632      41.010\n",
       "realrinc       0.0002   9.99e-06     18.943      0.000       0.000       0.000\n",
       "==============================================================================\n",
       "Omnibus:                       84.400   Durbin-Watson:                   1.918\n",
       "Prob(Omnibus):                  0.000   Jarque-Bera (JB):               71.859\n",
       "Skew:                           0.335   Prob(JB):                     2.49e-16\n",
       "Kurtosis:                       2.552   Cond. No.                     4.75e+04\n",
       "==============================================================================\n",
       "\n",
       "Notes:\n",
       "[1] Standard Errors assume that the covariance matrix of the errors is correctly specified.\n",
       "[2] The condition number is large, 4.75e+04. This might indicate that there are\n",
       "strong multicollinearity or other numerical problems.\n",
       "\"\"\""
      ]
     },
     "execution_count": 9,
     "metadata": {},
     "output_type": "execute_result"
    }
   ],
   "source": [
    "lm1 = smf.ols(formula ='prestg80~realrinc' ,data = gss).fit()\n",
    "lm1.summary()"
   ]
  },
  {
   "cell_type": "markdown",
   "id": "3dddf857",
   "metadata": {},
   "source": [
    "There seems to be a positive relationship between the respondent's occupational presitge score and their income in dollars. However, the coefficent of income on presitge is very small; income doesn't have a huge effect on the respondents' occupational presitge.\n",
    "\n",
    "I expected a positive strong relationship between income and presitge- there seems to be a positive relationship (coefficient of realrinc is positive) but income doesn't have as big of an effect on occupational prestige as I thought it would.  \n",
    "\n",
    "***Interpretation:*** \n",
    "- realrinc: On average, a unit increase in respondent's income is associated with a 0.0002 percentage points increase in the respondent's occupational prestige score. \n",
    "- Intercept: A respondent with 0 income will have an occupational presitge score of 40.3210. \n"
   ]
  },
  {
   "cell_type": "code",
   "execution_count": 10,
   "id": "8f05619b",
   "metadata": {},
   "outputs": [
    {
     "data": {
      "text/plain": [
       "Text(0, 0.5, 'Occupational Prestige Score')"
      ]
     },
     "execution_count": 10,
     "metadata": {},
     "output_type": "execute_result"
    },
    {
     "data": {
      "image/png": "[encoded data removed]",
      "text/plain": [
       "<Figure size 432x288 with 1 Axes>"
      ]
     },
     "metadata": {
      "needs_background": "light"
     },
     "output_type": "display_data"
    }
   ],
   "source": [
    "sns.regplot(x = 'realrinc', y = 'prestg80', data = gss)\n",
    "plt.title(\"Income and Occupational Prestige Score\")\n",
    "plt.xlabel(\"Respondent's Income in $\")\n",
    "plt.ylabel(\"Occupational Prestige Score\")"
   ]
  },
  {
   "cell_type": "markdown",
   "id": "688cda4a",
   "metadata": {},
   "source": [
    "## 2) Add an additional variable that might mediate or partly \"explain\" the initial association from that simple regression above -- and explain your results.  Did it work out?  Yes?  No? "
   ]
  },
  {
   "cell_type": "markdown",
   "id": "9c9f369b",
   "metadata": {},
   "source": [
    "Including respondent's number of years of education - educ - in the model"
   ]
  },
  {
   "cell_type": "code",
   "execution_count": 19,
   "id": "83460263",
   "metadata": {},
   "outputs": [
    {
     "data": {
      "text/plain": [
       "Text(0, 0.5, \"Respondents' income in dollars\")"
      ]
     },
     "execution_count": 19,
     "metadata": {},
     "output_type": "execute_result"
    },
    {
     "data": {
      "image/png": "[encoded data removed]",
      "text/plain": [
       "<Figure size 432x288 with 1 Axes>"
      ]
     },
     "metadata": {
      "needs_background": "light"
     },
     "output_type": "display_data"
    }
   ],
   "source": [
    "plt.scatter(x = 'educ', y = 'realrinc', data = gss)\n",
    "plt.title(\"Income and Years of Education\")\n",
    "plt.xlabel(\"Number of years of education\")\n",
    "plt.ylabel(\"Respondents' income in dollars\")"
   ]
  },
  {
   "cell_type": "markdown",
   "id": "c5e5d3d1",
   "metadata": {},
   "source": [
    "I expect including the number of years of education should improve the model's ability to predict the occupational score since most professions with high presitge associated with them tend to demand relatively more years of education, compared to those that are associated with a lower presitge score. "
   ]
  },
  {
   "cell_type": "code",
   "execution_count": 12,
   "id": "4b13f84f",
   "metadata": {},
   "outputs": [
    {
     "data": {
      "text/html": [
       "<table class=\"simpletable\">\n",
       "<caption>OLS Regression Results</caption>\n",
       "<tr>\n",
       "  <th>Dep. Variable:</th>        <td>prestg80</td>     <th>  R-squared:         </th> <td>   0.316</td> \n",
       "</tr>\n",
       "<tr>\n",
       "  <th>Model:</th>                   <td>OLS</td>       <th>  Adj. R-squared:    </th> <td>   0.316</td> \n",
       "</tr>\n",
       "<tr>\n",
       "  <th>Method:</th>             <td>Least Squares</td>  <th>  F-statistic:       </th> <td>   612.0</td> \n",
       "</tr>\n",
       "<tr>\n",
       "  <th>Date:</th>             <td>Wed, 27 Oct 2021</td> <th>  Prob (F-statistic):</th> <td>3.53e-219</td>\n",
       "</tr>\n",
       "<tr>\n",
       "  <th>Time:</th>                 <td>22:20:08</td>     <th>  Log-Likelihood:    </th> <td> -10296.</td> \n",
       "</tr>\n",
       "<tr>\n",
       "  <th>No. Observations:</th>      <td>  2649</td>      <th>  AIC:               </th> <td>2.060e+04</td>\n",
       "</tr>\n",
       "<tr>\n",
       "  <th>Df Residuals:</th>          <td>  2646</td>      <th>  BIC:               </th> <td>2.062e+04</td>\n",
       "</tr>\n",
       "<tr>\n",
       "  <th>Df Model:</th>              <td>     2</td>      <th>                     </th>     <td> </td>    \n",
       "</tr>\n",
       "<tr>\n",
       "  <th>Covariance Type:</th>      <td>nonrobust</td>    <th>                     </th>     <td> </td>    \n",
       "</tr>\n",
       "</table>\n",
       "<table class=\"simpletable\">\n",
       "<tr>\n",
       "      <td></td>         <th>coef</th>     <th>std err</th>      <th>t</th>      <th>P>|t|</th>  <th>[0.025</th>    <th>0.975]</th>  \n",
       "</tr>\n",
       "<tr>\n",
       "  <th>Intercept</th> <td>   12.6343</td> <td>    1.049</td> <td>   12.040</td> <td> 0.000</td> <td>   10.577</td> <td>   14.692</td>\n",
       "</tr>\n",
       "<tr>\n",
       "  <th>realrinc</th>  <td>    0.0001</td> <td> 9.22e-06</td> <td>   12.236</td> <td> 0.000</td> <td> 9.48e-05</td> <td>    0.000</td>\n",
       "</tr>\n",
       "<tr>\n",
       "  <th>educ</th>      <td>    2.1449</td> <td>    0.078</td> <td>   27.643</td> <td> 0.000</td> <td>    1.993</td> <td>    2.297</td>\n",
       "</tr>\n",
       "</table>\n",
       "<table class=\"simpletable\">\n",
       "<tr>\n",
       "  <th>Omnibus:</th>       <td>25.760</td> <th>  Durbin-Watson:     </th> <td>   1.983</td>\n",
       "</tr>\n",
       "<tr>\n",
       "  <th>Prob(Omnibus):</th> <td> 0.000</td> <th>  Jarque-Bera (JB):  </th> <td>  26.288</td>\n",
       "</tr>\n",
       "<tr>\n",
       "  <th>Skew:</th>          <td> 0.243</td> <th>  Prob(JB):          </th> <td>1.96e-06</td>\n",
       "</tr>\n",
       "<tr>\n",
       "  <th>Kurtosis:</th>      <td> 3.042</td> <th>  Cond. No.          </th> <td>1.61e+05</td>\n",
       "</tr>\n",
       "</table><br/><br/>Notes:<br/>[1] Standard Errors assume that the covariance matrix of the errors is correctly specified.<br/>[2] The condition number is large, 1.61e+05. This might indicate that there are<br/>strong multicollinearity or other numerical problems."
      ],
      "text/plain": [
       "<class 'statsmodels.iolib.summary.Summary'>\n",
       "\"\"\"\n",
       "                            OLS Regression Results                            \n",
       "==============================================================================\n",
       "Dep. Variable:               prestg80   R-squared:                       0.316\n",
       "Model:                            OLS   Adj. R-squared:                  0.316\n",
       "Method:                 Least Squares   F-statistic:                     612.0\n",
       "Date:                Wed, 27 Oct 2021   Prob (F-statistic):          3.53e-219\n",
       "Time:                        22:20:08   Log-Likelihood:                -10296.\n",
       "No. Observations:                2649   AIC:                         2.060e+04\n",
       "Df Residuals:                    2646   BIC:                         2.062e+04\n",
       "Df Model:                           2                                         \n",
       "Covariance Type:            nonrobust                                         \n",
       "==============================================================================\n",
       "                 coef    std err          t      P>|t|      [0.025      0.975]\n",
       "------------------------------------------------------------------------------\n",
       "Intercept     12.6343      1.049     12.040      0.000      10.577      14.692\n",
       "realrinc       0.0001   9.22e-06     12.236      0.000    9.48e-05       0.000\n",
       "educ           2.1449      0.078     27.643      0.000       1.993       2.297\n",
       "==============================================================================\n",
       "Omnibus:                       25.760   Durbin-Watson:                   1.983\n",
       "Prob(Omnibus):                  0.000   Jarque-Bera (JB):               26.288\n",
       "Skew:                           0.243   Prob(JB):                     1.96e-06\n",
       "Kurtosis:                       3.042   Cond. No.                     1.61e+05\n",
       "==============================================================================\n",
       "\n",
       "Notes:\n",
       "[1] Standard Errors assume that the covariance matrix of the errors is correctly specified.\n",
       "[2] The condition number is large, 1.61e+05. This might indicate that there are\n",
       "strong multicollinearity or other numerical problems.\n",
       "\"\"\""
      ]
     },
     "execution_count": 12,
     "metadata": {},
     "output_type": "execute_result"
    }
   ],
   "source": [
    "lm2 = smf.ols(formula ='prestg80~realrinc+educ' ,data = gss).fit()\n",
    "lm2.summary()"
   ]
  },
  {
   "cell_type": "markdown",
   "id": "990f4e76",
   "metadata": {},
   "source": [
    "As expected, number of years of eduction improves the model's ability to predict the occupational presitge score. The R-sq (proportion of variance in the dependence variable explained by the model) has improved from the first model (0.119) to 0.316. This is a huge improvement in the model predictability. The coefficient of education on prestige is also bigger than the coefficient of income on prestige- education has a bigger influence on occupational presitge than does income.  \n",
    "\n",
    "***Interpretation:*** \n",
    "- educ: Holding income constant, on average, an additional year of education is associated with a 2.1449 percentage point increase in the respondent's occupational prestige score. \n",
    "- realrinc: Holding number of years of education constant, on average, a unit increase in respondent's income is associated with a 0.0001 percentage points increase in the respondent's occupational prestige score.\n",
    "- Intercept: A respondent with 0 years of education and 0 income will have an occupational prestige score of 12.6343\n",
    "\n",
    "\n",
    "Just as I expected, jobs with higher presitge tend to be the ones that require more years of education."
   ]
  },
  {
   "cell_type": "markdown",
   "id": "40e11ddb",
   "metadata": {},
   "source": [
    "## 3) Run another multiple regression.  Tell me how you expect your dependent variable to be affected by the independent variables.  Interpret your results."
   ]
  },
  {
   "cell_type": "markdown",
   "id": "2a56f05c",
   "metadata": {},
   "source": [
    "In this regression, I hope to explore the association between the respondent's socioeconomic status and their parents and spouses' socioeconomic status. I expect there to be a strong positive relationship between the respondent's socioeconomic status and that of their family's (parents and spouse). I expect the spousal socioeconomic status to have the strongest effect on the respondent's socioeconomic status."
   ]
  },
  {
   "cell_type": "markdown",
   "id": "72a5640b",
   "metadata": {},
   "source": [
    "***How is the respondent's socioeconomic status associated with their family's socioeconomic status ?***"
   ]
  },
  {
   "cell_type": "code",
   "execution_count": 13,
   "id": "f508572a",
   "metadata": {},
   "outputs": [
    {
     "data": {
      "text/html": [
       "<table class=\"simpletable\">\n",
       "<caption>OLS Regression Results</caption>\n",
       "<tr>\n",
       "  <th>Dep. Variable:</th>           <td>sei</td>       <th>  R-squared:         </th> <td>   0.206</td>\n",
       "</tr>\n",
       "<tr>\n",
       "  <th>Model:</th>                   <td>OLS</td>       <th>  Adj. R-squared:    </th> <td>   0.203</td>\n",
       "</tr>\n",
       "<tr>\n",
       "  <th>Method:</th>             <td>Least Squares</td>  <th>  F-statistic:       </th> <td>   52.89</td>\n",
       "</tr>\n",
       "<tr>\n",
       "  <th>Date:</th>             <td>Wed, 27 Oct 2021</td> <th>  Prob (F-statistic):</th> <td>2.15e-30</td>\n",
       "</tr>\n",
       "<tr>\n",
       "  <th>Time:</th>                 <td>22:20:08</td>     <th>  Log-Likelihood:    </th> <td> -2630.0</td>\n",
       "</tr>\n",
       "<tr>\n",
       "  <th>No. Observations:</th>      <td>   614</td>      <th>  AIC:               </th> <td>   5268.</td>\n",
       "</tr>\n",
       "<tr>\n",
       "  <th>Df Residuals:</th>          <td>   610</td>      <th>  BIC:               </th> <td>   5286.</td>\n",
       "</tr>\n",
       "<tr>\n",
       "  <th>Df Model:</th>              <td>     3</td>      <th>                     </th>     <td> </td>   \n",
       "</tr>\n",
       "<tr>\n",
       "  <th>Covariance Type:</th>      <td>nonrobust</td>    <th>                     </th>     <td> </td>   \n",
       "</tr>\n",
       "</table>\n",
       "<table class=\"simpletable\">\n",
       "<tr>\n",
       "      <td></td>         <th>coef</th>     <th>std err</th>      <th>t</th>      <th>P>|t|</th>  <th>[0.025</th>    <th>0.975]</th>  \n",
       "</tr>\n",
       "<tr>\n",
       "  <th>Intercept</th> <td>   23.3551</td> <td>    2.546</td> <td>    9.175</td> <td> 0.000</td> <td>   18.356</td> <td>   28.354</td>\n",
       "</tr>\n",
       "<tr>\n",
       "  <th>pasei</th>     <td>    0.1704</td> <td>    0.041</td> <td>    4.192</td> <td> 0.000</td> <td>    0.091</td> <td>    0.250</td>\n",
       "</tr>\n",
       "<tr>\n",
       "  <th>masei</th>     <td>    0.1890</td> <td>    0.041</td> <td>    4.610</td> <td> 0.000</td> <td>    0.108</td> <td>    0.270</td>\n",
       "</tr>\n",
       "<tr>\n",
       "  <th>spsei</th>     <td>    0.2668</td> <td>    0.036</td> <td>    7.410</td> <td> 0.000</td> <td>    0.196</td> <td>    0.338</td>\n",
       "</tr>\n",
       "</table>\n",
       "<table class=\"simpletable\">\n",
       "<tr>\n",
       "  <th>Omnibus:</th>       <td>53.094</td> <th>  Durbin-Watson:     </th> <td>   2.071</td>\n",
       "</tr>\n",
       "<tr>\n",
       "  <th>Prob(Omnibus):</th> <td> 0.000</td> <th>  Jarque-Bera (JB):  </th> <td>  18.321</td>\n",
       "</tr>\n",
       "<tr>\n",
       "  <th>Skew:</th>          <td> 0.116</td> <th>  Prob(JB):          </th> <td>0.000105</td>\n",
       "</tr>\n",
       "<tr>\n",
       "  <th>Kurtosis:</th>      <td> 2.186</td> <th>  Cond. No.          </th> <td>    314.</td>\n",
       "</tr>\n",
       "</table><br/><br/>Notes:<br/>[1] Standard Errors assume that the covariance matrix of the errors is correctly specified."
      ],
      "text/plain": [
       "<class 'statsmodels.iolib.summary.Summary'>\n",
       "\"\"\"\n",
       "                            OLS Regression Results                            \n",
       "==============================================================================\n",
       "Dep. Variable:                    sei   R-squared:                       0.206\n",
       "Model:                            OLS   Adj. R-squared:                  0.203\n",
       "Method:                 Least Squares   F-statistic:                     52.89\n",
       "Date:                Wed, 27 Oct 2021   Prob (F-statistic):           2.15e-30\n",
       "Time:                        22:20:08   Log-Likelihood:                -2630.0\n",
       "No. Observations:                 614   AIC:                             5268.\n",
       "Df Residuals:                     610   BIC:                             5286.\n",
       "Df Model:                           3                                         \n",
       "Covariance Type:            nonrobust                                         \n",
       "==============================================================================\n",
       "                 coef    std err          t      P>|t|      [0.025      0.975]\n",
       "------------------------------------------------------------------------------\n",
       "Intercept     23.3551      2.546      9.175      0.000      18.356      28.354\n",
       "pasei          0.1704      0.041      4.192      0.000       0.091       0.250\n",
       "masei          0.1890      0.041      4.610      0.000       0.108       0.270\n",
       "spsei          0.2668      0.036      7.410      0.000       0.196       0.338\n",
       "==============================================================================\n",
       "Omnibus:                       53.094   Durbin-Watson:                   2.071\n",
       "Prob(Omnibus):                  0.000   Jarque-Bera (JB):               18.321\n",
       "Skew:                           0.116   Prob(JB):                     0.000105\n",
       "Kurtosis:                       2.186   Cond. No.                         314.\n",
       "==============================================================================\n",
       "\n",
       "Notes:\n",
       "[1] Standard Errors assume that the covariance matrix of the errors is correctly specified.\n",
       "\"\"\""
      ]
     },
     "execution_count": 13,
     "metadata": {},
     "output_type": "execute_result"
    }
   ],
   "source": [
    "lm3 = smf.ols(formula = \"sei~pasei+masei+spsei\", data = gss).fit()\n",
    "lm3.summary()"
   ]
  },
  {
   "cell_type": "markdown",
   "id": "a059887c",
   "metadata": {},
   "source": [
    "The model meets my expectations: there is a strong positive realtionship between the respondent's sei and that of their family's. And of all members considered, the spouse's sei has the stronged effect on the respondent's sei.\n",
    "\n",
    "***Interpretation:***\n",
    "- pasei: On average, holding all other variables constant, a percentage point increase in the respondent's father's socioeconomic status is associated with a 0.1704 percentage point increase in the respondent's socioeconomic status. \n",
    "- masei: On average, holding all other variables constant, a percentage point increase in the respondent's mother's socioeconomic status is associated with a 0.1890 percentage point increase in the respondent's socioeconomic status. \n",
    "- spsei: On average, holding all other variables constant, a percentage point increase in the respondent's spouse's socioeconomic status is associated with a 0.2668 percentage point increase in the respondent's socioeconomic status. \n",
    "- Intercept: On average, a respondent whose parents and spouse have 0 on the socioeconomic index will have a 23.3551 on the socioeconomic index. "
   ]
  },
  {
   "cell_type": "markdown",
   "id": "bfa44ed3",
   "metadata": {},
   "source": [
    "## 4) Now add another independent variable to that model in Question 3, preferably a set of dummy variables.  Tell me why you added that new set of variables and what effect you expected them to have.  Did they have an effect?  Interpret that new model."
   ]
  },
  {
   "cell_type": "markdown",
   "id": "16270855",
   "metadata": {},
   "source": [
    "Including unemp: a dummy variable for if respondent was ever unemployed in the past 10 years, where 1 is yes and 2 is no.\n",
    "\n",
    "I included this variable because I believe it will have a huge effect on respondent's socioeconomic status. I expect unemp to have a bigger influence on respondent's socioeconomic status than does respondent's family's SES; no matter what the family's socioeconomic status, unemployment would directly affect the respondent's ability to earn a living, which would affect their position on the socioeconomic index. "
   ]
  },
  {
   "cell_type": "code",
   "execution_count": 14,
   "id": "ead53174",
   "metadata": {},
   "outputs": [
    {
     "name": "stdout",
     "output_type": "stream",
     "text": [
      "count    1985.000000\n",
      "mean        1.676071\n",
      "std         0.468091\n",
      "min         1.000000\n",
      "25%         1.000000\n",
      "50%         2.000000\n",
      "75%         2.000000\n",
      "max         2.000000\n",
      "Name: unemp, dtype: float64\n"
     ]
    },
    {
     "data": {
      "text/plain": [
       "Text(0.5, 1.0, 'Unemployed for a month at any time during the last ten years')"
      ]
     },
     "execution_count": 14,
     "metadata": {},
     "output_type": "execute_result"
    },
    {
     "data": {
      "image/png": "[encoded data removed]",
      "text/plain": [
       "<Figure size 432x288 with 1 Axes>"
      ]
     },
     "metadata": {
      "needs_background": "light"
     },
     "output_type": "display_data"
    }
   ],
   "source": [
    "print(gss.unemp.describe())\n",
    "gss.unemp.hist()\n",
    "plt.title(\"Unemployed for a month at any time during the last ten years\")"
   ]
  },
  {
   "cell_type": "code",
   "execution_count": 15,
   "id": "30333f58",
   "metadata": {},
   "outputs": [
    {
     "data": {
      "text/plain": [
       "count    1985.000000\n",
       "mean        0.323929\n",
       "std         0.468091\n",
       "min         0.000000\n",
       "25%         0.000000\n",
       "50%         0.000000\n",
       "75%         1.000000\n",
       "max         1.000000\n",
       "Name: unemp, dtype: float64"
      ]
     },
     "execution_count": 15,
     "metadata": {},
     "output_type": "execute_result"
    }
   ],
   "source": [
    "#Recoding the dummy variable for ease in interpretation: 1 = Yes, 0 = No\n",
    "conditions = [gss['unemp']<=1,\n",
    "     gss['unemp']>1]\n",
    "choices = [1, 0]\n",
    "gss['unemp'] = np.select(conditions, choices, default = np.nan)\n",
    "gss.unemp.describe()"
   ]
  },
  {
   "cell_type": "code",
   "execution_count": 16,
   "id": "23e883d1",
   "metadata": {},
   "outputs": [
    {
     "data": {
      "text/plain": [
       "Text(0.5, 1.0, 'Unemployed for a month at any time during the last ten years')"
      ]
     },
     "execution_count": 16,
     "metadata": {},
     "output_type": "execute_result"
    },
    {
     "data": {
      "image/png": "[encoded data removed]",
      "text/plain": [
       "<Figure size 432x288 with 1 Axes>"
      ]
     },
     "metadata": {
      "needs_background": "light"
     },
     "output_type": "display_data"
    }
   ],
   "source": [
    "gss.unemp.hist()\n",
    "plt.title(\"Unemployed for a month at any time during the last ten years\")"
   ]
  },
  {
   "cell_type": "code",
   "execution_count": 17,
   "id": "fcf3ce75",
   "metadata": {},
   "outputs": [
    {
     "data": {
      "text/html": [
       "<table class=\"simpletable\">\n",
       "<caption>OLS Regression Results</caption>\n",
       "<tr>\n",
       "  <th>Dep. Variable:</th>           <td>sei</td>       <th>  R-squared:         </th> <td>   0.258</td>\n",
       "</tr>\n",
       "<tr>\n",
       "  <th>Model:</th>                   <td>OLS</td>       <th>  Adj. R-squared:    </th> <td>   0.250</td>\n",
       "</tr>\n",
       "<tr>\n",
       "  <th>Method:</th>             <td>Least Squares</td>  <th>  F-statistic:       </th> <td>   34.56</td>\n",
       "</tr>\n",
       "<tr>\n",
       "  <th>Date:</th>             <td>Wed, 27 Oct 2021</td> <th>  Prob (F-statistic):</th> <td>8.93e-25</td>\n",
       "</tr>\n",
       "<tr>\n",
       "  <th>Time:</th>                 <td>22:20:09</td>     <th>  Log-Likelihood:    </th> <td> -1714.5</td>\n",
       "</tr>\n",
       "<tr>\n",
       "  <th>No. Observations:</th>      <td>   403</td>      <th>  AIC:               </th> <td>   3439.</td>\n",
       "</tr>\n",
       "<tr>\n",
       "  <th>Df Residuals:</th>          <td>   398</td>      <th>  BIC:               </th> <td>   3459.</td>\n",
       "</tr>\n",
       "<tr>\n",
       "  <th>Df Model:</th>              <td>     4</td>      <th>                     </th>     <td> </td>   \n",
       "</tr>\n",
       "<tr>\n",
       "  <th>Covariance Type:</th>      <td>nonrobust</td>    <th>                     </th>     <td> </td>   \n",
       "</tr>\n",
       "</table>\n",
       "<table class=\"simpletable\">\n",
       "<tr>\n",
       "      <td></td>         <th>coef</th>     <th>std err</th>      <th>t</th>      <th>P>|t|</th>  <th>[0.025</th>    <th>0.975]</th>  \n",
       "</tr>\n",
       "<tr>\n",
       "  <th>Intercept</th> <td>   21.8924</td> <td>    3.219</td> <td>    6.800</td> <td> 0.000</td> <td>   15.563</td> <td>   28.222</td>\n",
       "</tr>\n",
       "<tr>\n",
       "  <th>pasei</th>     <td>    0.1972</td> <td>    0.049</td> <td>    4.014</td> <td> 0.000</td> <td>    0.101</td> <td>    0.294</td>\n",
       "</tr>\n",
       "<tr>\n",
       "  <th>masei</th>     <td>    0.2412</td> <td>    0.049</td> <td>    4.957</td> <td> 0.000</td> <td>    0.146</td> <td>    0.337</td>\n",
       "</tr>\n",
       "<tr>\n",
       "  <th>spsei</th>     <td>    0.2436</td> <td>    0.043</td> <td>    5.648</td> <td> 0.000</td> <td>    0.159</td> <td>    0.328</td>\n",
       "</tr>\n",
       "<tr>\n",
       "  <th>unemp</th>     <td>   -2.8636</td> <td>    1.961</td> <td>   -1.460</td> <td> 0.145</td> <td>   -6.719</td> <td>    0.992</td>\n",
       "</tr>\n",
       "</table>\n",
       "<table class=\"simpletable\">\n",
       "<tr>\n",
       "  <th>Omnibus:</th>       <td>20.841</td> <th>  Durbin-Watson:     </th> <td>   1.877</td>\n",
       "</tr>\n",
       "<tr>\n",
       "  <th>Prob(Omnibus):</th> <td> 0.000</td> <th>  Jarque-Bera (JB):  </th> <td>   9.250</td>\n",
       "</tr>\n",
       "<tr>\n",
       "  <th>Skew:</th>          <td> 0.110</td> <th>  Prob(JB):          </th> <td> 0.00980</td>\n",
       "</tr>\n",
       "<tr>\n",
       "  <th>Kurtosis:</th>      <td> 2.291</td> <th>  Cond. No.          </th> <td>    342.</td>\n",
       "</tr>\n",
       "</table><br/><br/>Notes:<br/>[1] Standard Errors assume that the covariance matrix of the errors is correctly specified."
      ],
      "text/plain": [
       "<class 'statsmodels.iolib.summary.Summary'>\n",
       "\"\"\"\n",
       "                            OLS Regression Results                            \n",
       "==============================================================================\n",
       "Dep. Variable:                    sei   R-squared:                       0.258\n",
       "Model:                            OLS   Adj. R-squared:                  0.250\n",
       "Method:                 Least Squares   F-statistic:                     34.56\n",
       "Date:                Wed, 27 Oct 2021   Prob (F-statistic):           8.93e-25\n",
       "Time:                        22:20:09   Log-Likelihood:                -1714.5\n",
       "No. Observations:                 403   AIC:                             3439.\n",
       "Df Residuals:                     398   BIC:                             3459.\n",
       "Df Model:                           4                                         \n",
       "Covariance Type:            nonrobust                                         \n",
       "==============================================================================\n",
       "                 coef    std err          t      P>|t|      [0.025      0.975]\n",
       "------------------------------------------------------------------------------\n",
       "Intercept     21.8924      3.219      6.800      0.000      15.563      28.222\n",
       "pasei          0.1972      0.049      4.014      0.000       0.101       0.294\n",
       "masei          0.2412      0.049      4.957      0.000       0.146       0.337\n",
       "spsei          0.2436      0.043      5.648      0.000       0.159       0.328\n",
       "unemp         -2.8636      1.961     -1.460      0.145      -6.719       0.992\n",
       "==============================================================================\n",
       "Omnibus:                       20.841   Durbin-Watson:                   1.877\n",
       "Prob(Omnibus):                  0.000   Jarque-Bera (JB):                9.250\n",
       "Skew:                           0.110   Prob(JB):                      0.00980\n",
       "Kurtosis:                       2.291   Cond. No.                         342.\n",
       "==============================================================================\n",
       "\n",
       "Notes:\n",
       "[1] Standard Errors assume that the covariance matrix of the errors is correctly specified.\n",
       "\"\"\""
      ]
     },
     "execution_count": 17,
     "metadata": {},
     "output_type": "execute_result"
    }
   ],
   "source": [
    "lm4 = smf.ols(formula = \"sei~pasei+masei+spsei+unemp\", data = gss).fit()\n",
    "lm4.summary()"
   ]
  },
  {
   "cell_type": "markdown",
   "id": "6df288fa",
   "metadata": {},
   "source": [
    "Unemp has a huge effect (as expected) on the linear model. The Adj. R-sq increases from 0.203 (model in part 3) to 0.250 due to inclusion of unemp in the model. \n",
    "\n",
    "\n",
    "***Interpretation:*** \n",
    "- pasei: On average, holding all other variables constant, a percentage point increase in the respondent's father's socioeconomic status is associated with a 0.1972 percentage point increase in the respondent's socioeconomic status. \n",
    "- masei: On average, holding all other variables constant, a percentage point increase in the respondent's mother's socioeconomic status is associated with a 0.2412 percentage point increase in the respondent's socioeconomic status. \n",
    "- spsei: On average, holding all other variables constant, a percentage point increase in the respondent's spouse's socioeconomic status is associated with a 0.2412 percentage point increase in the respondent's socioeconomic status.\n",
    "- unemp: On average, holding all other variables constant, a respondent who was unemployed for over a month in the past ten years will have 2.8636 points less on the socioeconomic index than an individual who was never unemployed in the last ten years. \n",
    "- Intercept: On average, a respondent who has never been unemployed, whose parents and spouse have 0 on the socioeconomic index will have a 21.8924 on the socioeconomic index. \n"
   ]
  },
  {
   "cell_type": "markdown",
   "id": "a7fb0224",
   "metadata": {},
   "source": [
    "## 5) Now run a partial F test comparing the model in Question 3 to the model in Question 4.  Does the F test support the idea of adding those new variables?  Why?  Why not?"
   ]
  },
  {
   "cell_type": "markdown",
   "id": "571113b7",
   "metadata": {},
   "source": [
    "Running an F test to evaluate which of the two models (lm3 and lm4) provide a better fit for the data. "
   ]
  },
  {
   "cell_type": "code",
   "execution_count": 18,
   "id": "427ea6ce",
   "metadata": {},
   "outputs": [
    {
     "data": {
      "text/html": [
       "<div>\n",
       "<style scoped>\n",
       "    .dataframe tbody tr th:only-of-type {\n",
       "        vertical-align: middle;\n",
       "    }\n",
       "\n",
       "    .dataframe tbody tr th {\n",
       "        vertical-align: top;\n",
       "    }\n",
       "\n",
       "    .dataframe thead th {\n",
       "        text-align: right;\n",
       "    }\n",
       "</style>\n",
       "<table border=\"1\" class=\"dataframe\">\n",
       "  <thead>\n",
       "    <tr style=\"text-align: right;\">\n",
       "      <th></th>\n",
       "      <th>df_resid</th>\n",
       "      <th>ssr</th>\n",
       "      <th>df_diff</th>\n",
       "      <th>ss_diff</th>\n",
       "      <th>F</th>\n",
       "      <th>Pr(&gt;F)</th>\n",
       "    </tr>\n",
       "  </thead>\n",
       "  <tbody>\n",
       "    <tr>\n",
       "      <th>0</th>\n",
       "      <td>610.0</td>\n",
       "      <td>188908.64675</td>\n",
       "      <td>0.0</td>\n",
       "      <td>NaN</td>\n",
       "      <td>NaN</td>\n",
       "      <td>NaN</td>\n",
       "    </tr>\n",
       "    <tr>\n",
       "      <th>1</th>\n",
       "      <td>398.0</td>\n",
       "      <td>116961.93559</td>\n",
       "      <td>212.0</td>\n",
       "      <td>71946.711161</td>\n",
       "      <td>1.154818</td>\n",
       "      <td>0.111878</td>\n",
       "    </tr>\n",
       "  </tbody>\n",
       "</table>\n",
       "</div>"
      ],
      "text/plain": [
       "   df_resid           ssr  df_diff       ss_diff         F    Pr(>F)\n",
       "0     610.0  188908.64675      0.0           NaN       NaN       NaN\n",
       "1     398.0  116961.93559    212.0  71946.711161  1.154818  0.111878"
      ]
     },
     "execution_count": 18,
     "metadata": {},
     "output_type": "execute_result"
    }
   ],
   "source": [
    "sm.stats.anova_lm(lm3, lm4)"
   ]
  },
  {
   "cell_type": "markdown",
   "id": "65404f47",
   "metadata": {},
   "source": [
    "The F test allows us to evaluate both the models simultaneously and compares them to analyze which one is a better fit for the data. \n",
    "\n",
    "***Conclusion:*** The F test does NOT support the idea of including unemp in our model from part 3. With a p-value of 0.111878, we can not conclude that being unemployed anytime for over a month in the past ten years is a good indicator of one's socioeconomic status. Although adding a new variable (unemp) improved the Adj. R. sq of the model, the f test does not support adding this new variable to our lm3 model. \n",
    "\n",
    "This is because the p-value for our F statistic (0.111878) is very high compared to our alpha of 0.05. Accordingly, the model from part 3 (lm3 - the base model) is a better fit model for our sample data than the model from part 4 (lm4 - the more complex model). "
   ]
  }
 ],
 "metadata": {
  "kernelspec": {
   "display_name": "Python 3",
   "language": "python",
   "name": "python3"
  },
  "language_info": {
   "codemirror_mode": {
    "name": "ipython",
    "version": 3
   },
   "file_extension": ".py",
   "mimetype": "text/x-python",
   "name": "python",
   "nbconvert_exporter": "python",
   "pygments_lexer": "ipython3",
   "version": "3.8.8"
  }
 },
 "nbformat": 4,
 "nbformat_minor": 5
}
