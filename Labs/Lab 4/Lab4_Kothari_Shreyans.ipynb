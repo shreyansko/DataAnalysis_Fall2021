{
 "cells": [
  {
   "cell_type": "markdown",
   "id": "c9da120c",
   "metadata": {},
   "source": [
    "# Data Analysis for Social Sciences: Lab 4"
   ]
  },
  {
   "cell_type": "markdown",
   "id": "3ebc2a2a",
   "metadata": {},
   "source": [
    "***UNI:*** sk4819 | ***Date:*** November 11, 2021"
   ]
  },
  {
   "cell_type": "code",
   "execution_count": 1,
   "id": "6115e95f",
   "metadata": {},
   "outputs": [],
   "source": [
    "#Importing libraries\n",
    "from __future__ import division\n",
    "import pandas as pd\n",
    "import numpy as np\n",
    "import statsmodels.api as sm\n",
    "import statsmodels.formula.api as smf\n",
    "import os\n",
    "import matplotlib.pyplot as plt"
   ]
  },
  {
   "cell_type": "code",
   "execution_count": 36,
   "id": "2f4ad835",
   "metadata": {},
   "outputs": [
    {
     "data": {
      "text/html": [
       "<div>\n",
       "<style scoped>\n",
       "    .dataframe tbody tr th:only-of-type {\n",
       "        vertical-align: middle;\n",
       "    }\n",
       "\n",
       "    .dataframe tbody tr th {\n",
       "        vertical-align: top;\n",
       "    }\n",
       "\n",
       "    .dataframe thead th {\n",
       "        text-align: right;\n",
       "    }\n",
       "</style>\n",
       "<table border=\"1\" class=\"dataframe\">\n",
       "  <thead>\n",
       "    <tr style=\"text-align: right;\">\n",
       "      <th></th>\n",
       "      <th>V1</th>\n",
       "      <th>V2</th>\n",
       "      <th>V2A</th>\n",
       "      <th>V3</th>\n",
       "      <th>V4</th>\n",
       "      <th>V5</th>\n",
       "      <th>V6</th>\n",
       "      <th>V7</th>\n",
       "      <th>V8</th>\n",
       "      <th>V9</th>\n",
       "      <th>...</th>\n",
       "      <th>V224_ESMA</th>\n",
       "      <th>V228_2</th>\n",
       "      <th>V243_AU</th>\n",
       "      <th>V244_AU</th>\n",
       "      <th>V248_CS</th>\n",
       "      <th>V253_CS</th>\n",
       "      <th>V256B</th>\n",
       "      <th>V256C</th>\n",
       "      <th>sacsecval</th>\n",
       "      <th>secvalwgt</th>\n",
       "    </tr>\n",
       "  </thead>\n",
       "  <tbody>\n",
       "    <tr>\n",
       "      <th>0</th>\n",
       "      <td>6</td>\n",
       "      <td>12</td>\n",
       "      <td>12</td>\n",
       "      <td>1.0</td>\n",
       "      <td>1.0</td>\n",
       "      <td>1.0</td>\n",
       "      <td>1.0</td>\n",
       "      <td>NaN</td>\n",
       "      <td>1.0</td>\n",
       "      <td>1.0</td>\n",
       "      <td>...</td>\n",
       "      <td>NaN</td>\n",
       "      <td>NaN</td>\n",
       "      <td>NaN</td>\n",
       "      <td>NaN</td>\n",
       "      <td>NaN</td>\n",
       "      <td>NaN</td>\n",
       "      <td>NaN</td>\n",
       "      <td>NaN</td>\n",
       "      <td>0.300476</td>\n",
       "      <td>1.0</td>\n",
       "    </tr>\n",
       "    <tr>\n",
       "      <th>1</th>\n",
       "      <td>6</td>\n",
       "      <td>12</td>\n",
       "      <td>12</td>\n",
       "      <td>2.0</td>\n",
       "      <td>1.0</td>\n",
       "      <td>2.0</td>\n",
       "      <td>3.0</td>\n",
       "      <td>4.0</td>\n",
       "      <td>2.0</td>\n",
       "      <td>2.0</td>\n",
       "      <td>...</td>\n",
       "      <td>NaN</td>\n",
       "      <td>NaN</td>\n",
       "      <td>NaN</td>\n",
       "      <td>NaN</td>\n",
       "      <td>NaN</td>\n",
       "      <td>NaN</td>\n",
       "      <td>NaN</td>\n",
       "      <td>NaN</td>\n",
       "      <td>0.301905</td>\n",
       "      <td>1.0</td>\n",
       "    </tr>\n",
       "    <tr>\n",
       "      <th>2</th>\n",
       "      <td>6</td>\n",
       "      <td>12</td>\n",
       "      <td>12</td>\n",
       "      <td>3.0</td>\n",
       "      <td>1.0</td>\n",
       "      <td>3.0</td>\n",
       "      <td>2.0</td>\n",
       "      <td>4.0</td>\n",
       "      <td>2.0</td>\n",
       "      <td>1.0</td>\n",
       "      <td>...</td>\n",
       "      <td>NaN</td>\n",
       "      <td>NaN</td>\n",
       "      <td>NaN</td>\n",
       "      <td>NaN</td>\n",
       "      <td>NaN</td>\n",
       "      <td>NaN</td>\n",
       "      <td>NaN</td>\n",
       "      <td>NaN</td>\n",
       "      <td>0.386071</td>\n",
       "      <td>1.0</td>\n",
       "    </tr>\n",
       "    <tr>\n",
       "      <th>3</th>\n",
       "      <td>6</td>\n",
       "      <td>12</td>\n",
       "      <td>12</td>\n",
       "      <td>4.0</td>\n",
       "      <td>1.0</td>\n",
       "      <td>1.0</td>\n",
       "      <td>3.0</td>\n",
       "      <td>4.0</td>\n",
       "      <td>3.0</td>\n",
       "      <td>1.0</td>\n",
       "      <td>...</td>\n",
       "      <td>NaN</td>\n",
       "      <td>NaN</td>\n",
       "      <td>NaN</td>\n",
       "      <td>NaN</td>\n",
       "      <td>NaN</td>\n",
       "      <td>NaN</td>\n",
       "      <td>NaN</td>\n",
       "      <td>NaN</td>\n",
       "      <td>0.344405</td>\n",
       "      <td>1.0</td>\n",
       "    </tr>\n",
       "    <tr>\n",
       "      <th>4</th>\n",
       "      <td>6</td>\n",
       "      <td>12</td>\n",
       "      <td>12</td>\n",
       "      <td>5.0</td>\n",
       "      <td>1.0</td>\n",
       "      <td>1.0</td>\n",
       "      <td>1.0</td>\n",
       "      <td>2.0</td>\n",
       "      <td>1.0</td>\n",
       "      <td>1.0</td>\n",
       "      <td>...</td>\n",
       "      <td>NaN</td>\n",
       "      <td>NaN</td>\n",
       "      <td>NaN</td>\n",
       "      <td>NaN</td>\n",
       "      <td>NaN</td>\n",
       "      <td>NaN</td>\n",
       "      <td>NaN</td>\n",
       "      <td>NaN</td>\n",
       "      <td>0.304167</td>\n",
       "      <td>1.0</td>\n",
       "    </tr>\n",
       "  </tbody>\n",
       "</table>\n",
       "<p>5 rows × 381 columns</p>\n",
       "</div>"
      ],
      "text/plain": [
       "   V1  V2  V2A   V3   V4   V5   V6   V7   V8   V9  ...  V224_ESMA  V228_2  \\\n",
       "0   6  12   12  1.0  1.0  1.0  1.0  NaN  1.0  1.0  ...        NaN     NaN   \n",
       "1   6  12   12  2.0  1.0  2.0  3.0  4.0  2.0  2.0  ...        NaN     NaN   \n",
       "2   6  12   12  3.0  1.0  3.0  2.0  4.0  2.0  1.0  ...        NaN     NaN   \n",
       "3   6  12   12  4.0  1.0  1.0  3.0  4.0  3.0  1.0  ...        NaN     NaN   \n",
       "4   6  12   12  5.0  1.0  1.0  1.0  2.0  1.0  1.0  ...        NaN     NaN   \n",
       "\n",
       "   V243_AU  V244_AU  V248_CS  V253_CS  V256B  V256C  sacsecval  secvalwgt  \n",
       "0      NaN      NaN      NaN      NaN    NaN    NaN   0.300476        1.0  \n",
       "1      NaN      NaN      NaN      NaN    NaN    NaN   0.301905        1.0  \n",
       "2      NaN      NaN      NaN      NaN    NaN    NaN   0.386071        1.0  \n",
       "3      NaN      NaN      NaN      NaN    NaN    NaN   0.344405        1.0  \n",
       "4      NaN      NaN      NaN      NaN    NaN    NaN   0.304167        1.0  \n",
       "\n",
       "[5 rows x 381 columns]"
      ]
     },
     "execution_count": 36,
     "metadata": {},
     "output_type": "execute_result"
    }
   ],
   "source": [
    "wvs = pd.read_csv(\"/Users/shreyanskothari/Desktop/Data Analysis for Social Sciences/Labs/Lab 4/WVS.csv\", sep = ',')\n",
    "wvs.head()"
   ]
  },
  {
   "cell_type": "markdown",
   "id": "0ad39d3f",
   "metadata": {},
   "source": [
    "___\n",
    "## 1. Run a simple regression, and interpret your results.  (Did the results fit your expectations?  Why?  Why not?)  \n",
    "### How does the importance of family, friends, and work in one's life affect their satisfaction with life? Does one's age affect one's overall satisfaction with life in the US? I expect people who give less importance to family, friends, and work to be overall less satisfied with life, compared to people who give more importance to family, friends, and work. \n",
    "#### The actual question: \n",
    "- On a scale of 1 (Very Important) to 4 (Not at all important), indicate how important is family in your life. (V4)\n",
    "- On a scale of 1 (Very Important) to 4 (Not at all important), indicate how important are friends in your life. (V5)\n",
    "- On a scale of 1 (Very Important) to 4 (Not at all important), indicate how important is work in your life. (V8)\n",
    "- On a scale of 1 (Completely disastisfied) to 10 (Completely satisfied), how satisfied are you with your life as a whole? (V23)"
   ]
  },
  {
   "cell_type": "code",
   "execution_count": 37,
   "id": "2f8bf78f",
   "metadata": {},
   "outputs": [],
   "source": [
    "#Renaming variables\n",
    "wvs.rename(columns={'V4':'fam_imp', ## this asks how important is family in your life\n",
    "                    'V5': 'frnd_imp',## this asks how important are friends in your life\n",
    "                    'V242':'age',\n",
    "                    'V8': 'work_imp', ## this asks how important is work in your life\n",
    "                    'V2':'country',\n",
    "                    'V23': 'life_sat'}, ## All things considered, how satisfied are you with your life as a whole these days? \n",
    "                                        # 1 means 'completely dissatisfied' and 10 means 'completely satisfied' \n",
    "                 inplace=True)"
   ]
  },
  {
   "cell_type": "code",
   "execution_count": 38,
   "id": "c8f51da3",
   "metadata": {},
   "outputs": [
    {
     "data": {
      "text/html": [
       "<div>\n",
       "<style scoped>\n",
       "    .dataframe tbody tr th:only-of-type {\n",
       "        vertical-align: middle;\n",
       "    }\n",
       "\n",
       "    .dataframe tbody tr th {\n",
       "        vertical-align: top;\n",
       "    }\n",
       "\n",
       "    .dataframe thead th {\n",
       "        text-align: right;\n",
       "    }\n",
       "</style>\n",
       "<table border=\"1\" class=\"dataframe\">\n",
       "  <thead>\n",
       "    <tr style=\"text-align: right;\">\n",
       "      <th></th>\n",
       "      <th>age</th>\n",
       "      <th>fam_imp</th>\n",
       "      <th>frnd_imp</th>\n",
       "      <th>work_imp</th>\n",
       "      <th>country</th>\n",
       "      <th>life_sat</th>\n",
       "    </tr>\n",
       "  </thead>\n",
       "  <tbody>\n",
       "    <tr>\n",
       "      <th>0</th>\n",
       "      <td>21.0</td>\n",
       "      <td>1.0</td>\n",
       "      <td>1.0</td>\n",
       "      <td>1.0</td>\n",
       "      <td>12</td>\n",
       "      <td>8.0</td>\n",
       "    </tr>\n",
       "    <tr>\n",
       "      <th>1</th>\n",
       "      <td>24.0</td>\n",
       "      <td>1.0</td>\n",
       "      <td>2.0</td>\n",
       "      <td>2.0</td>\n",
       "      <td>12</td>\n",
       "      <td>5.0</td>\n",
       "    </tr>\n",
       "    <tr>\n",
       "      <th>2</th>\n",
       "      <td>26.0</td>\n",
       "      <td>1.0</td>\n",
       "      <td>3.0</td>\n",
       "      <td>2.0</td>\n",
       "      <td>12</td>\n",
       "      <td>4.0</td>\n",
       "    </tr>\n",
       "    <tr>\n",
       "      <th>3</th>\n",
       "      <td>28.0</td>\n",
       "      <td>1.0</td>\n",
       "      <td>1.0</td>\n",
       "      <td>3.0</td>\n",
       "      <td>12</td>\n",
       "      <td>8.0</td>\n",
       "    </tr>\n",
       "    <tr>\n",
       "      <th>4</th>\n",
       "      <td>35.0</td>\n",
       "      <td>1.0</td>\n",
       "      <td>1.0</td>\n",
       "      <td>1.0</td>\n",
       "      <td>12</td>\n",
       "      <td>8.0</td>\n",
       "    </tr>\n",
       "    <tr>\n",
       "      <th>5</th>\n",
       "      <td>36.0</td>\n",
       "      <td>1.0</td>\n",
       "      <td>2.0</td>\n",
       "      <td>4.0</td>\n",
       "      <td>12</td>\n",
       "      <td>7.0</td>\n",
       "    </tr>\n",
       "    <tr>\n",
       "      <th>6</th>\n",
       "      <td>41.0</td>\n",
       "      <td>1.0</td>\n",
       "      <td>1.0</td>\n",
       "      <td>1.0</td>\n",
       "      <td>12</td>\n",
       "      <td>7.0</td>\n",
       "    </tr>\n",
       "    <tr>\n",
       "      <th>7</th>\n",
       "      <td>44.0</td>\n",
       "      <td>1.0</td>\n",
       "      <td>1.0</td>\n",
       "      <td>2.0</td>\n",
       "      <td>12</td>\n",
       "      <td>5.0</td>\n",
       "    </tr>\n",
       "    <tr>\n",
       "      <th>8</th>\n",
       "      <td>59.0</td>\n",
       "      <td>1.0</td>\n",
       "      <td>1.0</td>\n",
       "      <td>2.0</td>\n",
       "      <td>12</td>\n",
       "      <td>6.0</td>\n",
       "    </tr>\n",
       "    <tr>\n",
       "      <th>9</th>\n",
       "      <td>72.0</td>\n",
       "      <td>1.0</td>\n",
       "      <td>1.0</td>\n",
       "      <td>1.0</td>\n",
       "      <td>12</td>\n",
       "      <td>5.0</td>\n",
       "    </tr>\n",
       "  </tbody>\n",
       "</table>\n",
       "</div>"
      ],
      "text/plain": [
       "    age  fam_imp  frnd_imp  work_imp  country  life_sat\n",
       "0  21.0      1.0       1.0       1.0       12       8.0\n",
       "1  24.0      1.0       2.0       2.0       12       5.0\n",
       "2  26.0      1.0       3.0       2.0       12       4.0\n",
       "3  28.0      1.0       1.0       3.0       12       8.0\n",
       "4  35.0      1.0       1.0       1.0       12       8.0\n",
       "5  36.0      1.0       2.0       4.0       12       7.0\n",
       "6  41.0      1.0       1.0       1.0       12       7.0\n",
       "7  44.0      1.0       1.0       2.0       12       5.0\n",
       "8  59.0      1.0       1.0       2.0       12       6.0\n",
       "9  72.0      1.0       1.0       1.0       12       5.0"
      ]
     },
     "execution_count": 38,
     "metadata": {},
     "output_type": "execute_result"
    }
   ],
   "source": [
    "wvs[['age', 'fam_imp', 'frnd_imp', 'work_imp', 'country', 'life_sat']].head(10)"
   ]
  },
  {
   "cell_type": "code",
   "execution_count": 72,
   "id": "968d5486",
   "metadata": {},
   "outputs": [
    {
     "data": {
      "text/plain": [
       "array([[<AxesSubplot:title={'center':'life_sat'}>]], dtype=object)"
      ]
     },
     "execution_count": 72,
     "metadata": {},
     "output_type": "execute_result"
    },
    {
     "data": {
      "image/png": "[encoded data removed]",
      "text/plain": [
       "<Figure size 432x288 with 1 Axes>"
      ]
     },
     "metadata": {
      "needs_background": "light"
     },
     "output_type": "display_data"
    }
   ],
   "source": [
    "wvs.hist('life_sat')"
   ]
  },
  {
   "cell_type": "code",
   "execution_count": 39,
   "id": "fa975bf0",
   "metadata": {},
   "outputs": [
    {
     "data": {
      "text/plain": [
       "array([[<AxesSubplot:title={'center':'work_imp'}>]], dtype=object)"
      ]
     },
     "execution_count": 39,
     "metadata": {},
     "output_type": "execute_result"
    },
    {
     "data": {
      "image/png": "[encoded data removed]",
      "text/plain": [
       "<Figure size 432x288 with 1 Axes>"
      ]
     },
     "metadata": {
      "needs_background": "light"
     },
     "output_type": "display_data"
    }
   ],
   "source": [
    "wvs.hist('work_imp')"
   ]
  },
  {
   "cell_type": "code",
   "execution_count": 40,
   "id": "f4bce60f",
   "metadata": {},
   "outputs": [
    {
     "data": {
      "text/plain": [
       "array([[<AxesSubplot:title={'center':'age'}>]], dtype=object)"
      ]
     },
     "execution_count": 40,
     "metadata": {},
     "output_type": "execute_result"
    },
    {
     "data": {
      "image/png": "[encoded data removed]",
      "text/plain": [
       "<Figure size 432x288 with 1 Axes>"
      ]
     },
     "metadata": {
      "needs_background": "light"
     },
     "output_type": "display_data"
    }
   ],
   "source": [
    "wvs.hist('age')"
   ]
  },
  {
   "cell_type": "code",
   "execution_count": 63,
   "id": "a43b9b78",
   "metadata": {},
   "outputs": [
    {
     "data": {
      "text/plain": [
       "array([[<AxesSubplot:title={'center':'fam_imp'}>]], dtype=object)"
      ]
     },
     "execution_count": 63,
     "metadata": {},
     "output_type": "execute_result"
    },
    {
     "data": {
      "image/png": "[encoded data removed]",
      "text/plain": [
       "<Figure size 432x288 with 1 Axes>"
      ]
     },
     "metadata": {
      "needs_background": "light"
     },
     "output_type": "display_data"
    }
   ],
   "source": [
    "wvs.hist('fam_imp')"
   ]
  },
  {
   "cell_type": "code",
   "execution_count": 64,
   "id": "2de4336a",
   "metadata": {},
   "outputs": [
    {
     "data": {
      "text/plain": [
       "array([[<AxesSubplot:title={'center':'frnd_imp'}>]], dtype=object)"
      ]
     },
     "execution_count": 64,
     "metadata": {},
     "output_type": "execute_result"
    },
    {
     "data": {
      "image/png": "[encoded data removed]",
      "text/plain": [
       "<Figure size 432x288 with 1 Axes>"
      ]
     },
     "metadata": {
      "needs_background": "light"
     },
     "output_type": "display_data"
    }
   ],
   "source": [
    "wvs.hist('frnd_imp')"
   ]
  },
  {
   "cell_type": "code",
   "execution_count": 71,
   "id": "1f2d3fdb",
   "metadata": {},
   "outputs": [
    {
     "name": "stdout",
     "output_type": "stream",
     "text": [
      "                            OLS Regression Results                            \n",
      "==============================================================================\n",
      "Dep. Variable:               life_sat   R-squared:                       0.051\n",
      "Model:                            OLS   Adj. R-squared:                  0.050\n",
      "Method:                 Least Squares   F-statistic:                     29.67\n",
      "Date:                Thu, 11 Nov 2021   Prob (F-statistic):           4.61e-24\n",
      "Time:                        13:02:19   Log-Likelihood:                -4418.5\n",
      "No. Observations:                2195   AIC:                             8847.\n",
      "Df Residuals:                    2190   BIC:                             8876.\n",
      "Df Model:                           4                                         \n",
      "Covariance Type:            nonrobust                                         \n",
      "==============================================================================\n",
      "                 coef    std err          t      P>|t|      [0.025      0.975]\n",
      "------------------------------------------------------------------------------\n",
      "Intercept      8.7359      0.190     46.040      0.000       8.364       9.108\n",
      "age            0.0032      0.002      1.353      0.176      -0.001       0.008\n",
      "fam_imp       -0.8466      0.110     -7.721      0.000      -1.062      -0.632\n",
      "frnd_imp      -0.2841      0.065     -4.355      0.000      -0.412      -0.156\n",
      "work_imp      -0.0466      0.045     -1.026      0.305      -0.136       0.042\n",
      "==============================================================================\n",
      "Omnibus:                      339.169   Durbin-Watson:                   2.058\n",
      "Prob(Omnibus):                  0.000   Jarque-Bera (JB):              536.310\n",
      "Skew:                          -1.053   Prob(JB):                    3.48e-117\n",
      "Kurtosis:                       4.194   Cond. No.                         268.\n",
      "==============================================================================\n",
      "\n",
      "Notes:\n",
      "[1] Standard Errors assume that the covariance matrix of the errors is correctly specified.\n"
     ]
    }
   ],
   "source": [
    "lm1 = smf.ols(formula = 'life_sat ~ age + fam_imp + frnd_imp + work_imp', data = wvs, subset = wvs['country']==840).fit()\n",
    "print (lm1.summary())"
   ]
  },
  {
   "cell_type": "markdown",
   "id": "dde397d6",
   "metadata": {},
   "source": [
    "***Interpretation***\n",
    "- `age`: Holding all other variables constant, on average, every additional year of age is associated with a 0.0032 units increase in respondent's satisfaction with life.\n",
    "- `fam_imp`: Holding all other variables constant, on average, every additional unit reduction in the importance of family in the respondent's life is associated with a 0.8466 units reduction in respondent's satisfaction with life. \n",
    "- `frnd_imp`: Holding all other variables constant, on average, every additional unit reduction in the importance of friends in the respondent's life is associated with a 0.2841 units reduction in respondent's satisfaction with life. \n",
    "- `work_imp`: Holding all other variables constant, on average, every additional unit reduction in the importance of work in the respondent's life is associated with a 0.0466 units reduction in respondent's satisfaction with life. \n",
    "\n",
    "#### The model does meet my expectation; family, friends, and purpose (work) are important in our lives. These factors dictate the quality of our lives and how satisfied we are with it. If we give more importance to these factors, overall we are more satisfied with life. Additionally, the respondents' overall satisfaction with life improved with age. This could again be related to family and work; families grow with time, and your employment outcomes improve with time and experience.\n",
    "\n",
    "***Note***: the work_imp and age coefficients are not as statistically significant (p-value > 0.05) as fam_imp and frnd_imp. "
   ]
  },
  {
   "cell_type": "markdown",
   "id": "46b21e65",
   "metadata": {},
   "source": [
    "___\n",
    "## 2. Add an interaction term to that model that you think might moderate the original relationship between X1 and X2.  Explain why you think an interaction might be present and in what direction it would work.  Explain your results.  Did it work out?  Yes?  No?  "
   ]
  },
  {
   "cell_type": "markdown",
   "id": "68c0a7b2",
   "metadata": {},
   "source": [
    "### I am including an interaction term between fam_imp and frnd_imp: importance of family and importance of friends. I am doing so because I suspect these to be correlated. A lot of times, people value friends just as much as they value family, and in a lot of cases people might even value their friends more than they value their families. In some cases, people consider their friends their family. \n",
    "### I expect this interaction to have a positive coefficient - i.e., I expect the dependent variable to improve with every additional unit reduction in importance of friendsXfamily.  This is because both fam_imp and frnd_imp had a negative coefficent in the last model, thus their interaction should have a positive coefficient. "
   ]
  },
  {
   "cell_type": "code",
   "execution_count": 76,
   "id": "11950cf3",
   "metadata": {},
   "outputs": [
    {
     "data": {
      "text/html": [
       "<div>\n",
       "<style scoped>\n",
       "    .dataframe tbody tr th:only-of-type {\n",
       "        vertical-align: middle;\n",
       "    }\n",
       "\n",
       "    .dataframe tbody tr th {\n",
       "        vertical-align: top;\n",
       "    }\n",
       "\n",
       "    .dataframe thead th {\n",
       "        text-align: right;\n",
       "    }\n",
       "</style>\n",
       "<table border=\"1\" class=\"dataframe\">\n",
       "  <thead>\n",
       "    <tr style=\"text-align: right;\">\n",
       "      <th></th>\n",
       "      <th>age</th>\n",
       "      <th>fam_imp</th>\n",
       "      <th>frnd_imp</th>\n",
       "      <th>work_imp</th>\n",
       "      <th>country</th>\n",
       "      <th>life_sat</th>\n",
       "    </tr>\n",
       "  </thead>\n",
       "  <tbody>\n",
       "    <tr>\n",
       "      <th>age</th>\n",
       "      <td>1.000000</td>\n",
       "      <td>0.017101</td>\n",
       "      <td>0.069069</td>\n",
       "      <td>0.205875</td>\n",
       "      <td>-0.022905</td>\n",
       "      <td>-0.031424</td>\n",
       "    </tr>\n",
       "    <tr>\n",
       "      <th>fam_imp</th>\n",
       "      <td>0.017101</td>\n",
       "      <td>1.000000</td>\n",
       "      <td>0.153918</td>\n",
       "      <td>0.138584</td>\n",
       "      <td>-0.032931</td>\n",
       "      <td>-0.078181</td>\n",
       "    </tr>\n",
       "    <tr>\n",
       "      <th>frnd_imp</th>\n",
       "      <td>0.069069</td>\n",
       "      <td>0.153918</td>\n",
       "      <td>1.000000</td>\n",
       "      <td>0.097959</td>\n",
       "      <td>-0.029173</td>\n",
       "      <td>-0.089057</td>\n",
       "    </tr>\n",
       "    <tr>\n",
       "      <th>work_imp</th>\n",
       "      <td>0.205875</td>\n",
       "      <td>0.138584</td>\n",
       "      <td>0.097959</td>\n",
       "      <td>1.000000</td>\n",
       "      <td>0.023510</td>\n",
       "      <td>-0.046071</td>\n",
       "    </tr>\n",
       "    <tr>\n",
       "      <th>country</th>\n",
       "      <td>-0.022905</td>\n",
       "      <td>-0.032931</td>\n",
       "      <td>-0.029173</td>\n",
       "      <td>0.023510</td>\n",
       "      <td>1.000000</td>\n",
       "      <td>0.002498</td>\n",
       "    </tr>\n",
       "    <tr>\n",
       "      <th>life_sat</th>\n",
       "      <td>-0.031424</td>\n",
       "      <td>-0.078181</td>\n",
       "      <td>-0.089057</td>\n",
       "      <td>-0.046071</td>\n",
       "      <td>0.002498</td>\n",
       "      <td>1.000000</td>\n",
       "    </tr>\n",
       "  </tbody>\n",
       "</table>\n",
       "</div>"
      ],
      "text/plain": [
       "               age   fam_imp  frnd_imp  work_imp   country  life_sat\n",
       "age       1.000000  0.017101  0.069069  0.205875 -0.022905 -0.031424\n",
       "fam_imp   0.017101  1.000000  0.153918  0.138584 -0.032931 -0.078181\n",
       "frnd_imp  0.069069  0.153918  1.000000  0.097959 -0.029173 -0.089057\n",
       "work_imp  0.205875  0.138584  0.097959  1.000000  0.023510 -0.046071\n",
       "country  -0.022905 -0.032931 -0.029173  0.023510  1.000000  0.002498\n",
       "life_sat -0.031424 -0.078181 -0.089057 -0.046071  0.002498  1.000000"
      ]
     },
     "execution_count": 76,
     "metadata": {},
     "output_type": "execute_result"
    }
   ],
   "source": [
    "wvs[['age', 'fam_imp', 'frnd_imp', 'work_imp', 'country', 'life_sat']].corr()"
   ]
  },
  {
   "cell_type": "code",
   "execution_count": 77,
   "id": "34f6c5bc",
   "metadata": {},
   "outputs": [
    {
     "name": "stdout",
     "output_type": "stream",
     "text": [
      "                            OLS Regression Results                            \n",
      "==============================================================================\n",
      "Dep. Variable:               life_sat   R-squared:                       0.052\n",
      "Model:                            OLS   Adj. R-squared:                  0.050\n",
      "Method:                 Least Squares   F-statistic:                     24.04\n",
      "Date:                Thu, 11 Nov 2021   Prob (F-statistic):           1.30e-23\n",
      "Time:                        13:37:45   Log-Likelihood:                -4417.8\n",
      "No. Observations:                2195   AIC:                             8848.\n",
      "Df Residuals:                    2189   BIC:                             8882.\n",
      "Df Model:                           5                                         \n",
      "Covariance Type:            nonrobust                                         \n",
      "====================================================================================\n",
      "                       coef    std err          t      P>|t|      [0.025      0.975]\n",
      "------------------------------------------------------------------------------------\n",
      "Intercept            9.0588      0.326     27.824      0.000       8.420       9.697\n",
      "age                  0.0033      0.002      1.380      0.168      -0.001       0.008\n",
      "fam_imp             -1.1261      0.254     -4.435      0.000      -1.624      -0.628\n",
      "frnd_imp            -0.4225      0.131     -3.230      0.001      -0.679      -0.166\n",
      "fam_imp:frnd_imp     0.1158      0.095      1.220      0.222      -0.070       0.302\n",
      "work_imp            -0.0517      0.046     -1.134      0.257      -0.141       0.038\n",
      "==============================================================================\n",
      "Omnibus:                      342.962   Durbin-Watson:                   2.056\n",
      "Prob(Omnibus):                  0.000   Jarque-Bera (JB):              542.653\n",
      "Skew:                          -1.065   Prob(JB):                    1.46e-118\n",
      "Kurtosis:                       4.183   Cond. No.                         564.\n",
      "==============================================================================\n",
      "\n",
      "Notes:\n",
      "[1] Standard Errors assume that the covariance matrix of the errors is correctly specified.\n"
     ]
    }
   ],
   "source": [
    "lm2 = smf.ols(formula = 'life_sat ~ age + fam_imp * frnd_imp + work_imp', data = wvs, subset = wvs['country']==840).fit()\n",
    "print (lm2.summary())"
   ]
  },
  {
   "cell_type": "markdown",
   "id": "f0d6f545",
   "metadata": {},
   "source": [
    "***Interpretation***:\n",
    "- `age`: Holding all other variables constant, on average, every additional year of age is associated with a 0.0033 units increase in respondent's satisfaction with life.\n",
    "- `fam_imp`: Holding all other variables constant, on average, every additional unit reduction in the importance of family in the respondent's life is associated with a 1.1261 units reduction in respondent's satisfaction with life. \n",
    "- `frnd_imp`: Holding all other variables constant, on average, every additional unit reduction in the importance of friends in the respondent's life is associated with a 0.4225 units reduction in respondent's satisfaction with life. \n",
    "- `fam_imp:frnd_imp` : Holding all other variables constant, on average, every additional unit reduction in the importance of family and friends in the respondent's life is associated with a 1.4328 units reduction in respondent's satisfaction with life.\n",
    "    - 0.1158-1.1261-0.4225 = -1.4328\n",
    "- `work_imp`: Holding all other variables constant, on average, every additional unit reduction in the importance of work in the respondent's life is associated with a 0.0517 units reduction in respondent's satisfaction with life. \n",
    "\n",
    "\n",
    "Including the interaction term improves the strength of the fam_imp and frnd_imp cofficients on life_sat. However, the interaction isn't statistically significant ( p-value = 0.222).  \n",
    "\n",
    "### As expected, the coefficient of the interaction has a positive coefficient - it is positively associated with the dependent variable. However, since it is statistically insignificant at all values of alpha, we should not include it in the model. \n",
    "\n",
    "### No, it did not work out. "
   ]
  },
  {
   "cell_type": "markdown",
   "id": "5b14c710",
   "metadata": {},
   "source": [
    "___\n",
    "## 3. Give me an update on your independent project.  What do you plan to investigate?  What are your hypotheses?  What date are you using?  How can we help?  Write your answer here in the lab report, but also send your answer as an email to me at gme2101@columbia.edu with subject \"Independent Project Update - [insert your name]\""
   ]
  },
  {
   "cell_type": "markdown",
   "id": "92a8d240",
   "metadata": {},
   "source": [
    "I plan to investigate the relationship between residential/consumption-based carbon emissions in the US and income inequality, as measured by the Theil index. I am using data from US Environmental Protection Agency for carbon emissions and a publicly shared data on income inequality which was compiled by economist Mark Frank. \n",
    "\n",
    "***Hypothesis***: The paper hypothesizes that there is a positive relationship between income inequality, as measured by the Theil index, and consumption-based carbon emissions in the US. If programs/projects/policies are implemented to alleviate income inequality in the United States, we can expect the consumption-based carbon emissions to decline as well. I propose that in order to control income inequality along with carbon emissions, the household income levels in the US would have to converge somewhere in the middle of the income spectrum at an equilibrium, rather than a universal upward movement in the economic status of American citizens. Reduction in income inequality in the context of this paper refers to a combined effect of improvement in the spending abilities and income opportunities for low income households and a curtailment of over-consumption and the ability to amass exorbitant wealth in the richer sections of society.\n",
    "\n",
    "Improving economic outcomes for low income communities in the US would allow individuals residing in those communities to make smarter sustainable decisions, as such decisions tend to be costlier or have a large initial capital requirement associated with them. Better income would also allow individuals in low income communities to improve their quality of education and educational outcomes – which in turn would expand their knowledge of environmental costs and consequences associated with different activities. Additionally, it is important to mention that distressing over the environmental impact of one's activities is a privilege that the poorest communities do not enjoy. People who have to work multiple jobs to feed themselves and their family do not have the capacity to consider how their choices could translate into environmental degradation.\n",
    "\n",
    "At the same time, there is a need for restricting consumption-based carbon emissions by curtailing over-consumption in affluent households. In a recent study published by the University of Michigan, emissions from residential energy use in 93 million homes were analyzed to investigate affluence and greenhouse gas emissions in the US. The study concluded that wealthier American households emit about 25% more carbon than lower-income households, “with emissions up to 15 times higher in especially affluent suburbs.” Residential energy is estimated to account for 20% of the total greenhouse gas emissions in the US. To curb consumption-based carbon emissions, policies and projects that target income inequality need to include structures that limit the spending ability and consumption capacity of extremely wealthy households."
   ]
  },
  {
   "cell_type": "markdown",
   "id": "9431e4e3",
   "metadata": {},
   "source": [
    "***Help needed***: I have more or less decided on using Theil as a measure of inequality but I want to further explore the pros and cons of Gini vs Theil. If you have any suggestions and/or reccommendations for books/articles/papers, I am all ears! "
   ]
  }
 ],
 "metadata": {
  "kernelspec": {
   "display_name": "Python 3",
   "language": "python",
   "name": "python3"
  },
  "language_info": {
   "codemirror_mode": {
    "name": "ipython",
    "version": 3
   },
   "file_extension": ".py",
   "mimetype": "text/x-python",
   "name": "python",
   "nbconvert_exporter": "python",
   "pygments_lexer": "ipython3",
   "version": "3.8.8"
  }
 },
 "nbformat": 4,
 "nbformat_minor": 5
}
