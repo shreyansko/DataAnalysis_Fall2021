{
 "cells": [
  {
   "cell_type": "markdown",
   "id": "7d2bd5a8",
   "metadata": {},
   "source": []
  },
  {
   "cell_type": "markdown",
   "id": "56f2b5eb",
   "metadata": {},
   "source": []
  },
  {
   "cell_type": "code",
   "execution_count": 1,
   "id": "5283a372",
   "metadata": {},
   "outputs": [],
   "source": [
    "#Importing libraries\n",
    "from __future__ import division\n",
    "import pandas as pd\n",
    "import numpy as np\n",
    "import statsmodels.api as sm\n",
    "import statsmodels.formula.api as smf\n",
    "import os\n",
    "import matplotlib.pyplot as plt"
   ]
  },
  {
   "cell_type": "markdown",
   "id": "def981fc",
   "metadata": {},
   "source": [
    "### Carbon Dataset"
   ]
  },
  {
   "cell_type": "code",
   "execution_count": 2,
   "id": "bfedf865",
   "metadata": {},
   "outputs": [],
   "source": [
    "#carbon= pd.read_csv(\"/Users/shreyanskothari/Desktop/Quant theory : methodology/Data/Carbon Emissions/state_co2_emissions_from_fossil_fuel_combustion_1990-2018.csv\", sep = ',', skiprows=2)"
   ]
  },
  {
   "cell_type": "code",
   "execution_count": 37,
   "id": "611ebefe",
   "metadata": {},
   "outputs": [],
   "source": [
    "carbon= pd.read_csv(\"/Users/shreyanskothari/Desktop/Quant theory : methodology/Data/Carbon Emissions/residential_emissions.csv\", sep = ',', skiprows=2)\n"
   ]
  },
  {
   "cell_type": "code",
   "execution_count": 39,
   "id": "039f55e5",
   "metadata": {},
   "outputs": [
    {
     "data": {
      "text/html": [
       "<div>\n",
       "<style scoped>\n",
       "    .dataframe tbody tr th:only-of-type {\n",
       "        vertical-align: middle;\n",
       "    }\n",
       "\n",
       "    .dataframe tbody tr th {\n",
       "        vertical-align: top;\n",
       "    }\n",
       "\n",
       "    .dataframe thead th {\n",
       "        text-align: right;\n",
       "    }\n",
       "</style>\n",
       "<table border=\"1\" class=\"dataframe\">\n",
       "  <thead>\n",
       "    <tr style=\"text-align: right;\">\n",
       "      <th></th>\n",
       "      <th>State</th>\n",
       "      <th>1980</th>\n",
       "      <th>1981</th>\n",
       "      <th>1982</th>\n",
       "      <th>1983</th>\n",
       "      <th>1984</th>\n",
       "      <th>1985</th>\n",
       "      <th>1986</th>\n",
       "      <th>1987</th>\n",
       "      <th>1988</th>\n",
       "      <th>...</th>\n",
       "      <th>2012</th>\n",
       "      <th>2013</th>\n",
       "      <th>2014</th>\n",
       "      <th>2015</th>\n",
       "      <th>2016</th>\n",
       "      <th>2017</th>\n",
       "      <th>2018</th>\n",
       "      <th>Percent</th>\n",
       "      <th>Absolute</th>\n",
       "      <th>Unnamed: 42</th>\n",
       "    </tr>\n",
       "  </thead>\n",
       "  <tbody>\n",
       "    <tr>\n",
       "      <th>0</th>\n",
       "      <td>Alabama</td>\n",
       "      <td>3.6</td>\n",
       "      <td>3.4</td>\n",
       "      <td>3.4</td>\n",
       "      <td>3.5</td>\n",
       "      <td>3.3</td>\n",
       "      <td>2.9</td>\n",
       "      <td>3.0</td>\n",
       "      <td>3.4</td>\n",
       "      <td>3.4</td>\n",
       "      <td>...</td>\n",
       "      <td>1.8</td>\n",
       "      <td>2.2</td>\n",
       "      <td>2.4</td>\n",
       "      <td>2.1</td>\n",
       "      <td>1.9</td>\n",
       "      <td>1.7</td>\n",
       "      <td>2.3</td>\n",
       "      <td>-36.1%</td>\n",
       "      <td>-1.3</td>\n",
       "      <td>NaN</td>\n",
       "    </tr>\n",
       "    <tr>\n",
       "      <th>1</th>\n",
       "      <td>Alaska</td>\n",
       "      <td>0.9</td>\n",
       "      <td>0.9</td>\n",
       "      <td>1.2</td>\n",
       "      <td>1.2</td>\n",
       "      <td>1.4</td>\n",
       "      <td>1.4</td>\n",
       "      <td>1.3</td>\n",
       "      <td>1.3</td>\n",
       "      <td>1.2</td>\n",
       "      <td>...</td>\n",
       "      <td>1.8</td>\n",
       "      <td>1.6</td>\n",
       "      <td>1.5</td>\n",
       "      <td>1.6</td>\n",
       "      <td>1.5</td>\n",
       "      <td>1.7</td>\n",
       "      <td>1.5</td>\n",
       "      <td>66.7%</td>\n",
       "      <td>0.6</td>\n",
       "      <td>NaN</td>\n",
       "    </tr>\n",
       "    <tr>\n",
       "      <th>2</th>\n",
       "      <td>Arizona</td>\n",
       "      <td>1.8</td>\n",
       "      <td>1.6</td>\n",
       "      <td>1.8</td>\n",
       "      <td>1.8</td>\n",
       "      <td>1.7</td>\n",
       "      <td>1.8</td>\n",
       "      <td>1.6</td>\n",
       "      <td>1.8</td>\n",
       "      <td>1.7</td>\n",
       "      <td>...</td>\n",
       "      <td>2.1</td>\n",
       "      <td>2.4</td>\n",
       "      <td>2.0</td>\n",
       "      <td>2.1</td>\n",
       "      <td>2.2</td>\n",
       "      <td>2.1</td>\n",
       "      <td>2.2</td>\n",
       "      <td>22.2%</td>\n",
       "      <td>0.4</td>\n",
       "      <td>NaN</td>\n",
       "    </tr>\n",
       "    <tr>\n",
       "      <th>3</th>\n",
       "      <td>Arkansas</td>\n",
       "      <td>3.0</td>\n",
       "      <td>2.7</td>\n",
       "      <td>2.8</td>\n",
       "      <td>3.1</td>\n",
       "      <td>2.9</td>\n",
       "      <td>2.7</td>\n",
       "      <td>2.6</td>\n",
       "      <td>2.6</td>\n",
       "      <td>2.7</td>\n",
       "      <td>...</td>\n",
       "      <td>1.6</td>\n",
       "      <td>2.2</td>\n",
       "      <td>2.4</td>\n",
       "      <td>2.0</td>\n",
       "      <td>1.7</td>\n",
       "      <td>1.6</td>\n",
       "      <td>2.1</td>\n",
       "      <td>-30.0%</td>\n",
       "      <td>-0.9</td>\n",
       "      <td>NaN</td>\n",
       "    </tr>\n",
       "    <tr>\n",
       "      <th>4</th>\n",
       "      <td>California</td>\n",
       "      <td>30.4</td>\n",
       "      <td>28.0</td>\n",
       "      <td>30.8</td>\n",
       "      <td>28.7</td>\n",
       "      <td>27.0</td>\n",
       "      <td>30.3</td>\n",
       "      <td>26.6</td>\n",
       "      <td>28.6</td>\n",
       "      <td>28.5</td>\n",
       "      <td>...</td>\n",
       "      <td>27.3</td>\n",
       "      <td>27.7</td>\n",
       "      <td>22.9</td>\n",
       "      <td>23.4</td>\n",
       "      <td>24.1</td>\n",
       "      <td>25.1</td>\n",
       "      <td>24.8</td>\n",
       "      <td>-18.4%</td>\n",
       "      <td>-5.6</td>\n",
       "      <td>NaN</td>\n",
       "    </tr>\n",
       "  </tbody>\n",
       "</table>\n",
       "<p>5 rows × 43 columns</p>\n",
       "</div>"
      ],
      "text/plain": [
       "        State  1980  1981  1982  1983  1984  1985  1986  1987  1988  ...  \\\n",
       "0     Alabama   3.6   3.4   3.4   3.5   3.3   2.9   3.0   3.4   3.4  ...   \n",
       "1      Alaska   0.9   0.9   1.2   1.2   1.4   1.4   1.3   1.3   1.2  ...   \n",
       "2     Arizona   1.8   1.6   1.8   1.8   1.7   1.8   1.6   1.8   1.7  ...   \n",
       "3    Arkansas   3.0   2.7   2.8   3.1   2.9   2.7   2.6   2.6   2.7  ...   \n",
       "4  California  30.4  28.0  30.8  28.7  27.0  30.3  26.6  28.6  28.5  ...   \n",
       "\n",
       "   2012  2013  2014  2015  2016  2017  2018  Percent  Absolute  Unnamed: 42  \n",
       "0   1.8   2.2   2.4   2.1   1.9   1.7   2.3   -36.1%      -1.3          NaN  \n",
       "1   1.8   1.6   1.5   1.6   1.5   1.7   1.5    66.7%       0.6          NaN  \n",
       "2   2.1   2.4   2.0   2.1   2.2   2.1   2.2    22.2%       0.4          NaN  \n",
       "3   1.6   2.2   2.4   2.0   1.7   1.6   2.1   -30.0%      -0.9          NaN  \n",
       "4  27.3  27.7  22.9  23.4  24.1  25.1  24.8   -18.4%      -5.6          NaN  \n",
       "\n",
       "[5 rows x 43 columns]"
      ]
     },
     "execution_count": 39,
     "metadata": {},
     "output_type": "execute_result"
    }
   ],
   "source": [
    "carbon.head()"
   ]
  },
  {
   "cell_type": "code",
   "execution_count": 40,
   "id": "f1057446",
   "metadata": {},
   "outputs": [],
   "source": [
    "#Cleaning carbon dataset\n",
    "#carbon = carbon[carbon.Sector == 'Residential']\n",
    "carbon = carbon.drop(columns= ['Percent', 'Absolute', 'Unnamed: 42'])"
   ]
  },
  {
   "cell_type": "code",
   "execution_count": 41,
   "id": "31a1e70b",
   "metadata": {},
   "outputs": [
    {
     "data": {
      "text/html": [
       "<div>\n",
       "<style scoped>\n",
       "    .dataframe tbody tr th:only-of-type {\n",
       "        vertical-align: middle;\n",
       "    }\n",
       "\n",
       "    .dataframe tbody tr th {\n",
       "        vertical-align: top;\n",
       "    }\n",
       "\n",
       "    .dataframe thead th {\n",
       "        text-align: right;\n",
       "    }\n",
       "</style>\n",
       "<table border=\"1\" class=\"dataframe\">\n",
       "  <thead>\n",
       "    <tr style=\"text-align: right;\">\n",
       "      <th></th>\n",
       "      <th>State</th>\n",
       "      <th>1980</th>\n",
       "      <th>1981</th>\n",
       "      <th>1982</th>\n",
       "      <th>1983</th>\n",
       "      <th>1984</th>\n",
       "      <th>1985</th>\n",
       "      <th>1986</th>\n",
       "      <th>1987</th>\n",
       "      <th>1988</th>\n",
       "      <th>...</th>\n",
       "      <th>2009</th>\n",
       "      <th>2010</th>\n",
       "      <th>2011</th>\n",
       "      <th>2012</th>\n",
       "      <th>2013</th>\n",
       "      <th>2014</th>\n",
       "      <th>2015</th>\n",
       "      <th>2016</th>\n",
       "      <th>2017</th>\n",
       "      <th>2018</th>\n",
       "    </tr>\n",
       "  </thead>\n",
       "  <tbody>\n",
       "    <tr>\n",
       "      <th>0</th>\n",
       "      <td>Alabama</td>\n",
       "      <td>3.6</td>\n",
       "      <td>3.4</td>\n",
       "      <td>3.4</td>\n",
       "      <td>3.5</td>\n",
       "      <td>3.3</td>\n",
       "      <td>2.9</td>\n",
       "      <td>3.0</td>\n",
       "      <td>3.4</td>\n",
       "      <td>3.4</td>\n",
       "      <td>...</td>\n",
       "      <td>2.5</td>\n",
       "      <td>2.9</td>\n",
       "      <td>2.3</td>\n",
       "      <td>1.8</td>\n",
       "      <td>2.2</td>\n",
       "      <td>2.4</td>\n",
       "      <td>2.1</td>\n",
       "      <td>1.9</td>\n",
       "      <td>1.7</td>\n",
       "      <td>2.3</td>\n",
       "    </tr>\n",
       "    <tr>\n",
       "      <th>1</th>\n",
       "      <td>Alaska</td>\n",
       "      <td>0.9</td>\n",
       "      <td>0.9</td>\n",
       "      <td>1.2</td>\n",
       "      <td>1.2</td>\n",
       "      <td>1.4</td>\n",
       "      <td>1.4</td>\n",
       "      <td>1.3</td>\n",
       "      <td>1.3</td>\n",
       "      <td>1.2</td>\n",
       "      <td>...</td>\n",
       "      <td>1.7</td>\n",
       "      <td>1.7</td>\n",
       "      <td>1.7</td>\n",
       "      <td>1.8</td>\n",
       "      <td>1.6</td>\n",
       "      <td>1.5</td>\n",
       "      <td>1.6</td>\n",
       "      <td>1.5</td>\n",
       "      <td>1.7</td>\n",
       "      <td>1.5</td>\n",
       "    </tr>\n",
       "    <tr>\n",
       "      <th>2</th>\n",
       "      <td>Arizona</td>\n",
       "      <td>1.8</td>\n",
       "      <td>1.6</td>\n",
       "      <td>1.8</td>\n",
       "      <td>1.8</td>\n",
       "      <td>1.7</td>\n",
       "      <td>1.8</td>\n",
       "      <td>1.6</td>\n",
       "      <td>1.8</td>\n",
       "      <td>1.7</td>\n",
       "      <td>...</td>\n",
       "      <td>2.2</td>\n",
       "      <td>2.3</td>\n",
       "      <td>2.4</td>\n",
       "      <td>2.1</td>\n",
       "      <td>2.4</td>\n",
       "      <td>2.0</td>\n",
       "      <td>2.1</td>\n",
       "      <td>2.2</td>\n",
       "      <td>2.1</td>\n",
       "      <td>2.2</td>\n",
       "    </tr>\n",
       "    <tr>\n",
       "      <th>3</th>\n",
       "      <td>Arkansas</td>\n",
       "      <td>3.0</td>\n",
       "      <td>2.7</td>\n",
       "      <td>2.8</td>\n",
       "      <td>3.1</td>\n",
       "      <td>2.9</td>\n",
       "      <td>2.7</td>\n",
       "      <td>2.6</td>\n",
       "      <td>2.6</td>\n",
       "      <td>2.7</td>\n",
       "      <td>...</td>\n",
       "      <td>2.2</td>\n",
       "      <td>2.3</td>\n",
       "      <td>2.1</td>\n",
       "      <td>1.6</td>\n",
       "      <td>2.2</td>\n",
       "      <td>2.4</td>\n",
       "      <td>2.0</td>\n",
       "      <td>1.7</td>\n",
       "      <td>1.6</td>\n",
       "      <td>2.1</td>\n",
       "    </tr>\n",
       "    <tr>\n",
       "      <th>4</th>\n",
       "      <td>California</td>\n",
       "      <td>30.4</td>\n",
       "      <td>28.0</td>\n",
       "      <td>30.8</td>\n",
       "      <td>28.7</td>\n",
       "      <td>27.0</td>\n",
       "      <td>30.3</td>\n",
       "      <td>26.6</td>\n",
       "      <td>28.6</td>\n",
       "      <td>28.5</td>\n",
       "      <td>...</td>\n",
       "      <td>28.3</td>\n",
       "      <td>28.9</td>\n",
       "      <td>29.7</td>\n",
       "      <td>27.3</td>\n",
       "      <td>27.7</td>\n",
       "      <td>22.9</td>\n",
       "      <td>23.4</td>\n",
       "      <td>24.1</td>\n",
       "      <td>25.1</td>\n",
       "      <td>24.8</td>\n",
       "    </tr>\n",
       "  </tbody>\n",
       "</table>\n",
       "<p>5 rows × 40 columns</p>\n",
       "</div>"
      ],
      "text/plain": [
       "        State  1980  1981  1982  1983  1984  1985  1986  1987  1988  ...  \\\n",
       "0     Alabama   3.6   3.4   3.4   3.5   3.3   2.9   3.0   3.4   3.4  ...   \n",
       "1      Alaska   0.9   0.9   1.2   1.2   1.4   1.4   1.3   1.3   1.2  ...   \n",
       "2     Arizona   1.8   1.6   1.8   1.8   1.7   1.8   1.6   1.8   1.7  ...   \n",
       "3    Arkansas   3.0   2.7   2.8   3.1   2.9   2.7   2.6   2.6   2.7  ...   \n",
       "4  California  30.4  28.0  30.8  28.7  27.0  30.3  26.6  28.6  28.5  ...   \n",
       "\n",
       "   2009  2010  2011  2012  2013  2014  2015  2016  2017  2018  \n",
       "0   2.5   2.9   2.3   1.8   2.2   2.4   2.1   1.9   1.7   2.3  \n",
       "1   1.7   1.7   1.7   1.8   1.6   1.5   1.6   1.5   1.7   1.5  \n",
       "2   2.2   2.3   2.4   2.1   2.4   2.0   2.1   2.2   2.1   2.2  \n",
       "3   2.2   2.3   2.1   1.6   2.2   2.4   2.0   1.7   1.6   2.1  \n",
       "4  28.3  28.9  29.7  27.3  27.7  22.9  23.4  24.1  25.1  24.8  \n",
       "\n",
       "[5 rows x 40 columns]"
      ]
     },
     "execution_count": 41,
     "metadata": {},
     "output_type": "execute_result"
    }
   ],
   "source": [
    "carbon.head()"
   ]
  },
  {
   "cell_type": "code",
   "execution_count": 42,
   "id": "fc3adb2e",
   "metadata": {},
   "outputs": [
    {
     "data": {
      "text/plain": [
       "Index(['State', '1980', '1981', '1982', '1983', '1984', '1985', '1986', '1987',\n",
       "       '1988', '1989', '1990', '1991', '1992', '1993', '1994', '1995', '1996',\n",
       "       '1997', '1998', '1999', '2000', '2001', '2002', '2003', '2004', '2005',\n",
       "       '2006', '2007', '2008', '2009', '2010', '2011', '2012', '2013', '2014',\n",
       "       '2015', '2016', '2017', '2018'],\n",
       "      dtype='object')"
      ]
     },
     "execution_count": 42,
     "metadata": {},
     "output_type": "execute_result"
    }
   ],
   "source": [
    "carbon.columns"
   ]
  },
  {
   "cell_type": "code",
   "execution_count": 43,
   "id": "d0836736",
   "metadata": {},
   "outputs": [],
   "source": [
    "carbon = pd.melt(carbon, id_vars = 'State', value_vars=['1980', '1981', '1982', '1983', '1984', '1985', '1986', '1987',\n",
    "       '1988', '1989', '1990', '1991', '1992', '1993', '1994', '1995', '1996',\n",
    "       '1997', '1998', '1999', '2000', '2001', '2002', '2003', '2004', '2005',\n",
    "       '2006', '2007', '2008', '2009', '2010', '2011', '2012', '2013', '2014',\n",
    "       '2015', '2016', '2017', '2018'], value_name='emissions', var_name = 'year')"
   ]
  },
  {
   "cell_type": "code",
   "execution_count": 375,
   "id": "43ecad60",
   "metadata": {},
   "outputs": [
    {
     "data": {
      "text/html": [
       "<div>\n",
       "<style scoped>\n",
       "    .dataframe tbody tr th:only-of-type {\n",
       "        vertical-align: middle;\n",
       "    }\n",
       "\n",
       "    .dataframe tbody tr th {\n",
       "        vertical-align: top;\n",
       "    }\n",
       "\n",
       "    .dataframe thead th {\n",
       "        text-align: right;\n",
       "    }\n",
       "</style>\n",
       "<table border=\"1\" class=\"dataframe\">\n",
       "  <thead>\n",
       "    <tr style=\"text-align: right;\">\n",
       "      <th></th>\n",
       "      <th>state</th>\n",
       "      <th>year</th>\n",
       "      <th>emissions</th>\n",
       "    </tr>\n",
       "  </thead>\n",
       "  <tbody>\n",
       "    <tr>\n",
       "      <th>0</th>\n",
       "      <td>Alabama</td>\n",
       "      <td>1980</td>\n",
       "      <td>3.6</td>\n",
       "    </tr>\n",
       "    <tr>\n",
       "      <th>1</th>\n",
       "      <td>Alaska</td>\n",
       "      <td>1980</td>\n",
       "      <td>0.9</td>\n",
       "    </tr>\n",
       "    <tr>\n",
       "      <th>2</th>\n",
       "      <td>Arizona</td>\n",
       "      <td>1980</td>\n",
       "      <td>1.8</td>\n",
       "    </tr>\n",
       "    <tr>\n",
       "      <th>3</th>\n",
       "      <td>Arkansas</td>\n",
       "      <td>1980</td>\n",
       "      <td>3.0</td>\n",
       "    </tr>\n",
       "    <tr>\n",
       "      <th>4</th>\n",
       "      <td>California</td>\n",
       "      <td>1980</td>\n",
       "      <td>30.4</td>\n",
       "    </tr>\n",
       "  </tbody>\n",
       "</table>\n",
       "</div>"
      ],
      "text/plain": [
       "        state  year  emissions\n",
       "0     Alabama  1980        3.6\n",
       "1      Alaska  1980        0.9\n",
       "2     Arizona  1980        1.8\n",
       "3    Arkansas  1980        3.0\n",
       "4  California  1980       30.4"
      ]
     },
     "execution_count": 375,
     "metadata": {},
     "output_type": "execute_result"
    }
   ],
   "source": [
    "carbon = carbon.rename(columns={'State':'state'})\n",
    "carbon.head()"
   ]
  },
  {
   "cell_type": "code",
   "execution_count": 45,
   "id": "9065d91e",
   "metadata": {},
   "outputs": [
    {
     "data": {
      "text/plain": [
       "(1989, 3)"
      ]
     },
     "execution_count": 45,
     "metadata": {},
     "output_type": "execute_result"
    }
   ],
   "source": [
    "carbon.shape"
   ]
  },
  {
   "cell_type": "markdown",
   "id": "54e69d8a",
   "metadata": {},
   "source": [
    "### Inequality Dataset"
   ]
  },
  {
   "cell_type": "code",
   "execution_count": 46,
   "id": "3edfebbb",
   "metadata": {},
   "outputs": [],
   "source": [
    "inequality = pd.read_csv(\"/Users/shreyanskothari/Desktop/Quant theory : methodology/Data/Income Inequality/Frank_Gini_2018.csv\",\n",
    "                        sep = ',')"
   ]
  },
  {
   "cell_type": "code",
   "execution_count": 47,
   "id": "bba06af2",
   "metadata": {},
   "outputs": [
    {
     "data": {
      "text/html": [
       "<div>\n",
       "<style scoped>\n",
       "    .dataframe tbody tr th:only-of-type {\n",
       "        vertical-align: middle;\n",
       "    }\n",
       "\n",
       "    .dataframe tbody tr th {\n",
       "        vertical-align: top;\n",
       "    }\n",
       "\n",
       "    .dataframe thead th {\n",
       "        text-align: right;\n",
       "    }\n",
       "</style>\n",
       "<table border=\"1\" class=\"dataframe\">\n",
       "  <thead>\n",
       "    <tr style=\"text-align: right;\">\n",
       "      <th></th>\n",
       "      <th>Year</th>\n",
       "      <th>st</th>\n",
       "      <th>State</th>\n",
       "      <th>Atkin05</th>\n",
       "      <th>Gini</th>\n",
       "      <th>RMeanDev</th>\n",
       "      <th>Theil</th>\n",
       "    </tr>\n",
       "  </thead>\n",
       "  <tbody>\n",
       "    <tr>\n",
       "      <th>0</th>\n",
       "      <td>1917</td>\n",
       "      <td>0</td>\n",
       "      <td>United States</td>\n",
       "      <td>0.255703</td>\n",
       "      <td>0.507681</td>\n",
       "      <td>0.792800</td>\n",
       "      <td>0.844601</td>\n",
       "    </tr>\n",
       "    <tr>\n",
       "      <th>1</th>\n",
       "      <td>1917</td>\n",
       "      <td>1</td>\n",
       "      <td>Alabama</td>\n",
       "      <td>0.156439</td>\n",
       "      <td>0.399792</td>\n",
       "      <td>0.608259</td>\n",
       "      <td>0.446908</td>\n",
       "    </tr>\n",
       "    <tr>\n",
       "      <th>2</th>\n",
       "      <td>1917</td>\n",
       "      <td>3</td>\n",
       "      <td>Arizona</td>\n",
       "      <td>0.159122</td>\n",
       "      <td>0.399658</td>\n",
       "      <td>0.617671</td>\n",
       "      <td>0.450125</td>\n",
       "    </tr>\n",
       "    <tr>\n",
       "      <th>3</th>\n",
       "      <td>1917</td>\n",
       "      <td>4</td>\n",
       "      <td>Arkansas</td>\n",
       "      <td>0.127598</td>\n",
       "      <td>0.376483</td>\n",
       "      <td>0.561483</td>\n",
       "      <td>0.324998</td>\n",
       "    </tr>\n",
       "    <tr>\n",
       "      <th>4</th>\n",
       "      <td>1917</td>\n",
       "      <td>5</td>\n",
       "      <td>California</td>\n",
       "      <td>0.192735</td>\n",
       "      <td>0.449363</td>\n",
       "      <td>0.687849</td>\n",
       "      <td>0.553006</td>\n",
       "    </tr>\n",
       "  </tbody>\n",
       "</table>\n",
       "</div>"
      ],
      "text/plain": [
       "   Year  st          State   Atkin05      Gini  RMeanDev     Theil\n",
       "0  1917   0  United States  0.255703  0.507681  0.792800  0.844601\n",
       "1  1917   1        Alabama  0.156439  0.399792  0.608259  0.446908\n",
       "2  1917   3        Arizona  0.159122  0.399658  0.617671  0.450125\n",
       "3  1917   4       Arkansas  0.127598  0.376483  0.561483  0.324998\n",
       "4  1917   5     California  0.192735  0.449363  0.687849  0.553006"
      ]
     },
     "execution_count": 47,
     "metadata": {},
     "output_type": "execute_result"
    }
   ],
   "source": [
    "inequality.head()"
   ]
  },
  {
   "cell_type": "code",
   "execution_count": 48,
   "id": "e9e148e7",
   "metadata": {},
   "outputs": [
    {
     "data": {
      "text/html": [
       "<div>\n",
       "<style scoped>\n",
       "    .dataframe tbody tr th:only-of-type {\n",
       "        vertical-align: middle;\n",
       "    }\n",
       "\n",
       "    .dataframe tbody tr th {\n",
       "        vertical-align: top;\n",
       "    }\n",
       "\n",
       "    .dataframe thead th {\n",
       "        text-align: right;\n",
       "    }\n",
       "</style>\n",
       "<table border=\"1\" class=\"dataframe\">\n",
       "  <thead>\n",
       "    <tr style=\"text-align: right;\">\n",
       "      <th></th>\n",
       "      <th>Year</th>\n",
       "      <th>State</th>\n",
       "      <th>Theil</th>\n",
       "    </tr>\n",
       "  </thead>\n",
       "  <tbody>\n",
       "    <tr>\n",
       "      <th>0</th>\n",
       "      <td>1917</td>\n",
       "      <td>United States</td>\n",
       "      <td>0.844601</td>\n",
       "    </tr>\n",
       "    <tr>\n",
       "      <th>1</th>\n",
       "      <td>1917</td>\n",
       "      <td>Alabama</td>\n",
       "      <td>0.446908</td>\n",
       "    </tr>\n",
       "    <tr>\n",
       "      <th>2</th>\n",
       "      <td>1917</td>\n",
       "      <td>Arizona</td>\n",
       "      <td>0.450125</td>\n",
       "    </tr>\n",
       "    <tr>\n",
       "      <th>3</th>\n",
       "      <td>1917</td>\n",
       "      <td>Arkansas</td>\n",
       "      <td>0.324998</td>\n",
       "    </tr>\n",
       "    <tr>\n",
       "      <th>4</th>\n",
       "      <td>1917</td>\n",
       "      <td>California</td>\n",
       "      <td>0.553006</td>\n",
       "    </tr>\n",
       "  </tbody>\n",
       "</table>\n",
       "</div>"
      ],
      "text/plain": [
       "   Year          State     Theil\n",
       "0  1917  United States  0.844601\n",
       "1  1917        Alabama  0.446908\n",
       "2  1917        Arizona  0.450125\n",
       "3  1917       Arkansas  0.324998\n",
       "4  1917     California  0.553006"
      ]
     },
     "execution_count": 48,
     "metadata": {},
     "output_type": "execute_result"
    }
   ],
   "source": [
    "#Dropping 'st', Atkin05','RMeanDev', and 'Gini'\n",
    "inequality = inequality.drop(columns= ['st','Atkin05','Gini','RMeanDev'])\n",
    "inequality.head()"
   ]
  },
  {
   "cell_type": "code",
   "execution_count": 49,
   "id": "85f77ea3",
   "metadata": {},
   "outputs": [
    {
     "data": {
      "text/html": [
       "<div>\n",
       "<style scoped>\n",
       "    .dataframe tbody tr th:only-of-type {\n",
       "        vertical-align: middle;\n",
       "    }\n",
       "\n",
       "    .dataframe tbody tr th {\n",
       "        vertical-align: top;\n",
       "    }\n",
       "\n",
       "    .dataframe thead th {\n",
       "        text-align: right;\n",
       "    }\n",
       "</style>\n",
       "<table border=\"1\" class=\"dataframe\">\n",
       "  <thead>\n",
       "    <tr style=\"text-align: right;\">\n",
       "      <th></th>\n",
       "      <th>Year</th>\n",
       "      <th>State</th>\n",
       "      <th>Theil</th>\n",
       "    </tr>\n",
       "  </thead>\n",
       "  <tbody>\n",
       "    <tr>\n",
       "      <th>3192</th>\n",
       "      <td>1980</td>\n",
       "      <td>United States</td>\n",
       "      <td>0.425711</td>\n",
       "    </tr>\n",
       "    <tr>\n",
       "      <th>3193</th>\n",
       "      <td>1980</td>\n",
       "      <td>Alabama</td>\n",
       "      <td>0.397920</td>\n",
       "    </tr>\n",
       "    <tr>\n",
       "      <th>3194</th>\n",
       "      <td>1980</td>\n",
       "      <td>Alaska</td>\n",
       "      <td>0.411709</td>\n",
       "    </tr>\n",
       "    <tr>\n",
       "      <th>3195</th>\n",
       "      <td>1980</td>\n",
       "      <td>Arizona</td>\n",
       "      <td>0.394529</td>\n",
       "    </tr>\n",
       "    <tr>\n",
       "      <th>3196</th>\n",
       "      <td>1980</td>\n",
       "      <td>Arkansas</td>\n",
       "      <td>0.392170</td>\n",
       "    </tr>\n",
       "  </tbody>\n",
       "</table>\n",
       "</div>"
      ],
      "text/plain": [
       "      Year          State     Theil\n",
       "3192  1980  United States  0.425711\n",
       "3193  1980        Alabama  0.397920\n",
       "3194  1980         Alaska  0.411709\n",
       "3195  1980        Arizona  0.394529\n",
       "3196  1980       Arkansas  0.392170"
      ]
     },
     "execution_count": 49,
     "metadata": {},
     "output_type": "execute_result"
    }
   ],
   "source": [
    "#Dropping Years before 1980:\n",
    "inequality = inequality[inequality.Year >=1980]\n",
    "inequality.head()"
   ]
  },
  {
   "cell_type": "code",
   "execution_count": 50,
   "id": "803c0585",
   "metadata": {},
   "outputs": [],
   "source": [
    "inequality = inequality.rename(columns = {'Year':'year', 'State':'state', 'Theil':'theil'})"
   ]
  },
  {
   "cell_type": "code",
   "execution_count": 51,
   "id": "8148b56c",
   "metadata": {},
   "outputs": [],
   "source": [
    "inequality = inequality[inequality.state != 'United States']"
   ]
  },
  {
   "cell_type": "code",
   "execution_count": 91,
   "id": "76cdf8f3",
   "metadata": {},
   "outputs": [
    {
     "data": {
      "text/plain": [
       "(1989, 3)"
      ]
     },
     "execution_count": 91,
     "metadata": {},
     "output_type": "execute_result"
    }
   ],
   "source": [
    "inequality.shape"
   ]
  },
  {
   "cell_type": "markdown",
   "id": "497fc6bb",
   "metadata": {},
   "source": [
    "### Minimum Wage Dataset"
   ]
  },
  {
   "cell_type": "code",
   "execution_count": 81,
   "id": "837efcb7",
   "metadata": {},
   "outputs": [],
   "source": [
    "min_wage = pd.read_csv(\"/Users/shreyanskothari/Desktop/Quant theory : methodology/Data/Income Inequality/minwage_1980.csv\", sep = ',')"
   ]
  },
  {
   "cell_type": "code",
   "execution_count": 82,
   "id": "af9b42da",
   "metadata": {},
   "outputs": [
    {
     "data": {
      "text/html": [
       "<div>\n",
       "<style scoped>\n",
       "    .dataframe tbody tr th:only-of-type {\n",
       "        vertical-align: middle;\n",
       "    }\n",
       "\n",
       "    .dataframe tbody tr th {\n",
       "        vertical-align: top;\n",
       "    }\n",
       "\n",
       "    .dataframe thead th {\n",
       "        text-align: right;\n",
       "    }\n",
       "</style>\n",
       "<table border=\"1\" class=\"dataframe\">\n",
       "  <thead>\n",
       "    <tr style=\"text-align: right;\">\n",
       "      <th></th>\n",
       "      <th>DATE</th>\n",
       "      <th>Alaska</th>\n",
       "      <th>Arkansas</th>\n",
       "      <th>Arizona</th>\n",
       "      <th>California</th>\n",
       "      <th>Colorado</th>\n",
       "      <th>Connecticut</th>\n",
       "      <th>District of Columbia</th>\n",
       "      <th>Delaware</th>\n",
       "      <th>Federal Minimum Wage Rate under the Federal Fair Labor Standards Act</th>\n",
       "      <th>...</th>\n",
       "      <th>Vermont</th>\n",
       "      <th>Washington</th>\n",
       "      <th>Wisconsin</th>\n",
       "      <th>West Virginia</th>\n",
       "      <th>Wyoming</th>\n",
       "      <th>Alabama</th>\n",
       "      <th>Louisiana</th>\n",
       "      <th>Mississippi</th>\n",
       "      <th>South Carolina</th>\n",
       "      <th>Tennessee</th>\n",
       "    </tr>\n",
       "  </thead>\n",
       "  <tbody>\n",
       "    <tr>\n",
       "      <th>0</th>\n",
       "      <td>1980.0</td>\n",
       "      <td>3.60</td>\n",
       "      <td>2.55</td>\n",
       "      <td>3.10</td>\n",
       "      <td>2.90</td>\n",
       "      <td>1.9</td>\n",
       "      <td>3.12</td>\n",
       "      <td>3.50</td>\n",
       "      <td>2.0</td>\n",
       "      <td>3.10</td>\n",
       "      <td>...</td>\n",
       "      <td>3.10</td>\n",
       "      <td>2.3</td>\n",
       "      <td>3.00</td>\n",
       "      <td>2.20</td>\n",
       "      <td>1.6</td>\n",
       "      <td>3.10</td>\n",
       "      <td>3.10</td>\n",
       "      <td>3.10</td>\n",
       "      <td>3.10</td>\n",
       "      <td>3.10</td>\n",
       "    </tr>\n",
       "    <tr>\n",
       "      <th>1</th>\n",
       "      <td>1981.0</td>\n",
       "      <td>3.85</td>\n",
       "      <td>2.70</td>\n",
       "      <td>3.35</td>\n",
       "      <td>3.35</td>\n",
       "      <td>1.9</td>\n",
       "      <td>3.37</td>\n",
       "      <td>3.75</td>\n",
       "      <td>2.0</td>\n",
       "      <td>3.35</td>\n",
       "      <td>...</td>\n",
       "      <td>3.35</td>\n",
       "      <td>2.3</td>\n",
       "      <td>3.25</td>\n",
       "      <td>2.75</td>\n",
       "      <td>1.6</td>\n",
       "      <td>3.35</td>\n",
       "      <td>3.35</td>\n",
       "      <td>3.35</td>\n",
       "      <td>3.35</td>\n",
       "      <td>3.35</td>\n",
       "    </tr>\n",
       "    <tr>\n",
       "      <th>2</th>\n",
       "      <td>1982.0</td>\n",
       "      <td>3.85</td>\n",
       "      <td>2.70</td>\n",
       "      <td>3.35</td>\n",
       "      <td>3.35</td>\n",
       "      <td>1.9</td>\n",
       "      <td>3.37</td>\n",
       "      <td>3.75</td>\n",
       "      <td>2.0</td>\n",
       "      <td>3.35</td>\n",
       "      <td>...</td>\n",
       "      <td>3.35</td>\n",
       "      <td>2.3</td>\n",
       "      <td>3.25</td>\n",
       "      <td>2.75</td>\n",
       "      <td>1.6</td>\n",
       "      <td>3.35</td>\n",
       "      <td>3.35</td>\n",
       "      <td>3.35</td>\n",
       "      <td>3.35</td>\n",
       "      <td>3.35</td>\n",
       "    </tr>\n",
       "    <tr>\n",
       "      <th>3</th>\n",
       "      <td>1983.0</td>\n",
       "      <td>3.85</td>\n",
       "      <td>2.70</td>\n",
       "      <td>3.35</td>\n",
       "      <td>3.35</td>\n",
       "      <td>1.9</td>\n",
       "      <td>3.37</td>\n",
       "      <td>3.75</td>\n",
       "      <td>2.0</td>\n",
       "      <td>3.35</td>\n",
       "      <td>...</td>\n",
       "      <td>3.35</td>\n",
       "      <td>2.3</td>\n",
       "      <td>3.25</td>\n",
       "      <td>2.75</td>\n",
       "      <td>1.6</td>\n",
       "      <td>3.35</td>\n",
       "      <td>3.35</td>\n",
       "      <td>3.35</td>\n",
       "      <td>3.35</td>\n",
       "      <td>3.35</td>\n",
       "    </tr>\n",
       "    <tr>\n",
       "      <th>4</th>\n",
       "      <td>1984.0</td>\n",
       "      <td>3.85</td>\n",
       "      <td>2.70</td>\n",
       "      <td>3.35</td>\n",
       "      <td>3.35</td>\n",
       "      <td>1.9</td>\n",
       "      <td>3.37</td>\n",
       "      <td>3.75</td>\n",
       "      <td>2.0</td>\n",
       "      <td>3.35</td>\n",
       "      <td>...</td>\n",
       "      <td>3.35</td>\n",
       "      <td>2.3</td>\n",
       "      <td>3.25</td>\n",
       "      <td>2.75</td>\n",
       "      <td>1.6</td>\n",
       "      <td>3.35</td>\n",
       "      <td>3.35</td>\n",
       "      <td>3.35</td>\n",
       "      <td>3.35</td>\n",
       "      <td>3.35</td>\n",
       "    </tr>\n",
       "  </tbody>\n",
       "</table>\n",
       "<p>5 rows × 55 columns</p>\n",
       "</div>"
      ],
      "text/plain": [
       "     DATE  Alaska  Arkansas  Arizona  California  Colorado  Connecticut  \\\n",
       "0  1980.0    3.60      2.55     3.10        2.90       1.9         3.12   \n",
       "1  1981.0    3.85      2.70     3.35        3.35       1.9         3.37   \n",
       "2  1982.0    3.85      2.70     3.35        3.35       1.9         3.37   \n",
       "3  1983.0    3.85      2.70     3.35        3.35       1.9         3.37   \n",
       "4  1984.0    3.85      2.70     3.35        3.35       1.9         3.37   \n",
       "\n",
       "   District of Columbia  Delaware  \\\n",
       "0                  3.50       2.0   \n",
       "1                  3.75       2.0   \n",
       "2                  3.75       2.0   \n",
       "3                  3.75       2.0   \n",
       "4                  3.75       2.0   \n",
       "\n",
       "   Federal Minimum Wage Rate under the Federal Fair Labor Standards Act  ...  \\\n",
       "0                                               3.10                     ...   \n",
       "1                                               3.35                     ...   \n",
       "2                                               3.35                     ...   \n",
       "3                                               3.35                     ...   \n",
       "4                                               3.35                     ...   \n",
       "\n",
       "   Vermont  Washington  Wisconsin  West Virginia  Wyoming  Alabama  Louisiana  \\\n",
       "0     3.10         2.3       3.00           2.20      1.6     3.10       3.10   \n",
       "1     3.35         2.3       3.25           2.75      1.6     3.35       3.35   \n",
       "2     3.35         2.3       3.25           2.75      1.6     3.35       3.35   \n",
       "3     3.35         2.3       3.25           2.75      1.6     3.35       3.35   \n",
       "4     3.35         2.3       3.25           2.75      1.6     3.35       3.35   \n",
       "\n",
       "   Mississippi  South Carolina  Tennessee  \n",
       "0         3.10            3.10       3.10  \n",
       "1         3.35            3.35       3.35  \n",
       "2         3.35            3.35       3.35  \n",
       "3         3.35            3.35       3.35  \n",
       "4         3.35            3.35       3.35  \n",
       "\n",
       "[5 rows x 55 columns]"
      ]
     },
     "execution_count": 82,
     "metadata": {},
     "output_type": "execute_result"
    }
   ],
   "source": [
    "min_wage.head()"
   ]
  },
  {
   "cell_type": "code",
   "execution_count": 83,
   "id": "a88fdbd3",
   "metadata": {},
   "outputs": [
    {
     "data": {
      "text/plain": [
       "Index(['DATE', 'Alaska', 'Arkansas', 'Arizona', 'California', 'Colorado',\n",
       "       'Connecticut', 'District of Columbia', 'Delaware',\n",
       "       'Federal Minimum Wage Rate under the Federal Fair Labor Standards Act',\n",
       "       'Florida', 'Georgia', 'Hawaii', 'Iowa', 'Idaho', 'Illinois', 'Indiana',\n",
       "       'Kansas', 'Kentucky', 'Massachusettes', 'Maryland', 'Maine', 'Michigan',\n",
       "       'Minnesota', 'Missouri', 'Montana', 'North Carolina', 'North Dakota',\n",
       "       'Nebraska', 'New Hampshire', 'New Jersey', 'New Mexico', 'Nevada',\n",
       "       'New York', 'Ohio', 'Oklahoma', 'Oregon', 'Pennsylvania', 'Puerto Rico',\n",
       "       'Rhode Island', 'South Dakota', 'Texas', 'Utah', 'Virginia',\n",
       "       'Virgin Islands', 'Vermont', 'Washington', 'Wisconsin', 'West Virginia',\n",
       "       'Wyoming', 'Alabama', 'Louisiana', 'Mississippi', 'South Carolina',\n",
       "       'Tennessee'],\n",
       "      dtype='object')"
      ]
     },
     "execution_count": 83,
     "metadata": {},
     "output_type": "execute_result"
    }
   ],
   "source": [
    "min_wage.columns"
   ]
  },
  {
   "cell_type": "code",
   "execution_count": 84,
   "id": "ea5e1d24",
   "metadata": {},
   "outputs": [],
   "source": [
    "min_wage = min_wage.drop(columns = ['Federal Minimum Wage Rate under the Federal Fair Labor Standards Act', 'Puerto Rico', 'Virgin Islands'])"
   ]
  },
  {
   "cell_type": "code",
   "execution_count": 85,
   "id": "6c92aa31",
   "metadata": {},
   "outputs": [],
   "source": [
    "min_wage = pd.melt(min_wage, id_vars=['DATE'], value_vars = ['Alaska','Arkansas', 'Arizona', 'California', 'Colorado',\n",
    "       'Connecticut', 'District of Columbia', 'Delaware',\n",
    "       'Florida', 'Georgia', 'Hawaii','Iowa', 'Idaho', 'Illinois', 'Indiana',\n",
    "       'Kansas', 'Kentucky', 'Massachusettes', 'Maryland', 'Maine', 'Michigan',\n",
    "       'Minnesota', 'Missouri', 'Montana', 'North Carolina', 'North Dakota',\n",
    "       'Nebraska', 'New Hampshire', 'New Jersey', 'New Mexico', 'Nevada',\n",
    "       'New York', 'Ohio', 'Oklahoma', 'Oregon', 'Pennsylvania',\n",
    "       'Rhode Island', 'South Dakota', 'Texas', 'Utah', 'Virginia',\n",
    "       'Vermont', 'Washington', 'Wisconsin', 'West Virginia',\n",
    "       'Wyoming', 'Alabama', 'Louisiana', 'Mississippi', 'South Carolina',\n",
    "       'Tennessee'], var_name='state', value_name = 'min_wage')\n",
    "min_wage = min_wage.dropna()"
   ]
  },
  {
   "cell_type": "code",
   "execution_count": 86,
   "id": "c44965d5",
   "metadata": {},
   "outputs": [
    {
     "data": {
      "text/html": [
       "<div>\n",
       "<style scoped>\n",
       "    .dataframe tbody tr th:only-of-type {\n",
       "        vertical-align: middle;\n",
       "    }\n",
       "\n",
       "    .dataframe tbody tr th {\n",
       "        vertical-align: top;\n",
       "    }\n",
       "\n",
       "    .dataframe thead th {\n",
       "        text-align: right;\n",
       "    }\n",
       "</style>\n",
       "<table border=\"1\" class=\"dataframe\">\n",
       "  <thead>\n",
       "    <tr style=\"text-align: right;\">\n",
       "      <th></th>\n",
       "      <th>DATE</th>\n",
       "      <th>state</th>\n",
       "      <th>min_wage</th>\n",
       "    </tr>\n",
       "  </thead>\n",
       "  <tbody>\n",
       "    <tr>\n",
       "      <th>0</th>\n",
       "      <td>1980</td>\n",
       "      <td>Alaska</td>\n",
       "      <td>3.60</td>\n",
       "    </tr>\n",
       "    <tr>\n",
       "      <th>1</th>\n",
       "      <td>1981</td>\n",
       "      <td>Alaska</td>\n",
       "      <td>3.85</td>\n",
       "    </tr>\n",
       "    <tr>\n",
       "      <th>2</th>\n",
       "      <td>1982</td>\n",
       "      <td>Alaska</td>\n",
       "      <td>3.85</td>\n",
       "    </tr>\n",
       "    <tr>\n",
       "      <th>3</th>\n",
       "      <td>1983</td>\n",
       "      <td>Alaska</td>\n",
       "      <td>3.85</td>\n",
       "    </tr>\n",
       "    <tr>\n",
       "      <th>4</th>\n",
       "      <td>1984</td>\n",
       "      <td>Alaska</td>\n",
       "      <td>3.85</td>\n",
       "    </tr>\n",
       "  </tbody>\n",
       "</table>\n",
       "</div>"
      ],
      "text/plain": [
       "   DATE   state  min_wage\n",
       "0  1980  Alaska      3.60\n",
       "1  1981  Alaska      3.85\n",
       "2  1982  Alaska      3.85\n",
       "3  1983  Alaska      3.85\n",
       "4  1984  Alaska      3.85"
      ]
     },
     "execution_count": 86,
     "metadata": {},
     "output_type": "execute_result"
    }
   ],
   "source": [
    "min_wage['DATE'] = min_wage.DATE.apply(int)\n",
    "min_wage.head()"
   ]
  },
  {
   "cell_type": "code",
   "execution_count": 87,
   "id": "8c609c13",
   "metadata": {},
   "outputs": [
    {
     "data": {
      "text/html": [
       "<div>\n",
       "<style scoped>\n",
       "    .dataframe tbody tr th:only-of-type {\n",
       "        vertical-align: middle;\n",
       "    }\n",
       "\n",
       "    .dataframe tbody tr th {\n",
       "        vertical-align: top;\n",
       "    }\n",
       "\n",
       "    .dataframe thead th {\n",
       "        text-align: right;\n",
       "    }\n",
       "</style>\n",
       "<table border=\"1\" class=\"dataframe\">\n",
       "  <thead>\n",
       "    <tr style=\"text-align: right;\">\n",
       "      <th></th>\n",
       "      <th>year</th>\n",
       "      <th>state</th>\n",
       "      <th>min_wage</th>\n",
       "    </tr>\n",
       "  </thead>\n",
       "  <tbody>\n",
       "    <tr>\n",
       "      <th>0</th>\n",
       "      <td>1980</td>\n",
       "      <td>Alaska</td>\n",
       "      <td>3.60</td>\n",
       "    </tr>\n",
       "    <tr>\n",
       "      <th>1</th>\n",
       "      <td>1981</td>\n",
       "      <td>Alaska</td>\n",
       "      <td>3.85</td>\n",
       "    </tr>\n",
       "    <tr>\n",
       "      <th>2</th>\n",
       "      <td>1982</td>\n",
       "      <td>Alaska</td>\n",
       "      <td>3.85</td>\n",
       "    </tr>\n",
       "    <tr>\n",
       "      <th>3</th>\n",
       "      <td>1983</td>\n",
       "      <td>Alaska</td>\n",
       "      <td>3.85</td>\n",
       "    </tr>\n",
       "    <tr>\n",
       "      <th>4</th>\n",
       "      <td>1984</td>\n",
       "      <td>Alaska</td>\n",
       "      <td>3.85</td>\n",
       "    </tr>\n",
       "  </tbody>\n",
       "</table>\n",
       "</div>"
      ],
      "text/plain": [
       "   year   state  min_wage\n",
       "0  1980  Alaska      3.60\n",
       "1  1981  Alaska      3.85\n",
       "2  1982  Alaska      3.85\n",
       "3  1983  Alaska      3.85\n",
       "4  1984  Alaska      3.85"
      ]
     },
     "execution_count": 87,
     "metadata": {},
     "output_type": "execute_result"
    }
   ],
   "source": [
    "min_wage = min_wage.rename(columns = {'DATE':'year'})\n",
    "min_wage.head()"
   ]
  },
  {
   "cell_type": "code",
   "execution_count": 89,
   "id": "4c6120bc",
   "metadata": {},
   "outputs": [],
   "source": [
    "min_wage = min_wage[min_wage.year <= 2018]"
   ]
  },
  {
   "cell_type": "code",
   "execution_count": 90,
   "id": "9c4c663f",
   "metadata": {},
   "outputs": [
    {
     "data": {
      "text/plain": [
       "(1989, 3)"
      ]
     },
     "execution_count": 90,
     "metadata": {},
     "output_type": "execute_result"
    }
   ],
   "source": [
    "min_wage.shape"
   ]
  },
  {
   "cell_type": "markdown",
   "id": "b80249c1",
   "metadata": {},
   "source": [
    "___"
   ]
  },
  {
   "cell_type": "code",
   "execution_count": 102,
   "id": "f7edf132",
   "metadata": {},
   "outputs": [],
   "source": []
  },
  {
   "cell_type": "code",
   "execution_count": 151,
   "id": "edece386",
   "metadata": {},
   "outputs": [
    {
     "data": {
      "text/html": [
       "<div>\n",
       "<style scoped>\n",
       "    .dataframe tbody tr th:only-of-type {\n",
       "        vertical-align: middle;\n",
       "    }\n",
       "\n",
       "    .dataframe tbody tr th {\n",
       "        vertical-align: top;\n",
       "    }\n",
       "\n",
       "    .dataframe thead th {\n",
       "        text-align: right;\n",
       "    }\n",
       "</style>\n",
       "<table border=\"1\" class=\"dataframe\">\n",
       "  <thead>\n",
       "    <tr style=\"text-align: right;\">\n",
       "      <th></th>\n",
       "      <th>state</th>\n",
       "      <th>year</th>\n",
       "      <th>emissions</th>\n",
       "    </tr>\n",
       "  </thead>\n",
       "  <tbody>\n",
       "    <tr>\n",
       "      <th>0</th>\n",
       "      <td>Alabama</td>\n",
       "      <td>1980</td>\n",
       "      <td>3.6</td>\n",
       "    </tr>\n",
       "    <tr>\n",
       "      <th>1</th>\n",
       "      <td>Alabama</td>\n",
       "      <td>1981</td>\n",
       "      <td>3.4</td>\n",
       "    </tr>\n",
       "    <tr>\n",
       "      <th>2</th>\n",
       "      <td>Alabama</td>\n",
       "      <td>1982</td>\n",
       "      <td>3.4</td>\n",
       "    </tr>\n",
       "    <tr>\n",
       "      <th>3</th>\n",
       "      <td>Alabama</td>\n",
       "      <td>1983</td>\n",
       "      <td>3.5</td>\n",
       "    </tr>\n",
       "    <tr>\n",
       "      <th>4</th>\n",
       "      <td>Alabama</td>\n",
       "      <td>1984</td>\n",
       "      <td>3.3</td>\n",
       "    </tr>\n",
       "  </tbody>\n",
       "</table>\n",
       "</div>"
      ],
      "text/plain": [
       "     state  year  emissions\n",
       "0  Alabama  1980        3.6\n",
       "1  Alabama  1981        3.4\n",
       "2  Alabama  1982        3.4\n",
       "3  Alabama  1983        3.5\n",
       "4  Alabama  1984        3.3"
      ]
     },
     "execution_count": 151,
     "metadata": {},
     "output_type": "execute_result"
    }
   ],
   "source": [
    "c1 = carbon.sort_values(['state', 'year'])\n",
    "c1 = c1.reset_index()\n",
    "c1 = c1.drop(columns='index')\n",
    "c1.head()"
   ]
  },
  {
   "cell_type": "code",
   "execution_count": 152,
   "id": "a8038c9e",
   "metadata": {},
   "outputs": [
    {
     "data": {
      "text/html": [
       "<div>\n",
       "<style scoped>\n",
       "    .dataframe tbody tr th:only-of-type {\n",
       "        vertical-align: middle;\n",
       "    }\n",
       "\n",
       "    .dataframe tbody tr th {\n",
       "        vertical-align: top;\n",
       "    }\n",
       "\n",
       "    .dataframe thead th {\n",
       "        text-align: right;\n",
       "    }\n",
       "</style>\n",
       "<table border=\"1\" class=\"dataframe\">\n",
       "  <thead>\n",
       "    <tr style=\"text-align: right;\">\n",
       "      <th></th>\n",
       "      <th>year</th>\n",
       "      <th>state</th>\n",
       "      <th>theil</th>\n",
       "    </tr>\n",
       "  </thead>\n",
       "  <tbody>\n",
       "    <tr>\n",
       "      <th>0</th>\n",
       "      <td>1980</td>\n",
       "      <td>Alabama</td>\n",
       "      <td>0.397920</td>\n",
       "    </tr>\n",
       "    <tr>\n",
       "      <th>1</th>\n",
       "      <td>1981</td>\n",
       "      <td>Alabama</td>\n",
       "      <td>0.383564</td>\n",
       "    </tr>\n",
       "    <tr>\n",
       "      <th>2</th>\n",
       "      <td>1982</td>\n",
       "      <td>Alabama</td>\n",
       "      <td>0.361735</td>\n",
       "    </tr>\n",
       "    <tr>\n",
       "      <th>3</th>\n",
       "      <td>1983</td>\n",
       "      <td>Alabama</td>\n",
       "      <td>0.357333</td>\n",
       "    </tr>\n",
       "    <tr>\n",
       "      <th>4</th>\n",
       "      <td>1984</td>\n",
       "      <td>Alabama</td>\n",
       "      <td>0.367350</td>\n",
       "    </tr>\n",
       "  </tbody>\n",
       "</table>\n",
       "</div>"
      ],
      "text/plain": [
       "   year    state     theil\n",
       "0  1980  Alabama  0.397920\n",
       "1  1981  Alabama  0.383564\n",
       "2  1982  Alabama  0.361735\n",
       "3  1983  Alabama  0.357333\n",
       "4  1984  Alabama  0.367350"
      ]
     },
     "execution_count": 152,
     "metadata": {},
     "output_type": "execute_result"
    }
   ],
   "source": [
    "in1 = inequality.sort_values(['state', 'year'])\n",
    "\n",
    "in1 = in1.reset_index()\n",
    "in1 = in1.drop(columns='index')\n",
    "\n",
    "in1.head()"
   ]
  },
  {
   "cell_type": "code",
   "execution_count": 153,
   "id": "5fe669a9",
   "metadata": {},
   "outputs": [
    {
     "data": {
      "text/html": [
       "<div>\n",
       "<style scoped>\n",
       "    .dataframe tbody tr th:only-of-type {\n",
       "        vertical-align: middle;\n",
       "    }\n",
       "\n",
       "    .dataframe tbody tr th {\n",
       "        vertical-align: top;\n",
       "    }\n",
       "\n",
       "    .dataframe thead th {\n",
       "        text-align: right;\n",
       "    }\n",
       "</style>\n",
       "<table border=\"1\" class=\"dataframe\">\n",
       "  <thead>\n",
       "    <tr style=\"text-align: right;\">\n",
       "      <th></th>\n",
       "      <th>year</th>\n",
       "      <th>state</th>\n",
       "      <th>min_wage</th>\n",
       "    </tr>\n",
       "  </thead>\n",
       "  <tbody>\n",
       "    <tr>\n",
       "      <th>0</th>\n",
       "      <td>1980</td>\n",
       "      <td>Alabama</td>\n",
       "      <td>3.10</td>\n",
       "    </tr>\n",
       "    <tr>\n",
       "      <th>1</th>\n",
       "      <td>1981</td>\n",
       "      <td>Alabama</td>\n",
       "      <td>3.35</td>\n",
       "    </tr>\n",
       "    <tr>\n",
       "      <th>2</th>\n",
       "      <td>1982</td>\n",
       "      <td>Alabama</td>\n",
       "      <td>3.35</td>\n",
       "    </tr>\n",
       "    <tr>\n",
       "      <th>3</th>\n",
       "      <td>1983</td>\n",
       "      <td>Alabama</td>\n",
       "      <td>3.35</td>\n",
       "    </tr>\n",
       "    <tr>\n",
       "      <th>4</th>\n",
       "      <td>1984</td>\n",
       "      <td>Alabama</td>\n",
       "      <td>3.35</td>\n",
       "    </tr>\n",
       "  </tbody>\n",
       "</table>\n",
       "</div>"
      ],
      "text/plain": [
       "   year    state  min_wage\n",
       "0  1980  Alabama      3.10\n",
       "1  1981  Alabama      3.35\n",
       "2  1982  Alabama      3.35\n",
       "3  1983  Alabama      3.35\n",
       "4  1984  Alabama      3.35"
      ]
     },
     "execution_count": 153,
     "metadata": {},
     "output_type": "execute_result"
    }
   ],
   "source": [
    "min1 = min_wage.sort_values(['state', 'year'])\n",
    "min1 = min1.reset_index()\n",
    "min1= min1.drop(columns='index')\n",
    "min1.head()"
   ]
  },
  {
   "cell_type": "code",
   "execution_count": 163,
   "id": "2a8778b8",
   "metadata": {},
   "outputs": [],
   "source": [
    "df = pd.DataFrame({'year':c1.year,'state':c1.state, 'emissions':c1.emissions,'min_wage':min1.min_wage, 'theil':in1.theil})"
   ]
  },
  {
   "cell_type": "code",
   "execution_count": 336,
   "id": "0daf0511",
   "metadata": {},
   "outputs": [],
   "source": [
    "summary_stats = df.groupby(['year']).describe()"
   ]
  },
  {
   "cell_type": "code",
   "execution_count": 237,
   "id": "f0c515df",
   "metadata": {},
   "outputs": [],
   "source": [
    "model = smf.ols(formula = 'emissions~theil',data=df).fit()"
   ]
  },
  {
   "cell_type": "code",
   "execution_count": 238,
   "id": "84316285",
   "metadata": {},
   "outputs": [
    {
     "data": {
      "text/html": [
       "<table class=\"simpletable\">\n",
       "<caption>OLS Regression Results</caption>\n",
       "<tr>\n",
       "  <th>Dep. Variable:</th>        <td>emissions</td>    <th>  R-squared:         </th> <td>   0.049</td> \n",
       "</tr>\n",
       "<tr>\n",
       "  <th>Model:</th>                   <td>OLS</td>       <th>  Adj. R-squared:    </th> <td>   0.049</td> \n",
       "</tr>\n",
       "<tr>\n",
       "  <th>Method:</th>             <td>Least Squares</td>  <th>  F-statistic:       </th> <td>   102.6</td> \n",
       "</tr>\n",
       "<tr>\n",
       "  <th>Date:</th>             <td>Sun, 19 Dec 2021</td> <th>  Prob (F-statistic):</th> <td>1.49e-23</td> \n",
       "</tr>\n",
       "<tr>\n",
       "  <th>Time:</th>                 <td>01:10:14</td>     <th>  Log-Likelihood:    </th> <td> -6909.5</td> \n",
       "</tr>\n",
       "<tr>\n",
       "  <th>No. Observations:</th>      <td>  1989</td>      <th>  AIC:               </th> <td>1.382e+04</td>\n",
       "</tr>\n",
       "<tr>\n",
       "  <th>Df Residuals:</th>          <td>  1987</td>      <th>  BIC:               </th> <td>1.383e+04</td>\n",
       "</tr>\n",
       "<tr>\n",
       "  <th>Df Model:</th>              <td>     1</td>      <th>                     </th>     <td> </td>    \n",
       "</tr>\n",
       "<tr>\n",
       "  <th>Covariance Type:</th>      <td>nonrobust</td>    <th>                     </th>     <td> </td>    \n",
       "</tr>\n",
       "</table>\n",
       "<table class=\"simpletable\">\n",
       "<tr>\n",
       "      <td></td>         <th>coef</th>     <th>std err</th>      <th>t</th>      <th>P>|t|</th>  <th>[0.025</th>    <th>0.975]</th>  \n",
       "</tr>\n",
       "<tr>\n",
       "  <th>Intercept</th> <td>    1.3173</td> <td>    0.578</td> <td>    2.279</td> <td> 0.023</td> <td>    0.184</td> <td>    2.451</td>\n",
       "</tr>\n",
       "<tr>\n",
       "  <th>theil</th>     <td>    7.8604</td> <td>    0.776</td> <td>   10.131</td> <td> 0.000</td> <td>    6.339</td> <td>    9.382</td>\n",
       "</tr>\n",
       "</table>\n",
       "<table class=\"simpletable\">\n",
       "<tr>\n",
       "  <th>Omnibus:</th>       <td>618.553</td> <th>  Durbin-Watson:     </th> <td>   0.083</td>\n",
       "</tr>\n",
       "<tr>\n",
       "  <th>Prob(Omnibus):</th> <td> 0.000</td>  <th>  Jarque-Bera (JB):  </th> <td>1496.102</td>\n",
       "</tr>\n",
       "<tr>\n",
       "  <th>Skew:</th>          <td> 1.725</td>  <th>  Prob(JB):          </th> <td>    0.00</td>\n",
       "</tr>\n",
       "<tr>\n",
       "  <th>Kurtosis:</th>      <td> 5.481</td>  <th>  Cond. No.          </th> <td>    6.74</td>\n",
       "</tr>\n",
       "</table><br/><br/>Notes:<br/>[1] Standard Errors assume that the covariance matrix of the errors is correctly specified."
      ],
      "text/plain": [
       "<class 'statsmodels.iolib.summary.Summary'>\n",
       "\"\"\"\n",
       "                            OLS Regression Results                            \n",
       "==============================================================================\n",
       "Dep. Variable:              emissions   R-squared:                       0.049\n",
       "Model:                            OLS   Adj. R-squared:                  0.049\n",
       "Method:                 Least Squares   F-statistic:                     102.6\n",
       "Date:                Sun, 19 Dec 2021   Prob (F-statistic):           1.49e-23\n",
       "Time:                        01:10:14   Log-Likelihood:                -6909.5\n",
       "No. Observations:                1989   AIC:                         1.382e+04\n",
       "Df Residuals:                    1987   BIC:                         1.383e+04\n",
       "Df Model:                           1                                         \n",
       "Covariance Type:            nonrobust                                         \n",
       "==============================================================================\n",
       "                 coef    std err          t      P>|t|      [0.025      0.975]\n",
       "------------------------------------------------------------------------------\n",
       "Intercept      1.3173      0.578      2.279      0.023       0.184       2.451\n",
       "theil          7.8604      0.776     10.131      0.000       6.339       9.382\n",
       "==============================================================================\n",
       "Omnibus:                      618.553   Durbin-Watson:                   0.083\n",
       "Prob(Omnibus):                  0.000   Jarque-Bera (JB):             1496.102\n",
       "Skew:                           1.725   Prob(JB):                         0.00\n",
       "Kurtosis:                       5.481   Cond. No.                         6.74\n",
       "==============================================================================\n",
       "\n",
       "Notes:\n",
       "[1] Standard Errors assume that the covariance matrix of the errors is correctly specified.\n",
       "\"\"\""
      ]
     },
     "execution_count": 238,
     "metadata": {},
     "output_type": "execute_result"
    }
   ],
   "source": [
    "model.summary()"
   ]
  },
  {
   "cell_type": "code",
   "execution_count": 266,
   "id": "93668ef4",
   "metadata": {},
   "outputs": [],
   "source": [
    "region = pd.read_csv(\"/Users/shreyanskothari/Desktop/Quant theory : methodology/Data/Income Inequality/region.csv\", sep=',')"
   ]
  },
  {
   "cell_type": "code",
   "execution_count": 305,
   "id": "f77c3800",
   "metadata": {},
   "outputs": [
    {
     "data": {
      "text/html": [
       "<div>\n",
       "<style scoped>\n",
       "    .dataframe tbody tr th:only-of-type {\n",
       "        vertical-align: middle;\n",
       "    }\n",
       "\n",
       "    .dataframe tbody tr th {\n",
       "        vertical-align: top;\n",
       "    }\n",
       "\n",
       "    .dataframe thead th {\n",
       "        text-align: right;\n",
       "    }\n",
       "</style>\n",
       "<table border=\"1\" class=\"dataframe\">\n",
       "  <thead>\n",
       "    <tr style=\"text-align: right;\">\n",
       "      <th></th>\n",
       "      <th>state</th>\n",
       "      <th>region</th>\n",
       "    </tr>\n",
       "  </thead>\n",
       "  <tbody>\n",
       "    <tr>\n",
       "      <th>0</th>\n",
       "      <td>Alabama</td>\n",
       "      <td>SO</td>\n",
       "    </tr>\n",
       "    <tr>\n",
       "      <th>1</th>\n",
       "      <td>Alaska</td>\n",
       "      <td>WE</td>\n",
       "    </tr>\n",
       "    <tr>\n",
       "      <th>2</th>\n",
       "      <td>Arizona</td>\n",
       "      <td>WE</td>\n",
       "    </tr>\n",
       "    <tr>\n",
       "      <th>3</th>\n",
       "      <td>Arkansas</td>\n",
       "      <td>SO</td>\n",
       "    </tr>\n",
       "    <tr>\n",
       "      <th>4</th>\n",
       "      <td>California</td>\n",
       "      <td>WE</td>\n",
       "    </tr>\n",
       "  </tbody>\n",
       "</table>\n",
       "</div>"
      ],
      "text/plain": [
       "        state region\n",
       "0     Alabama     SO\n",
       "1      Alaska     WE\n",
       "2     Arizona     WE\n",
       "3    Arkansas     SO\n",
       "4  California     WE"
      ]
     },
     "execution_count": 305,
     "metadata": {},
     "output_type": "execute_result"
    }
   ],
   "source": [
    "region.head()"
   ]
  },
  {
   "cell_type": "code",
   "execution_count": 275,
   "id": "4929bd4c",
   "metadata": {},
   "outputs": [],
   "source": [
    "df1 = pd.merge(df, region, on = 'state', how = 'inner')"
   ]
  },
  {
   "cell_type": "code",
   "execution_count": 289,
   "id": "ca088a3b",
   "metadata": {},
   "outputs": [],
   "source": [
    "cpi = pd.read_csv(\"/Users/shreyanskothari/Desktop/Quant theory : methodology/Data/Income Inequality/CPI.csv\", sep = ',')"
   ]
  },
  {
   "cell_type": "code",
   "execution_count": 365,
   "id": "217c01dd",
   "metadata": {},
   "outputs": [
    {
     "data": {
      "text/html": [
       "<div>\n",
       "<style scoped>\n",
       "    .dataframe tbody tr th:only-of-type {\n",
       "        vertical-align: middle;\n",
       "    }\n",
       "\n",
       "    .dataframe tbody tr th {\n",
       "        vertical-align: top;\n",
       "    }\n",
       "\n",
       "    .dataframe thead th {\n",
       "        text-align: right;\n",
       "    }\n",
       "</style>\n",
       "<table border=\"1\" class=\"dataframe\">\n",
       "  <thead>\n",
       "    <tr style=\"text-align: right;\">\n",
       "      <th></th>\n",
       "      <th>year</th>\n",
       "      <th>CPI</th>\n",
       "    </tr>\n",
       "  </thead>\n",
       "  <tbody>\n",
       "    <tr>\n",
       "      <th>0</th>\n",
       "      <td>1980</td>\n",
       "      <td>82.400</td>\n",
       "    </tr>\n",
       "    <tr>\n",
       "      <th>1</th>\n",
       "      <td>1981</td>\n",
       "      <td>90.900</td>\n",
       "    </tr>\n",
       "    <tr>\n",
       "      <th>2</th>\n",
       "      <td>1982</td>\n",
       "      <td>96.500</td>\n",
       "    </tr>\n",
       "    <tr>\n",
       "      <th>3</th>\n",
       "      <td>1983</td>\n",
       "      <td>99.600</td>\n",
       "    </tr>\n",
       "    <tr>\n",
       "      <th>4</th>\n",
       "      <td>1984</td>\n",
       "      <td>103.900</td>\n",
       "    </tr>\n",
       "    <tr>\n",
       "      <th>5</th>\n",
       "      <td>1985</td>\n",
       "      <td>107.600</td>\n",
       "    </tr>\n",
       "    <tr>\n",
       "      <th>6</th>\n",
       "      <td>1986</td>\n",
       "      <td>109.600</td>\n",
       "    </tr>\n",
       "    <tr>\n",
       "      <th>7</th>\n",
       "      <td>1987</td>\n",
       "      <td>113.600</td>\n",
       "    </tr>\n",
       "    <tr>\n",
       "      <th>8</th>\n",
       "      <td>1988</td>\n",
       "      <td>118.300</td>\n",
       "    </tr>\n",
       "    <tr>\n",
       "      <th>9</th>\n",
       "      <td>1989</td>\n",
       "      <td>124.000</td>\n",
       "    </tr>\n",
       "    <tr>\n",
       "      <th>10</th>\n",
       "      <td>1990</td>\n",
       "      <td>130.700</td>\n",
       "    </tr>\n",
       "    <tr>\n",
       "      <th>11</th>\n",
       "      <td>1991</td>\n",
       "      <td>136.200</td>\n",
       "    </tr>\n",
       "    <tr>\n",
       "      <th>12</th>\n",
       "      <td>1992</td>\n",
       "      <td>140.300</td>\n",
       "    </tr>\n",
       "    <tr>\n",
       "      <th>13</th>\n",
       "      <td>1993</td>\n",
       "      <td>144.500</td>\n",
       "    </tr>\n",
       "    <tr>\n",
       "      <th>14</th>\n",
       "      <td>1994</td>\n",
       "      <td>148.200</td>\n",
       "    </tr>\n",
       "    <tr>\n",
       "      <th>15</th>\n",
       "      <td>1995</td>\n",
       "      <td>152.400</td>\n",
       "    </tr>\n",
       "    <tr>\n",
       "      <th>16</th>\n",
       "      <td>1996</td>\n",
       "      <td>156.900</td>\n",
       "    </tr>\n",
       "    <tr>\n",
       "      <th>17</th>\n",
       "      <td>1997</td>\n",
       "      <td>160.500</td>\n",
       "    </tr>\n",
       "    <tr>\n",
       "      <th>18</th>\n",
       "      <td>1998</td>\n",
       "      <td>163.000</td>\n",
       "    </tr>\n",
       "    <tr>\n",
       "      <th>19</th>\n",
       "      <td>1999</td>\n",
       "      <td>166.600</td>\n",
       "    </tr>\n",
       "    <tr>\n",
       "      <th>20</th>\n",
       "      <td>2000</td>\n",
       "      <td>172.200</td>\n",
       "    </tr>\n",
       "    <tr>\n",
       "      <th>21</th>\n",
       "      <td>2001</td>\n",
       "      <td>177.100</td>\n",
       "    </tr>\n",
       "    <tr>\n",
       "      <th>22</th>\n",
       "      <td>2002</td>\n",
       "      <td>179.900</td>\n",
       "    </tr>\n",
       "    <tr>\n",
       "      <th>23</th>\n",
       "      <td>2003</td>\n",
       "      <td>184.000</td>\n",
       "    </tr>\n",
       "    <tr>\n",
       "      <th>24</th>\n",
       "      <td>2004</td>\n",
       "      <td>188.900</td>\n",
       "    </tr>\n",
       "    <tr>\n",
       "      <th>25</th>\n",
       "      <td>2005</td>\n",
       "      <td>195.300</td>\n",
       "    </tr>\n",
       "    <tr>\n",
       "      <th>26</th>\n",
       "      <td>2006</td>\n",
       "      <td>201.600</td>\n",
       "    </tr>\n",
       "    <tr>\n",
       "      <th>27</th>\n",
       "      <td>2007</td>\n",
       "      <td>207.300</td>\n",
       "    </tr>\n",
       "    <tr>\n",
       "      <th>28</th>\n",
       "      <td>2008</td>\n",
       "      <td>215.303</td>\n",
       "    </tr>\n",
       "    <tr>\n",
       "      <th>29</th>\n",
       "      <td>2009</td>\n",
       "      <td>214.537</td>\n",
       "    </tr>\n",
       "    <tr>\n",
       "      <th>30</th>\n",
       "      <td>2010</td>\n",
       "      <td>218.056</td>\n",
       "    </tr>\n",
       "    <tr>\n",
       "      <th>31</th>\n",
       "      <td>2011</td>\n",
       "      <td>224.939</td>\n",
       "    </tr>\n",
       "    <tr>\n",
       "      <th>32</th>\n",
       "      <td>2012</td>\n",
       "      <td>224.939</td>\n",
       "    </tr>\n",
       "    <tr>\n",
       "      <th>33</th>\n",
       "      <td>2013</td>\n",
       "      <td>232.957</td>\n",
       "    </tr>\n",
       "    <tr>\n",
       "      <th>34</th>\n",
       "      <td>2014</td>\n",
       "      <td>236.736</td>\n",
       "    </tr>\n",
       "    <tr>\n",
       "      <th>35</th>\n",
       "      <td>2015</td>\n",
       "      <td>237.017</td>\n",
       "    </tr>\n",
       "    <tr>\n",
       "      <th>36</th>\n",
       "      <td>2016</td>\n",
       "      <td>240.007</td>\n",
       "    </tr>\n",
       "    <tr>\n",
       "      <th>37</th>\n",
       "      <td>2017</td>\n",
       "      <td>245.120</td>\n",
       "    </tr>\n",
       "    <tr>\n",
       "      <th>38</th>\n",
       "      <td>2018</td>\n",
       "      <td>251.107</td>\n",
       "    </tr>\n",
       "  </tbody>\n",
       "</table>\n",
       "</div>"
      ],
      "text/plain": [
       "    year      CPI\n",
       "0   1980   82.400\n",
       "1   1981   90.900\n",
       "2   1982   96.500\n",
       "3   1983   99.600\n",
       "4   1984  103.900\n",
       "5   1985  107.600\n",
       "6   1986  109.600\n",
       "7   1987  113.600\n",
       "8   1988  118.300\n",
       "9   1989  124.000\n",
       "10  1990  130.700\n",
       "11  1991  136.200\n",
       "12  1992  140.300\n",
       "13  1993  144.500\n",
       "14  1994  148.200\n",
       "15  1995  152.400\n",
       "16  1996  156.900\n",
       "17  1997  160.500\n",
       "18  1998  163.000\n",
       "19  1999  166.600\n",
       "20  2000  172.200\n",
       "21  2001  177.100\n",
       "22  2002  179.900\n",
       "23  2003  184.000\n",
       "24  2004  188.900\n",
       "25  2005  195.300\n",
       "26  2006  201.600\n",
       "27  2007  207.300\n",
       "28  2008  215.303\n",
       "29  2009  214.537\n",
       "30  2010  218.056\n",
       "31  2011  224.939\n",
       "32  2012  224.939\n",
       "33  2013  232.957\n",
       "34  2014  236.736\n",
       "35  2015  237.017\n",
       "36  2016  240.007\n",
       "37  2017  245.120\n",
       "38  2018  251.107"
      ]
     },
     "execution_count": 365,
     "metadata": {},
     "output_type": "execute_result"
    }
   ],
   "source": [
    "cpi"
   ]
  },
  {
   "cell_type": "code",
   "execution_count": 309,
   "id": "f663e91d",
   "metadata": {},
   "outputs": [],
   "source": [
    "df1['year'] = df1.year.apply(int)\n",
    "cpi['year'] = cpi.year.apply(int)\n",
    "df1 = pd.merge(df1, cpi, on = 'year', how = 'left')\n",
    "df1.head()"
   ]
  },
  {
   "cell_type": "code",
   "execution_count": null,
   "id": "b3aac795",
   "metadata": {},
   "outputs": [],
   "source": [
    "#Adding Inflation Adjusted Wage\n",
    "df1['adj_wage'] = (99.600 / df1['CPI'])*df1['min_wage'] #1983\n",
    "df1.head()"
   ]
  },
  {
   "cell_type": "markdown",
   "id": "ca46b8a7",
   "metadata": {},
   "source": [
    "___"
   ]
  },
  {
   "cell_type": "markdown",
   "id": "daf6761a",
   "metadata": {},
   "source": [
    "### Exploratory Analysis"
   ]
  },
  {
   "cell_type": "code",
   "execution_count": 369,
   "id": "9b2a68c8",
   "metadata": {},
   "outputs": [
    {
     "data": {
      "text/plain": [
       "Index(['emissions', 'min_wage', 'theil', 'CPI', 'adj_wage'], dtype='object')"
      ]
     },
     "execution_count": 369,
     "metadata": {},
     "output_type": "execute_result"
    }
   ],
   "source": [
    "sum_stat = df1.groupby(['year']).mean()\n",
    "sum_stat.columns"
   ]
  },
  {
   "cell_type": "code",
   "execution_count": 370,
   "id": "868f5a0d",
   "metadata": {},
   "outputs": [
    {
     "data": {
      "text/plain": [
       "Text(0, 0.5, 'Unadjusted US Minimum Wage')"
      ]
     },
     "execution_count": 370,
     "metadata": {},
     "output_type": "execute_result"
    },
    {
     "data": {
      "image/png": "[encoded data removed]",
      "text/plain": [
       "<Figure size 432x288 with 1 Axes>"
      ]
     },
     "metadata": {
      "needs_background": "light"
     },
     "output_type": "display_data"
    }
   ],
   "source": [
    "plt.plot(sum_stat.index, sum_stat.min_wage)\n",
    "plt.xlabel(\"Year\")\n",
    "plt.ylabel(\"Unadjusted US Minimum Wage\")"
   ]
  },
  {
   "cell_type": "code",
   "execution_count": 371,
   "id": "39ad82da",
   "metadata": {},
   "outputs": [
    {
     "data": {
      "text/plain": [
       "Text(0.5, 1.0, 'US Minimum Wage Over the Years')"
      ]
     },
     "execution_count": 371,
     "metadata": {},
     "output_type": "execute_result"
    },
    {
     "data": {
      "image/png": "[encoded data removed]",
      "text/plain": [
       "<Figure size 432x288 with 1 Axes>"
      ]
     },
     "metadata": {
      "needs_background": "light"
     },
     "output_type": "display_data"
    }
   ],
   "source": [
    "plt.plot(sum_stat.index, sum_stat.adj_wage, label=\"Inflation Adjusted Wage\")\n",
    "plt.plot(sum_stat.index, sum_stat.min_wage, label=\"Unadjusted Wage\")\n",
    "plt.legend(loc=\"lower right\")\n",
    "\n",
    "plt.xlabel(\"Year\")\n",
    "plt.ylabel(\"Minimum Wage\")\n",
    "plt.title(\"US Minimum Wage Over the Years\")"
   ]
  },
  {
   "cell_type": "code",
   "execution_count": 374,
   "id": "adf4025a",
   "metadata": {},
   "outputs": [
    {
     "data": {
      "text/plain": [
       "Text(0.5, 1.0, 'Average US Residential CO2 Emissions')"
      ]
     },
     "execution_count": 374,
     "metadata": {},
     "output_type": "execute_result"
    },
    {
     "data": {
      "image/png": "[encoded data removed]",
      "text/plain": [
       "<Figure size 432x288 with 1 Axes>"
      ]
     },
     "metadata": {
      "needs_background": "light"
     },
     "output_type": "display_data"
    }
   ],
   "source": [
    "plt.plot(sum_stat.index, sum_stat.emissions)\n",
    "plt.xlabel(\"Year\")\n",
    "plt.ylabel(\"Carbon Emissions\")\n",
    "plt.title(\"Average US Residential CO2 Emissions\")"
   ]
  },
  {
   "cell_type": "code",
   "execution_count": 356,
   "id": "a8bcea6f",
   "metadata": {},
   "outputs": [
    {
     "data": {
      "text/plain": [
       "Text(0.5, 1.0, 'Inequality in the US, over the years')"
      ]
     },
     "execution_count": 356,
     "metadata": {},
     "output_type": "execute_result"
    },
    {
     "data": {
      "image/png": "[encoded data removed]",
      "text/plain": [
       "<Figure size 432x288 with 1 Axes>"
      ]
     },
     "metadata": {
      "needs_background": "light"
     },
     "output_type": "display_data"
    }
   ],
   "source": [
    "plt.plot(sum_stat.index, sum_stat.theil)\n",
    "plt.xlabel(\"Year\")\n",
    "plt.ylabel(\"Theil Index\")\n",
    "plt.title(\"Inequality in the US, over the years\")"
   ]
  },
  {
   "cell_type": "code",
   "execution_count": 372,
   "id": "4344bd1a",
   "metadata": {},
   "outputs": [
    {
     "data": {
      "text/plain": [
       "<matplotlib.collections.PathCollection at 0x7fa123d4df10>"
      ]
     },
     "execution_count": 372,
     "metadata": {},
     "output_type": "execute_result"
    },
    {
     "data": {
      "image/png": "[encoded data removed]",
      "text/plain": [
       "<Figure size 432x288 with 1 Axes>"
      ]
     },
     "metadata": {
      "needs_background": "light"
     },
     "output_type": "display_data"
    }
   ],
   "source": [
    "plt.scatter(sum_stat.adj_wage, sum_stat.emissions)"
   ]
  },
  {
   "cell_type": "markdown",
   "id": "5d5e9645",
   "metadata": {},
   "source": [
    "___"
   ]
  },
  {
   "cell_type": "markdown",
   "id": "6b28265a",
   "metadata": {},
   "source": [
    "### Regression"
   ]
  },
  {
   "cell_type": "code",
   "execution_count": 376,
   "id": "6884f607",
   "metadata": {},
   "outputs": [],
   "source": [
    "model1 = smf.ols(formula = 'emissions~theil+min_wage+region',data=df1).fit()"
   ]
  },
  {
   "cell_type": "code",
   "execution_count": null,
   "id": "c1abc4f9",
   "metadata": {},
   "outputs": [],
   "source": [
    "model1.summary()"
   ]
  }
 ],
 "metadata": {
  "kernelspec": {
   "display_name": "Python 3",
   "language": "python",
   "name": "python3"
  },
  "language_info": {
   "codemirror_mode": {
    "name": "ipython",
    "version": 3
   },
   "file_extension": ".py",
   "mimetype": "text/x-python",
   "name": "python",
   "nbconvert_exporter": "python",
   "pygments_lexer": "ipython3",
   "version": "3.8.8"
  }
 },
 "nbformat": 4,
 "nbformat_minor": 5
}
